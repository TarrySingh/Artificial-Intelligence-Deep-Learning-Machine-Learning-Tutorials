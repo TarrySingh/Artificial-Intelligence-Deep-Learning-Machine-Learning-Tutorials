{
 "cells": [
  {
   "cell_type": "markdown",
   "metadata": {},
   "source": [
    "## Neural Networks\n",
    "\n",
    "Neural networks are currently the most prominent machine learning method, and not without good reason - they are very powerful. Here I will do a fairly quick introduction to their basics. I won't go into their history and I won't go too far into the technical weeds - just enough to equip you for learning more on your own. Additional guides will go deeper into specific architectures and approaches. I will try to be very explicit about what parts are \"up in the air\" (i.e. modifiable) so you get a sense of where you can experiment with new neural networks.\n",
    "\n",
    "If you do want more details about their history, design, and use cases, take a look at the [ml4a chapter on neural networks](http://ml4a.github.io/ml4a/neural_networks/). Additionally, I highly recommend Michael Nielsen's [Neural Networks and Deep Learning](http://neuralnetworksanddeeplearning.com/), Goodfellow, Bengio, and Courville's [Deep Learning](http://www.deeplearningbook.org/) book, and Yoav Goldberg's \"[A Primer on Neural Network Models for Natural Language Processing](http://arxiv.org/abs/1510.00726)\". [My notes](http://frnsys.com/ai_notes/machine_learning/neural_nets.html) on neural networks include a lot more details and additional resources as well.\n",
    "\n",
    "For the other neural network guides I will mostly rely on the excellent [Keras](http://keras.io/) library, which makes it very easy to build neural networks and can take advantage of [Theano](http://deeplearning.net/software/theano/) or [TensorFlow](https://www.tensorflow.org/)'s optimizations and speed. However, to demonstrate the basics of neural networks, I'll use `numpy` so we can see exactly what's happening every step of the way.\n",
    "\n",
    "### What is a neural network?\n",
    "\n",
    "A neural network is pretty simple - it's just a _network_ of _neurons_! That is, it is some neurons - often called \"units\", the terminology I'll try to stick to - that are connected in some way. Each unit is a little function: it takes some input from the (incoming) units that are connected to it and passes some output to the (outgoing) units it's connected to.\n",
    "\n",
    "Generally these units are organized into layers, and each layer connects to the next. The most basic architecture (i.e. how the units are connected) is a _dense_ layer, in which every input is connected to every unit (these are also called _affine_ or _fully-connected_ layers). The input to a unit is a tensor consisting of the outputs of each incoming unit or it may be the input you give to the network (if they are in the first layer).\n",
    "\n",
    "It's a vector if each incoming unit outputs a scalar, it's a matrix if each incoming unit outputs a vector, and so on.\n",
    "\n",
    "![A feedforward neural network](../assets/feedforward.jpg)\n",
    "[source](http://cs.stanford.edu/people/eroberts/courses/soco/projects/neural-networks/Architecture/feedforward.html)\n",
    "\n",
    "To keep things simple, we'll just consider the case where the input is a vector (i.e. each unit outputs a scalar).\n",
    "\n",
    "Each unit has a vector of weights - these are the parameters that the network learns.\n",
    "\n",
    "The inner operations of the basic unit is straightforward. We collapse the weight vector $w$ and input vector $v$ into a scalar by taking their dot product. Often a _bias_ term $b$ is added to this dot product; this bias is also learned. then we pass this dot product through an _activation function_ $f$, which also returns a scalar. Activation functions are typically nonlinear so that neural networks can learn nonlinear functions. I'll mention a few common activation functions in a bit, but for now let's see what a basic unit is doing:"
   ]
  },
  {
   "cell_type": "code",
   "execution_count": 1,
   "metadata": {
    "collapsed": true
   },
   "outputs": [],
   "source": [
    "def unit(v, w, b):\n",
    "    return activation_function(np.dot(input, weights) + b)"
   ]
  },
  {
   "cell_type": "markdown",
   "metadata": {},
   "source": [
    "$$\n",
    "\\text{output} = f(vw + b)\n",
    "$$\n",
    "\n",
    "Note that the output units often don't have an activation function.\n",
    "\n",
    "Much of neural network research is concerned with figuring out better architectures (that is, how exactly the units are connected) and what the internals of a unit are (e.g. what activation function to use, but they can get more sophisticated than this).\n",
    "\n",
    "You've probably heard of \"deep learning\" and all that really refers to is a neural network with multiple hidden layers. Given enough hidden layers (and nonlinear activation functions), a neural network can approximate _any_ function (hence they are \"universal function approximators\"). That sounds great and all, but the deeper a neural network gets, the harder it is to train, and the lack of a good training method for deep networks is what held the field back for some time.\n",
    "\n",
    "Nowadays neural networks are trained using a method called _backpropagation_, which is essentially the chain rule of derivatives. Remember that \"training\" in the context of supervised machine learning means figuring out how to update the parameters based on the learner's error on the training data, and we normally accomplish this by computing the derivative of the learner's hypothesis.\n",
    "\n",
    "We basically do the same thing to train a neural network!\n",
    "\n",
    "It will become clearer when we understand what the hypothesis of a neural network is. Let's consider a very simple neural network with just three layers, where the input and hidden layers have two units each (I'm going to be very explicit, which will look a little clumsy).\n",
    "\n",
    "## A basic neural network with `numpy`\n",
    "\n",
    "First we'll import `numpy`:"
   ]
  },
  {
   "cell_type": "code",
   "execution_count": 2,
   "metadata": {
    "collapsed": true
   },
   "outputs": [],
   "source": [
    "import numpy as np"
   ]
  },
  {
   "cell_type": "markdown",
   "metadata": {},
   "source": [
    "With machine learning we are trying to find a hidden function that describes data that we have. Here we are going to cheat a little and define the function ourselves and then use that to generate data. Then we'll try to \"reverse engineer\" our data and see if we can recover our original function."
   ]
  },
  {
   "cell_type": "code",
   "execution_count": 3,
   "metadata": {
    "collapsed": false
   },
   "outputs": [
    {
     "name": "stdout",
     "output_type": "stream",
     "text": [
      "[[  4.]\n",
      " [ 29.]\n",
      " [  9.]]\n"
     ]
    }
   ],
   "source": [
    "def our_function(X):\n",
    "    params = np.array([[2., -1., 5.]])\n",
    "    return np.dot(X, params.T)\n",
    "\n",
    "X = np.array([\n",
    "    [4.,9.,1.],\n",
    "    [2.,5.,6.],\n",
    "    [1.,8.,3.]\n",
    "])\n",
    "\n",
    "y = our_function(X)\n",
    "print(y)"
   ]
  },
  {
   "cell_type": "markdown",
   "metadata": {},
   "source": [
    "Now we are going to setup our simple neural network. It will have just one hidden layer with two units (which we will refer to as unit 1 and unit 2).\n",
    "\n",
    "First we have to define the weights (i.e. parameters) of our network.\n",
    "\n",
    "We have three inputs each going into two units, then one bias value for each unit, so we have eight parameters for the hidden layer.\n",
    "\n",
    "Then we have the output of those two hidden layer units going to the output layer, which has only one unit - this gives us two more parameters, plus one bias value.\n",
    "\n",
    "So in total, we have eleven parameters.\n",
    "\n",
    "Let's set them to arbitrary values for now."
   ]
  },
  {
   "cell_type": "code",
   "execution_count": 4,
   "metadata": {
    "collapsed": true
   },
   "outputs": [],
   "source": [
    "# hidden layer weights\n",
    "hidden_layer_weights = np.array([\n",
    "    [0.5, 0.5, 0.5],    # unit 1\n",
    "    [0.1, 0.1, 0.1]     # unit 2\n",
    "])\n",
    "hidden_layer_biases = np.array([1. ,1.])\n",
    "\n",
    "# output layer weights\n",
    "output_weights = np.array([[1., 1.]])\n",
    "output_biases = np.array([1.])"
   ]
  },
  {
   "cell_type": "markdown",
   "metadata": {},
   "source": [
    "We'll use $\\tanh$ activations for our hidden units, so let's define that real quick:"
   ]
  },
  {
   "cell_type": "code",
   "execution_count": 5,
   "metadata": {
    "collapsed": true
   },
   "outputs": [],
   "source": [
    "def activation(X):\n",
    "    return np.tanh(X)"
   ]
  },
  {
   "cell_type": "markdown",
   "metadata": {},
   "source": [
    "$\\tanh$ activations are quite common, but you may also encounter sigmoid activations and, more recently, ReLU activations (which output 0 when $x \\leq 0$ and output $x$ otherwise). These activation functions have different benefits; ReLUs in particular are robust against training difficulties that come when dealing with deeper networks.\n",
    "\n",
    "To make things clearer later on, we'll also define the linear function that combines a unit's input with its weights:"
   ]
  },
  {
   "cell_type": "code",
   "execution_count": 6,
   "metadata": {
    "collapsed": true
   },
   "outputs": [],
   "source": [
    "def linear(input, weights, biases):\n",
    "    return np.dot(input, weights.T) + biases"
   ]
  },
  {
   "cell_type": "markdown",
   "metadata": {},
   "source": [
    "Now we can do a forward pass with our inputs $X$ to see what the predicted outputs are.\n",
    "\n",
    "### Forward pass\n",
    "\n",
    "First, we'll pass the input through the hidden layer:"
   ]
  },
  {
   "cell_type": "code",
   "execution_count": 7,
   "metadata": {
    "collapsed": false
   },
   "outputs": [
    {
     "name": "stdout",
     "output_type": "stream",
     "text": [
      "hidden output\n",
      "[[ 0.99999977  0.98367486]\n",
      " [ 0.99999939  0.9800964 ]\n",
      " [ 0.99999834  0.97574313]]\n"
     ]
    }
   ],
   "source": [
    "hidden_linout = linear(X, hidden_layer_weights, hidden_layer_biases)\n",
    "hidden_output = activation(hidden_linout)\n",
    "print('hidden output')\n",
    "print(hidden_output)"
   ]
  },
  {
   "cell_type": "markdown",
   "metadata": {},
   "source": [
    "(We're keeping the unit's intermediary value, `hidden_linout` for use in backpropagation.)\n",
    "\n",
    "Then we'll take the hidden layer's output and pass it through the output layer to get our predicted outputs:"
   ]
  },
  {
   "cell_type": "code",
   "execution_count": 8,
   "metadata": {
    "collapsed": false
   },
   "outputs": [
    {
     "name": "stdout",
     "output_type": "stream",
     "text": [
      "predicted\n",
      "[[ 2.98367463]\n",
      " [ 2.98009578]\n",
      " [ 2.97574147]]\n"
     ]
    }
   ],
   "source": [
    "output_linouts = linear(hidden_output, output_weights, output_biases)\n",
    "output_outputs = output_linouts # no activation function on output layer\n",
    "\n",
    "predicted = output_outputs\n",
    "print('predicted')\n",
    "print(predicted)"
   ]
  },
  {
   "cell_type": "markdown",
   "metadata": {},
   "source": [
    "Now let's compute the mean squared error of our predictions:"
   ]
  },
  {
   "cell_type": "code",
   "execution_count": 9,
   "metadata": {
    "collapsed": false
   },
   "outputs": [
    {
     "name": "stdout",
     "output_type": "stream",
     "text": [
      "mean squared error\n",
      "238.120007837\n"
     ]
    }
   ],
   "source": [
    "mse = np.mean((y - predicted)**2)\n",
    "print('mean squared error')\n",
    "print(mse)"
   ]
  },
  {
   "cell_type": "markdown",
   "metadata": {},
   "source": [
    "Now we can take this error and backpropagate it through the network. This will tell us how to update our weights.\n",
    "\n",
    "### Backpropagation\n",
    "\n",
    "Since backpropagation is essentially a chain of derivatives (that is used for gradient descent), we'll need the derivative of our activation function, so let's define that first:"
   ]
  },
  {
   "cell_type": "code",
   "execution_count": 10,
   "metadata": {
    "collapsed": true
   },
   "outputs": [],
   "source": [
    "def activation_deriv(X):\n",
    "    return 1 - np.tanh(X)**2"
   ]
  },
  {
   "cell_type": "markdown",
   "metadata": {},
   "source": [
    "Then we want to set a learning rate - this is a value from 0 to 1 which affects how large we tweak our parameters by for each training iteration.\n",
    "\n",
    "You don't want to set this to be too large or else training will never converge (your parameters might get really big and you'll start seeing a lot of `nan` values).\n",
    "\n",
    "You don't want to set this to be too small either, otherwise training will be very slow. There are more sophisticated forms of gradient descent that deal with this, but those are beyond the scope of this guide."
   ]
  },
  {
   "cell_type": "code",
   "execution_count": 11,
   "metadata": {
    "collapsed": true
   },
   "outputs": [],
   "source": [
    "learning_rate = 0.001"
   ]
  },
  {
   "cell_type": "markdown",
   "metadata": {},
   "source": [
    "First we'll propagate the error through the output layer (I won't go through the derivation of each step but they are straightforward to work out if you know a bit about derivatives):"
   ]
  },
  {
   "cell_type": "code",
   "execution_count": 12,
   "metadata": {
    "collapsed": true
   },
   "outputs": [],
   "source": [
    "# derivative of mean squared error\n",
    "error = y - predicted\n",
    "\n",
    "# delta for the output layer (no activation on output layer)\n",
    "delta_output = error\n",
    "\n",
    "# output layer updates\n",
    "output_weights_update = delta_output.T.dot(hidden_output)\n",
    "output_biases_update = delta_output.sum(axis=0)"
   ]
  },
  {
   "cell_type": "markdown",
   "metadata": {},
   "source": [
    "Then through the hidden layer:"
   ]
  },
  {
   "cell_type": "code",
   "execution_count": 13,
   "metadata": {
    "collapsed": true
   },
   "outputs": [],
   "source": [
    "# push back the delta to the hidden layer\n",
    "delta_hidden = delta_output * output_weights * activation_deriv(hidden_linout)\n",
    "\n",
    "# hidden layer updates\n",
    "hidden_weights_update = delta_hidden.T.dot(X)\n",
    "hidden_biases_update = delta_hidden.sum(axis=0)"
   ]
  },
  {
   "cell_type": "markdown",
   "metadata": {},
   "source": [
    "Then we can apply the updates:"
   ]
  },
  {
   "cell_type": "code",
   "execution_count": 14,
   "metadata": {
    "collapsed": true
   },
   "outputs": [],
   "source": [
    "output_weights -= output_weights_update * learning_rate\n",
    "output_biases -= output_biases_update * learning_rate\n",
    "\n",
    "hidden_layer_weights -= hidden_weights_update * learning_rate\n",
    "hidden_layer_biases -= hidden_biases_update * learning_rate"
   ]
  },
  {
   "cell_type": "markdown",
   "metadata": {},
   "source": [
    "That's one training iteration! In reality, you would do this many, many times - feedforward, backpropagate, update weights, then rinse and repeat. That's the basics of a neural network - at least, the \"vanilla\" kind. There are other more sophisticated kinds (recurrent and convolutional neural networks are two of the most common) that are covered in other guides."
   ]
  }
 ],
 "metadata": {
  "kernelspec": {
   "display_name": "Python [Root]",
   "language": "python",
   "name": "Python [Root]"
  },
  "language_info": {
   "codemirror_mode": {
    "name": "ipython",
    "version": 2
   },
   "file_extension": ".py",
   "mimetype": "text/x-python",
   "name": "python",
   "nbconvert_exporter": "python",
   "pygments_lexer": "ipython2",
   "version": "2.7.12"
  }
 },
 "nbformat": 4,
 "nbformat_minor": 1
}
