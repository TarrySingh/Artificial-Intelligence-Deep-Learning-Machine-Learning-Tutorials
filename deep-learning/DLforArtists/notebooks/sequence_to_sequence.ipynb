{
 "cells": [
  {
   "cell_type": "markdown",
   "metadata": {},
   "source": [
    "## Sequence-to-Sequence Learning\n",
    "\n",
    "Many kinds of problems need us to predict a output sequence given an input sequence. This is called a _sequence-to-sequence_ problem.\n",
    "\n",
    "One such sequence-to-sequence problem is machine translation, which is what we'll try here.\n",
    "\n",
    "The general idea of sequence-to-sequence learning with neural networks is that we have one network that is an encoder (an RNN), transforming the input sequence into some encoded representation.\n",
    "\n",
    "This representation is then fed into another network, the decoder (also an RNN), which generates an output sequence for us.\n",
    "\n",
    "![seq2seq](../assets/sequence_to_sequence.png)\n",
    "\n",
    "That's the basic idea, anyway. There are enhancements, most notably the inclusion of an _attention_ mechanism, which doesn't look at the encoder's single final representation but all of its intermediary representations as well. The attention mechanism involves the decoder weighting different parts of these intermediary representations so it \"focuses\" on certain parts at certain time steps.\n",
    "\n",
    "Another enhancement is to use a _bidirectional_ RNN - that is, to look at the input sequence from start to finish and from finish to start. This helps because when we represent an input sequence as a single representation vector, it tends to be biased towards later parts of the sequence. We can push back against this a bit by reading the sequence both forwards and backwards.\n",
    "\n",
    "We'll work through a few variations here on the basic sequence-to-sequence architecture:\n",
    "\n",
    "- with one-hot encoded inputs\n",
    "- learning embeddings\n",
    "- with a bidirectional encoder\n",
    "\n",
    "The attention mechanism is not very straightforward to incorporate with Keras (in my experience at least), but the [`seq2seq` library](https://github.com/farizrahman4u/seq2seq) includes one (I have not tried it myself).\n",
    "\n",
    "## Data\n",
    "\n",
    "For sequence-to-sequence tasks we need a parallel corpus. This is just a corpus with input and output sequences that have been matched up (aligned) with one another.\n",
    "\n",
    "Note that \"translation\" doesn't have to just be between two languages - we could take any aligned parallel corpus and train a sequence-to-sequence model on it. It doesn't even have to be text, although what I'm showing here will be tailored for that.\n",
    "\n",
    "I'm going to be boring - here we'll just do a more conventional translation task.\n",
    "\n",
    "[OPUS](http://opus.lingfil.uu.se/) (Open Parallel Corpus) provides many free parallel corpora. In particular, we'll use their [English-German Tatoeba corpus](http://opus.lingfil.uu.se/) which consists of phrases translated from English to German or vice-versa.\n",
    "\n",
    "Some preprocessing was involved to extract just the aligned sentences from the various XML files OPUS provides; I've provided the [processed data for you](../data/en_de_corpus.json).\n",
    "\n",
    "## Preparing the data\n",
    "\n",
    "First, let's import what we need."
   ]
  },
  {
   "cell_type": "code",
   "execution_count": null,
   "metadata": {
    "collapsed": false
   },
   "outputs": [],
   "source": [
    "import numpy as np\n",
    "from keras.models import Model\n",
    "from keras.layers.recurrent import LSTM\n",
    "from keras.layers.embeddings import Embedding\n",
    "from keras.layers.wrappers import TimeDistributed\n",
    "from keras.preprocessing.sequence import pad_sequences\n",
    "from keras.preprocessing.text import Tokenizer\n",
    "from keras.layers import Activation, Dense, RepeatVector, Input, merge"
   ]
  },
  {
   "cell_type": "markdown",
   "metadata": {},
   "source": [
    "Let's load the corpus. We are going to do some additional processing on it, mainly to filter out sentences that are too long.\n",
    "\n",
    "Sequence-to-sequence learning can get difficult if the sequences are long; the resulting representation is biased towards later elements of the sequence. Attention mechanisms should help with this, but as I said we aren't going to explore them here (sorry). Fortunately bidirectional RNNs help too.\n",
    "\n",
    "We'll also limit our vocabulary size and the number of examples we look at to limit memory usage."
   ]
  },
  {
   "cell_type": "code",
   "execution_count": null,
   "metadata": {
    "collapsed": false
   },
   "outputs": [],
   "source": [
    "import json\n",
    "\n",
    "data = json.load(open('../data/en_de_corpus.json', 'r'))\n",
    "\n",
    "# to deal with memory issues,\n",
    "# limit the dataset\n",
    "# we could also generate the training samples on-demand\n",
    "# with a generator and use keras models' `fit_generator` method\n",
    "max_len = 6\n",
    "max_examples = 80000\n",
    "max_vocab_size = 10000\n",
    "\n",
    "def get_texts(source_texts, target_texts, max_len, max_examples):\n",
    "    \"\"\"extract texts\n",
    "    training gets difficult with widely varying lengths\n",
    "    since some sequences are mostly padding\n",
    "    long sequences get difficult too, so we are going\n",
    "    to cheat and just consider short-ish sequences.\n",
    "    this assumes whitespace as a token delimiter\n",
    "    and that the texts are already aligned.\n",
    "    \"\"\"\n",
    "    sources, targets = [], []\n",
    "    for i, source in enumerate(source_texts):\n",
    "        # assume we split on whitespace\n",
    "        if len(source.split(' ')) <= max_len:\n",
    "            target = target_texts[i]\n",
    "            if len(target.split(' ')) <= max_len:\n",
    "                sources.append(source)\n",
    "                targets.append(target)\n",
    "    return sources[:max_examples], targets[:max_examples]\n",
    "\n",
    "en_texts, de_texts = get_texts(data['en'], data['de'], max_len, max_examples)\n",
    "n_examples = len(en_texts)"
   ]
  },
  {
   "cell_type": "markdown",
   "metadata": {},
   "source": [
    "It will help if we explicitly tell our network where sentences begin and end so that it can learn when to start/stop generating words (this is explained a more [here](https://github.com/fchollet/keras/issues/395#issuecomment-150891272)). To do so we'll specify special start and end tokens. Make sure they aren't tokens that are already present in your corpus!"
   ]
  },
  {
   "cell_type": "code",
   "execution_count": null,
   "metadata": {
    "collapsed": true
   },
   "outputs": [],
   "source": [
    "# add start and stop tokens\n",
    "start_token = '^'\n",
    "end_token = '$'\n",
    "en_texts = [' '.join([start_token, text, end_token]) for text in en_texts]\n",
    "de_texts = [' '.join([start_token, text, end_token]) for text in de_texts]"
   ]
  },
  {
   "cell_type": "markdown",
   "metadata": {},
   "source": [
    "Now we can use Keras' tokenizers to tokenize the source sequences and target sequences (note that \"input\" and \"source\" are interchangeable, as are \"output\" and \"target\")."
   ]
  },
  {
   "cell_type": "code",
   "execution_count": null,
   "metadata": {
    "collapsed": false
   },
   "outputs": [],
   "source": [
    "# characters for the tokenizers to filter out\n",
    "# preserve start and stop tokens\n",
    "filter_chars = '!\"#$%&()*+,-./:;<=>?@[\\\\]^_{|}~\\t\\n\\'`“”–'.replace(start_token, '').replace(end_token, '')\n",
    "\n",
    "source_tokenizer = Tokenizer(max_vocab_size, filters=filter_chars)\n",
    "source_tokenizer.fit_on_texts(en_texts)\n",
    "target_tokenizer = Tokenizer(max_vocab_size, filters=filter_chars)\n",
    "target_tokenizer.fit_on_texts(de_texts)\n",
    "\n",
    "# vocab sizes\n",
    "# idx 0 is reserved by keras (for padding)\n",
    "# and not part of the word_index,\n",
    "# so add 1 to account for it\n",
    "source_vocab_size = len(source_tokenizer.word_index) + 1\n",
    "target_vocab_size = len(target_tokenizer.word_index) + 1"
   ]
  },
  {
   "cell_type": "markdown",
   "metadata": {},
   "source": [
    "Our input sentences are variable in length, but we can't directly input variable length vectors into our network. What we do instead is pad it with a special padding character (Keras takes care of this for us, which I'll explain a bit more below).\n",
    "\n",
    "We need to figure out the longest input and output sequences so that we make our vectors long enough to fit them."
   ]
  },
  {
   "cell_type": "code",
   "execution_count": null,
   "metadata": {
    "collapsed": true
   },
   "outputs": [],
   "source": [
    "# find max length (in tokens) of input and output sentences\n",
    "max_input_length = max(len(seq) for seq in source_tokenizer.texts_to_sequences_generator(en_texts))\n",
    "max_output_length = max(len(seq) for seq in target_tokenizer.texts_to_sequences_generator(de_texts))"
   ]
  },
  {
   "cell_type": "markdown",
   "metadata": {},
   "source": [
    "The tokenizers will take text and output a sequence of integers (which are mapped to words).\n",
    "\n",
    "Then we'll pad these sequences so that they are all of the same length (the padding value Keras uses is 0, which is why the tokenizer doesn't assign that value to any words).\n",
    "\n",
    "For example:"
   ]
  },
  {
   "cell_type": "code",
   "execution_count": null,
   "metadata": {
    "collapsed": false
   },
   "outputs": [],
   "source": [
    "sequences = pad_sequences(source_tokenizer.texts_to_sequences(en_texts[:1]), maxlen=max_input_length)\n",
    "print(en_texts[0])\n",
    "# >>> ^ I took the bus back. $\n",
    "print(sequences[0])\n",
    "# >>> [  0   0   0   2   4 223   3 461 114   1]"
   ]
  },
  {
   "cell_type": "markdown",
   "metadata": {},
   "source": [
    "The `0` values are padding, the `1` is our start token, the `2` is our end token, and the rest are other words.\n",
    "\n",
    "The first sequence-to-sequence model we'll build will take one-hot vectors as input, so we'll write a function that takes these sequences and converts them.\n",
    "\n",
    "(Our [RNN guide](/guides/recurrent_neural_networks) explains more about one-hot vectors.)"
   ]
  },
  {
   "cell_type": "code",
   "execution_count": null,
   "metadata": {
    "collapsed": true
   },
   "outputs": [],
   "source": [
    "def build_one_hot_vecs(sequences):\n",
    "    \"\"\"generate one-hot vectors from token sequences\"\"\"\n",
    "    # boolean to reduce memory footprint\n",
    "    X = np.zeros((len(sequences), max_input_length, source_vocab_size), dtype=np.bool)\n",
    "    for i, sent in enumerate(sequences):\n",
    "        word_idxs = np.arange(max_input_length)\n",
    "        X[i][[word_idxs, sent]] = True\n",
    "    return X"
   ]
  },
  {
   "cell_type": "markdown",
   "metadata": {},
   "source": [
    "Basically what this does is represent each input sequence as a matrix of one-hot vectors.\n",
    "\n",
    "This image is from our [RNN guide](/guides/recurrent_neural_networks), which deals with individual characters, but the idea is the same (just imagine words instead of characters):\n",
    "\n",
    "![rnn_3tensor](../assets/rnn_3tensor.png)\n",
    "\n",
    "You can think of this as a \"stack\" of \"tiers\".\n",
    "\n",
    "Each \"tier\" is a sequence, i.e. a sentence, each row in a tier is a word, and each element in a row is associated with a particular word.\n",
    "\n",
    "The \"stack\" is `n_examples` tall (one tier for each sentence), each tier has `max_input_length` rows (some of these first rows will just be padding), and each row is `source_vocab_size` long.\n",
    "\n",
    "We'll also encode our target sequences in this way:"
   ]
  },
  {
   "cell_type": "code",
   "execution_count": null,
   "metadata": {
    "collapsed": true
   },
   "outputs": [],
   "source": [
    "def build_target_vecs():\n",
    "    \"\"\"encode words in the target sequences as one-hots\"\"\"\n",
    "    y = np.zeros((n_examples, max_output_length, target_vocab_size), dtype=np.bool)\n",
    "    for i, sent in enumerate(pad_sequences(target_tokenizer.texts_to_sequences(de_texts), maxlen=max_output_length)):\n",
    "        word_idxs = np.arange(max_output_length)\n",
    "        y[i][[word_idxs, sent]] = True\n",
    "    return y"
   ]
  },
  {
   "cell_type": "markdown",
   "metadata": {},
   "source": [
    "## Defining the model\n",
    "\n",
    "Now we can start defining the sequence-to-sequence model. Since there's a lot of overlap between the one-hot and embedding versions and the bidirectional and unidirectional variations, we'll write a function that can generate a model of either combination."
   ]
  },
  {
   "cell_type": "code",
   "execution_count": null,
   "metadata": {
    "collapsed": true
   },
   "outputs": [],
   "source": [
    "hidden_dim = 128\n",
    "embedding_dim = 128\n",
    "\n",
    "def build_model(one_hot=False, bidirectional=False):\n",
    "    \"\"\"build a vanilla sequence-to-sequence model.\n",
    "    specify `one_hot=True` to build it for one-hot encoded inputs,\n",
    "    otherwise, pass in sequences directly and embeddings will be learned.\n",
    "    specify `bidirectional=False` to use a bidirectional LSTM\"\"\"\n",
    "    if one_hot:\n",
    "        input = Input(shape=(max_input_length,source_vocab_size))\n",
    "        input_ = input\n",
    "    else:\n",
    "        input = Input(shape=(max_input_length,), dtype='int32')\n",
    "        input_ = Embedding(source_vocab_size, embedding_dim, input_length=max_input_length)(input)\n",
    "\n",
    "    # encoder; don't return sequences, just give us one representation vector\n",
    "    if bidirectional:\n",
    "        forwards = LSTM(hidden_dim, return_sequences=False)(input_)\n",
    "        backwards = LSTM(hidden_dim, return_sequences=False, go_backwards=True)(input_)\n",
    "        encoder = merge([forwards, backwards], mode='concat', concat_axis=-1)\n",
    "    else:\n",
    "        encoder = LSTM(hidden_dim, return_sequences=False)(input_)\n",
    "\n",
    "    # repeat encoder output for each desired output from the decoder\n",
    "    encoder = RepeatVector(max_output_length)(encoder)\n",
    "\n",
    "    # decoder; do return sequences (timesteps)\n",
    "    decoder = LSTM(hidden_dim, return_sequences=True)(encoder)\n",
    "\n",
    "    # apply the dense layer to each timestep\n",
    "    # give output conforming to target vocab size\n",
    "    decoder = TimeDistributed(Dense(target_vocab_size))(decoder)\n",
    "\n",
    "    # convert to a proper distribution\n",
    "    predictions = Activation('softmax')(decoder)\n",
    "    return Model(input=input, output=predictions)"
   ]
  },
  {
   "cell_type": "markdown",
   "metadata": {},
   "source": [
    "We're using [Keras's functional API](http://keras.io/getting-started/functional-api-guide/) because it provides a great deal more flexibility when defining models. Layers and inputs can be linked up in ways that the [sequential API](http://keras.io/getting-started/sequential-model-guide/) doesn't support and is in general easier to develop with (you can view the output of intermediary layers, for instance).\n",
    "\n",
    "In any case, this is what we're doing here:\n",
    "\n",
    "- we define the input layer (which must be explicitly defined for the functional API)\n",
    "- then we assemble the encoder, which is an RNN (a LSTM, but you could use, for instance, a GRU)\n",
    "    - we set `return_sequences` to `False` because we only want the _last_ output of the LSTM, which is its representation of an _entire_ input sequence\n",
    "    - we then add `RepeatVector` to repeat this representation so that it's available for each of the decoder's inputs\n",
    "    - if we have `bidirectional=True`, we actually create two LSTMs, one of which reads the sequence backwards (the `go_backwards` parameter), then we concatenate them together\n",
    "- then we assemble the decoder, which again is an RNN (also doesn't have to be an LSTM)\n",
    "    - here we set `return_sequences` to `True` because we want all the sequences (timesteps) produced by the LSTM to pass along\n",
    "    - then we add a `TimeDistributed(Dense)` layer; the `TimeDistributed` wrapper applies the `Dense` layer to each timestep\n",
    "\n",
    "The result of this final time distributed dense layer is a \"stack\" similar to the one we inputted. It also has `n_examples` tiers but now each tier has `max_output_length` rows (which again may consist of some padding rows), and each row is of `target_vocab_size` length.\n",
    "\n",
    "Another important difference is that these rows are not one-hot vectors. They are each a probability distribution over the target vocabulary;the softmax layer is responsible for making sure each row sums to 1 like a proper probability distribution should.\n",
    "\n",
    "Here's a illustration depicting this for one input example. Note that in this illustration the raw source sequence of indices are passed into the encoder, which is how the embedding variation of this model works; for the one-hot variation there would be an intermediary step where we create the one-hot vectors.\n",
    "\n",
    "![](../assets/sequence_to_sequence_details.png)\n",
    "\n",
    "This \"stack\" (which is technically called a 3-tensor) basically the translated sequence that we want, except we have to do some additional processing to turn it back into text. In the illustration above, the output of the decoder corresponds to one tier in this stack.\n",
    "\n",
    "Let's prepare that preprocessing now. Basically, we will take these probabilities and translate them into words, as illustrated in the last two steps above."
   ]
  },
  {
   "cell_type": "code",
   "execution_count": null,
   "metadata": {
    "collapsed": true
   },
   "outputs": [],
   "source": [
    "target_reverse_word_index = {v:k for k,v in target_tokenizer.word_index.items()}\n",
    "\n",
    "def decode_outputs(predictions):\n",
    "    outputs = []\n",
    "    for probs in predictions:\n",
    "        preds = probs.argmax(axis=-1)\n",
    "        tokens = []\n",
    "        for idx in preds:\n",
    "            tokens.append(target_reverse_word_index.get(idx))\n",
    "        outputs.append(' '.join([t for t in tokens if t is not None]))\n",
    "    return outputs"
   ]
  },
  {
   "cell_type": "markdown",
   "metadata": {},
   "source": [
    "To start, we're preparing a reverse word index which will let us put in a number and get back the associated word.\n",
    "\n",
    "The `decode_outputs` function then just takes that 3-tensor stack of probability distributions (`predictions`). The variable `probs` represents a tier in that stack. With `argmax` get the indices of the highest-probability words, then we look up each of those in our reverse word index to get the actual word. We join them up with spaces and voilá, we have our translation.\n",
    "\n",
    "## Training\n",
    "\n",
    "But first we have to train the model.\n",
    "\n",
    "To reduce memory usage while training, we're going to write a generator to output training data on-the-fly. This way all the data won't sit around in memory.\n",
    "\n",
    "It will generate one-hot vectors or output the raw sequences (which we need for the embedding approach) according to the `one_hot` parameter and output them in chunks of the batch size we specify.\n",
    "\n",
    "In the interest of neater code, we're writing this batch generator so that it can also generate raw sequences if we set `one_hot=False` (we'll need this when we try the embedding approach). So first we'll define a convenience function for that:"
   ]
  },
  {
   "cell_type": "code",
   "execution_count": null,
   "metadata": {
    "collapsed": true
   },
   "outputs": [],
   "source": [
    "def build_seq_vecs(sequences):\n",
    "    return np.array(sequences)"
   ]
  },
  {
   "cell_type": "markdown",
   "metadata": {},
   "source": [
    "And then define the actual batch generator:"
   ]
  },
  {
   "cell_type": "code",
   "execution_count": null,
   "metadata": {
    "collapsed": true
   },
   "outputs": [],
   "source": [
    "import math\n",
    "def generate_batches(batch_size, one_hot=False):\n",
    "    # each epoch\n",
    "    n_batches = math.ceil(n_examples/batch_size)\n",
    "    while True:\n",
    "        sequences = pad_sequences(source_tokenizer.texts_to_sequences(en_texts), maxlen=max_input_length)\n",
    "\n",
    "        if one_hot:\n",
    "            X = build_one_hot_vecs(sequences)\n",
    "        else:\n",
    "            X = build_seq_vecs(sequences)\n",
    "        y = build_target_vecs()\n",
    "\n",
    "        # shuffle\n",
    "        idx = np.random.permutation(len(sequences))\n",
    "        X = X[idx]\n",
    "        y = y[idx]\n",
    "\n",
    "        for i in range(n_batches):\n",
    "            start = batch_size * i\n",
    "            end = start+batch_size\n",
    "            yield X[start:end], y[start:end]"
   ]
  },
  {
   "cell_type": "markdown",
   "metadata": {},
   "source": [
    "Now let's build the model and train it.\n",
    "\n",
    "We'll train it using the categorical cross-entropy loss function because this is essentially a classification problem, where we have `target_vocab_size` \"categories\".\n",
    "\n",
    "Training will likely take a very long time. 100 epochs took me a couple hours on an Nvidia GTX 980Ti. As I note later, 100 epochs is not enough to get the network performing very well; that choice is more in the interest of trying multiple models and not wanting to wait for days."
   ]
  },
  {
   "cell_type": "code",
   "execution_count": null,
   "metadata": {
    "collapsed": false
   },
   "outputs": [],
   "source": [
    "n_epochs = 100\n",
    "batch_size = 128\n",
    "\n",
    "model = build_model(one_hot=True, bidirectional=False)\n",
    "model.compile(loss='categorical_crossentropy', optimizer='adam', metrics=['accuracy'])\n",
    "model.fit_generator(generator=generate_batches(batch_size, one_hot=True), samples_per_epoch=n_examples, nb_epoch=n_epochs, verbose=1)"
   ]
  },
  {
   "cell_type": "markdown",
   "metadata": {},
   "source": [
    "Since we're going to be trying a few different models, let's also write a function to make it easier to generate translations."
   ]
  },
  {
   "cell_type": "code",
   "execution_count": null,
   "metadata": {
    "collapsed": true
   },
   "outputs": [],
   "source": [
    "def translate(model, sentences, one_hot=False):\n",
    "    seqs = pad_sequences(source_tokenizer.texts_to_sequences(sentences), maxlen=max_input_length)\n",
    "    if one_hot:\n",
    "        input = build_one_hot_vecs(seqs)\n",
    "    else:\n",
    "        input = build_seq_vecs(seqs)\n",
    "    preds = model.predict(input, verbose=0)\n",
    "    return decode_outputs(preds)"
   ]
  },
  {
   "cell_type": "markdown",
   "metadata": {},
   "source": [
    "Let's give it a shot:"
   ]
  },
  {
   "cell_type": "code",
   "execution_count": null,
   "metadata": {
    "collapsed": true
   },
   "outputs": [],
   "source": [
    "print(en_texts[0])\n",
    "print(de_texts[0])\n",
    "print(translate(model, [en_texts[0]], one_hot=True))\n",
    "# >>> ^ I took the bus back. $\n",
    "# >>> ^ Ich nahm den Bus zurück. $\n",
    "# >>> ^ ich ich die die verloren $"
   ]
  },
  {
   "cell_type": "markdown",
   "metadata": {},
   "source": [
    "That's pretty bad to be honest. As I said before, I don't think you'll have particularly good results unless you train for a significantly longer amount of time.\n",
    "\n",
    "In the meantime, let's try this task with a model that learns embeddings, instead of using one-hot vectors.\n",
    "\n",
    "We can just use what we've got, but specifying `one_hot=True`."
   ]
  },
  {
   "cell_type": "code",
   "execution_count": null,
   "metadata": {
    "collapsed": true
   },
   "outputs": [],
   "source": [
    "model = build_model(one_hot=False, bidirectional=False)\n",
    "model.compile(loss='categorical_crossentropy', optimizer='adam', metrics=['accuracy'])\n",
    "model.fit_generator(generator=generate_batches(batch_size, one_hot=False), samples_per_epoch=n_examples, nb_epoch=n_epochs, verbose=1)"
   ]
  },
  {
   "cell_type": "markdown",
   "metadata": {},
   "source": [
    "And we can try the bidirectional variations, e.g."
   ]
  },
  {
   "cell_type": "code",
   "execution_count": null,
   "metadata": {
    "collapsed": true
   },
   "outputs": [],
   "source": [
    "model = build_model(one_hot=False, bidirectional=True)\n",
    "model.compile(loss='categorical_crossentropy', optimizer='adam', metrics=['accuracy'])\n",
    "model.fit_generator(generator=generate_batches(batch_size, one_hot=False), samples_per_epoch=n_examples, nb_epoch=n_epochs, verbose=1)"
   ]
  },
  {
   "cell_type": "markdown",
   "metadata": {},
   "source": [
    "We should see some improvement with the bidirectional variant, but again, a significant amount of training time is still likely needed.\n",
    "\n",
    "### Final words\n",
    "\n",
    "When preparing this guide I found that I had to train the network for many, many epochs before achieving decent output. I went with 300 epochs and got to ~82% accuracy.\n",
    "\n",
    "The dataset here is also relatively small - larger, richer parallel corpora should result in a better translation model.\n",
    "\n",
    "Here are the results from my comparison trainings (for the sake of time I ran each only for 100 epochs) - interestingly the one-hot models performed better (I expected embeddings would be best):\n",
    "\n",
    "![sequence training](../assets/sequence_training.png)\n",
    "\n",
    "Here are some examples from the best model, after 300 epochs:\n",
    "\n",
    "```\n",
    "---\n",
    "^ I took the bus back. $\n",
    "^ Ich nahm den Bus zurück. $\n",
    "^ ich nahm den bus geländer $\n",
    "---\n",
    "^ He had barely enough to eat. $\n",
    "^ Er hatte kaum genug zu essen. $\n",
    "^ er hatte kaum genug zu hunger $\n",
    "---\n",
    "^ Without air we would die. $\n",
    "^ Ohne Luft würden wir sterben. $\n",
    "^ ^ luft luft gesellschaft $\n",
    "---\n",
    "^ I thought you'd be older. $\n",
    "^ Ich hätte Sie für älter gehalten. $\n",
    "^ ich hätte sie als als hunger $\n",
    "---\n",
    "^ Hanako questioned his sincerity. $\n",
    "^ Hanako zweifelte an seiner Ernsthaftigkeit. $\n",
    "^ hanako zweifelte jeden mit $\n",
    "---\n",
    "^ I study Chinese in Beijing. $\n",
    "^ Ich lerne in Peking Chinesisch. $\n",
    "^ ich lerne in peking stimmung $\n",
    "```\n",
    "\n",
    "There's definitely still quite a bit of weirdness, but it's not incoherently bad. More training (and of course a larger corpus) would probably help.\n",
    "\n",
    "### Further reading\n",
    "\n",
    "- [`seq2seq`](https://github.com/farizrahman4u/seq2seq), a library that implements sequence-to-sequence learning for Keras\n",
    "- Sequence Modeling With Neural Networks [Part 1](https://indico.io/blog/sequence-modeling-neuralnets-part1/), [Part 2](https://indico.io/blog/sequence-modeling-neural-networks-part2-attention-models/), high-level overview on these problems\n",
    "- Bahdanau, D., Cho, K., & Bengio, Y. (2014). [Neural machine translation by jointly learning to align and translate](http://arxiv.org/pdf/1409.0473v7.pdf). Describes in detail a neural machine translation model with attention (see Appendix A.2).\n",
    "- Sutskever, I., Vinyals, O., & Le, Q. V. (2014). [Sequence to sequence learning with neural networks](https://papers.nips.cc/paper/5346-sequence-to-sequence-learning-with-neural-networks.pdf). In Advances in neural information processing systems (pp. 3104-3112). Introduces sequence-to-sequence learning with neural networks\n",
    "- Jörg Tiedemann, 2012, [Parallel Data, Tools and Interfaces in OPUS](http://www.lrec-conf.org/proceedings/lrec2012/pdf/463_Paper.pdf). In Proceedings of the 8th International Conference on Language Resources and Evaluation (LREC 2012). Source of the data we used here."
   ]
  }
 ],
 "metadata": {
  "kernelspec": {
   "display_name": "Python 3",
   "language": "python",
   "name": "python3"
  },
  "language_info": {
   "codemirror_mode": {
    "name": "ipython",
    "version": 3
   },
   "file_extension": ".py",
   "mimetype": "text/x-python",
   "name": "python",
   "nbconvert_exporter": "python",
   "pygments_lexer": "ipython3",
   "version": "3.5.2"
  }
 },
 "nbformat": 4,
 "nbformat_minor": 1
}
