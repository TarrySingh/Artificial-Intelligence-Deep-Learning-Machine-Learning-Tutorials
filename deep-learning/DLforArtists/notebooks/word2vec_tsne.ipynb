{
 "cells": [
  {
   "cell_type": "markdown",
   "metadata": {},
   "source": [
    "# Word2Vec and t-SNE\n",
    "\n",
    "A question that might come up when working with text is: how do you turn text into numbers?\n",
    "\n",
    "In the past, common techniques included methods like one-hot vectors, in which we'd have a different number associated with each word, and then turn \"on\" the value at that index in a vector (making it 1) and setting all the rest to zero.\n",
    "\n",
    "For instance, if we have the sentence: \"I like dogs\", we'd have a 3-dimensional one-hot vector (3-dimensional because there are three words), so the word \"I\" might be `[1,0,0]`, the word \"like\" might be `[0,1,0]`, and \"dogs\" would be `[0,0,1]`.\n",
    "\n",
    "One-hot vectors worked well enough for some tasks but it's not a particularly rich or meaningful representation of text. The indices of these words are arbitrary and don't describe any relationship between them.\n",
    "\n",
    "[_Word embeddings_](http://arxiv.org/pdf/1301.3781.pdf) provide a meaningful representation of text. Word embeddings, called such because they involve embedding a word in some high-dimensional space, that is, they map a word to some vector, much like one-hot vectors. The difference is that word embeddings are learned for a particular task, so they end up being meaningful representations.\n",
    "\n",
    "For example, the relationships between words are meaningful (image from the [TensorFlow documentation]((https://www.tensorflow.org/versions/r0.9/tutorials/word2vec/index.html)):\n",
    "\n",
    "![Word embedding relationships](https://www.tensorflow.org/versions/r0.9/images/linear-relationships.png){:width=\"100%\"}\n",
    "\n",
    "A notable property that emerges is that vector arithmetic is also meaningful. Perhaps the most well-known example of this is:\n",
    "\n",
    "$$\n",
    "\\text{king} - \\text{man} + \\text{woman} = \\text{queen}\n",
    "$$\n",
    "\n",
    "([Chris Olah's piece on word embeddings](Deep Learning, NLP, and Representations) delves more into why this is.)\n",
    "\n",
    "So the positioning of these words in this space actually tells us something about how these words are used.\n",
    "\n",
    "This allows us to do things like find the most similar words by looking at the closest words. You can project the resulting embeddings down to 2D so that we can visualize them. We'll use t-SNE (\"t-Distributed Stochastic Neighbor Embedding\") for this, which is a dimensionality reduction method that works well for visualizing high-dimension data. We'll see that clusters of related words form in a way that a human would probably agree with. We couldn't do this with one-hot vectors - the distances between them are totally arbitrary and their proximity is essentially random.\n",
    "\n",
    "As mentioned earlier, these word embeddings are trained to help with a particular task, which is learned through a neural network. Two tasks developed for training embeddings is _CBOW_ (continuous bag of words) and _skip-grams_; together these methods of learning word embeddings are called \"Word2Vec\".\n",
    "\n",
    "For the CBOW task, we take the context words (the words around the target word) and give the target word. We want to predict whether or not the target word belongs to the context.\n",
    "\n",
    "The skip-grams is basically the inverse: we take the target word (the \"pivot\"), then give the context. We want to predict whether or not the context belongs to the word.\n",
    "\n",
    "They are quite similar but have different properties, e.g. CBOW works better on smaller datasets, where as skip-grams works better for larger ones. In any case, the idea with word embeddings is that they can be trained to help with any task.\n",
    "\n",
    "We're going to be using the skip-gram task here.\n",
    "\n",
    "## Corpus\n",
    "\n",
    "We need a reasonably-sized text corpus to learn from. Here we'll use State of the Union addresses retrieved from [The American Presidency Project](http://www.presidency.ucsb.edu/sou.php). These addresses tend to use similar patterns so we should be able to learn some decent word embeddings. Since the skip-gram task looks at context, texts that use words in a consistent way (i.e. in consistent contexts) we'll be able to learn better.\n",
    "\n",
    "[The corpus is available here](/guides/data/sotu.tar.gz). The texts were preprocessed a bit (mainly removing URL-encoded characters). The texts provided here are the processed versions (nb: this isn't the complete collection of texts but enough to work with here).\n",
    "\n",
    "## Skip-grams\n",
    "\n",
    "Before we go any further, let's get a bit more concrete about what the skip-gram task is.\n",
    "\n",
    "Let's consider the sentence \"I think cats are cool\".\n",
    "\n",
    "The skip-gram task is as follows:\n",
    "\n",
    "- We take a word, e.g. `'cats'`, which we'll represent as $w_i$. We feed this as input into our neural network.\n",
    "- We take the word's context, e.g. `['I', 'think', 'are', 'cool']`. We'll represent this as $\\{w_{i-2}, w_{i-1}, w_{i+1}, w_{i+2}\\}$ and we also feed this into our neural network.\n",
    "- Then we just want our network to predict (i.e. classify) whether or not $\\{w_{i-2}, w_{i-1}, w_{i+1}, w_{i+2}\\}$ is the true context of $w_i$.\n",
    "\n",
    "For this particular example we'd want the network to output 1 (i.e. yes, that is the true context).\n",
    "\n",
    "If we set $w_i$ to 'frogs', then we'd want the network output 0. In our one sentence corpus, `['I', 'think', 'are', 'cool']` is not the true context for 'frogs'. Sorry frogs 🐸.\n",
    "\n",
    "## Building the model\n",
    "\n",
    "We'll use `keras` to build the neural network that we'll use to learn the embeddings.\n",
    "\n",
    "First we'll import everything:"
   ]
  },
  {
   "cell_type": "code",
   "execution_count": 1,
   "metadata": {
    "collapsed": false
   },
   "outputs": [
    {
     "name": "stderr",
     "output_type": "stream",
     "text": [
      "Using Theano backend.\n"
     ]
    }
   ],
   "source": [
    "import numpy as np\n",
    "from keras.models import Sequential\n",
    "from keras.layers.embeddings import Embedding\n",
    "from keras.layers import Flatten, Activation, Merge\n",
    "from keras.preprocessing.text import Tokenizer\n",
    "from keras.preprocessing.sequence import skipgrams, make_sampling_table"
   ]
  },
  {
   "cell_type": "markdown",
   "metadata": {},
   "source": [
    "Then load in our data. We're actually going to define a generator to load our data in on-demand; this way we'll avoid having all our data sitting around in memory when we don't need it."
   ]
  },
  {
   "cell_type": "code",
   "execution_count": 2,
   "metadata": {
    "collapsed": false
   },
   "outputs": [
    {
     "data": {
      "text/plain": [
       "84"
      ]
     },
     "execution_count": 2,
     "metadata": {},
     "output_type": "execute_result"
    }
   ],
   "source": [
    "from glob import glob\n",
    "text_files = glob('../data/sotu/*.txt')\n",
    "\n",
    "def text_generator():\n",
    "    for path in text_files:\n",
    "        with open(path, 'r') as f:\n",
    "            yield f.read()\n",
    "            \n",
    "len(text_files)"
   ]
  },
  {
   "cell_type": "markdown",
   "metadata": {},
   "source": [
    "Before we go any further, we need to map the words in our corpus to numbers, so that we have a consistent way of referring to them. First we'll fit a tokenizer to the corpus:"
   ]
  },
  {
   "cell_type": "code",
   "execution_count": 3,
   "metadata": {
    "collapsed": true
   },
   "outputs": [],
   "source": [
    "# our corpus is small enough where we\n",
    "# don't need to worry about this, but good practice\n",
    "max_vocab_size = 50000\n",
    "\n",
    "# `filters` specify what characters to get rid of\n",
    "tokenizer = Tokenizer(nb_words=max_vocab_size,\n",
    "                      filters='!\"#$%&()*+,-./:;<=>?@[\\\\]^_{|}~\\t\\n\\'`“”–')\n",
    "\n",
    "# fit the tokenizer\n",
    "tokenizer.fit_on_texts(text_generator())\n",
    "\n",
    "# we also want to keep track of the actual vocab size\n",
    "# we'll need this later\n",
    "# note: we add one because `0` is a reserved index in keras' tokenizer\n",
    "vocab_size = len(tokenizer.word_index) + 1"
   ]
  },
  {
   "cell_type": "markdown",
   "metadata": {},
   "source": [
    "Now the tokenizer knows what tokens (words) are in our corpus and has mapped them to numbers. The `keras` tokenizer also indexes them in order of frequency (most common first, i.e. index 1 is usually a word like \"the\"), which will come in handy later.\n",
    "\n",
    "At this point, let's define the dimensions of our embeddings. It's up to you and your task to choose this number. Like many neural network hyperparameters, you may just need to play around with it."
   ]
  },
  {
   "cell_type": "code",
   "execution_count": 4,
   "metadata": {
    "collapsed": true
   },
   "outputs": [],
   "source": [
    "embedding_dim = 256"
   ]
  },
  {
   "cell_type": "markdown",
   "metadata": {},
   "source": [
    "Now let's define the model. When I described the skip-gram task, I mentioned two inputs: the target word (also called the \"pivot\") and the context. So we're going to build two separate models for each input and then merge them into one."
   ]
  },
  {
   "cell_type": "code",
   "execution_count": 5,
   "metadata": {
    "collapsed": true
   },
   "outputs": [],
   "source": [
    "pivot_model = Sequential()\n",
    "pivot_model.add(Embedding(vocab_size, embedding_dim, input_length=1))\n",
    "\n",
    "context_model = Sequential()\n",
    "context_model.add(Embedding(vocab_size, embedding_dim, input_length=1))\n",
    "\n",
    "# merge the pivot and context models\n",
    "model = Sequential()\n",
    "model.add(Merge([pivot_model, context_model], mode='dot', dot_axes=2))\n",
    "model.add(Flatten())\n",
    "\n",
    "# the task as we've framed it here is\n",
    "# just binary classification,\n",
    "# so we want the output to be in [0,1],\n",
    "# and we can use binary crossentropy as our loss\n",
    "model.add(Activation('sigmoid'))\n",
    "model.compile(optimizer='adam', loss='binary_crossentropy')"
   ]
  },
  {
   "cell_type": "markdown",
   "metadata": {},
   "source": [
    "Finally, we can train the model."
   ]
  },
  {
   "cell_type": "code",
   "execution_count": 11,
   "metadata": {
    "collapsed": false
   },
   "outputs": [
    {
     "name": "stdout",
     "output_type": "stream",
     "text": [
      "epoch 0, 51.97\n",
      "epoch 1, 31.86\n",
      "epoch 2, 22.61\n",
      "epoch 3, 19.98\n",
      "epoch 4, 18.96\n",
      "epoch 5, 18.48\n",
      "epoch 6, 18.19\n",
      "epoch 7, 18.02\n",
      "epoch 8, 17.93\n",
      "epoch 9, 17.84\n",
      "epoch 10, 17.79\n",
      "epoch 11, 17.71\n",
      "epoch 12, 17.61\n",
      "epoch 13, 17.58\n",
      "epoch 14, 17.50\n",
      "epoch 15, 17.38\n",
      "epoch 16, 17.32\n",
      "epoch 17, 17.20\n",
      "epoch 18, 17.08\n",
      "epoch 19, 16.89\n",
      "epoch 20, 16.75\n",
      "epoch 21, 16.59\n",
      "epoch 22, 16.38\n",
      "epoch 23, 16.19\n",
      "epoch 24, 16.00\n",
      "epoch 25, 15.77\n",
      "epoch 26, 15.57\n",
      "epoch 27, 15.31\n",
      "epoch 28, 15.13\n",
      "epoch 29, 14.82\n",
      "epoch 30, 14.61\n",
      "epoch 31, 14.35\n",
      "epoch 32, 14.08\n",
      "epoch 33, 13.80\n",
      "epoch 34, 13.61\n",
      "epoch 35, 13.34\n",
      "epoch 36, 13.09\n",
      "epoch 37, 12.81\n",
      "epoch 38, 12.61\n",
      "epoch 39, 12.37\n",
      "epoch 40, 12.13\n",
      "epoch 41, 11.89\n",
      "epoch 42, 11.69\n",
      "epoch 43, 11.49\n",
      "epoch 44, 11.28\n",
      "epoch 45, 11.11\n",
      "epoch 46, 10.91\n",
      "epoch 47, 10.72\n",
      "epoch 48, 10.57\n",
      "epoch 49, 10.42\n",
      "epoch 50, 10.27\n",
      "epoch 51, 10.14\n",
      "epoch 52, 9.98\n",
      "epoch 53, 9.81\n",
      "epoch 54, 9.68\n",
      "epoch 55, 9.58\n",
      "epoch 56, 9.47\n",
      "epoch 57, 9.38\n",
      "epoch 58, 9.24\n",
      "epoch 59, 9.11\n"
     ]
    }
   ],
   "source": [
    "n_epochs = 60\n",
    "\n",
    "# used to sample words (indices)\n",
    "sampling_table = make_sampling_table(vocab_size)\n",
    "\n",
    "for i in range(n_epochs):\n",
    "    loss = 0\n",
    "    for seq in tokenizer.texts_to_sequences_generator(text_generator()):\n",
    "        # generate skip-gram training examples\n",
    "        # - `couples` consists of the pivots (i.e. target words) and surrounding contexts\n",
    "        # - `labels` represent if the context is true or not\n",
    "        # - `window_size` determines how far to look between words\n",
    "        # - `negative_samples` specifies the ratio of negative couples\n",
    "        #    (i.e. couples where the context is false)\n",
    "        #    to generate with respect to the positive couples;\n",
    "        #    i.e. `negative_samples=4` means \"generate 4 times as many negative samples\"\n",
    "        couples, labels = skipgrams(seq, vocab_size, window_size=5, negative_samples=4, sampling_table=sampling_table)\n",
    "        if couples:\n",
    "            pivot, context = zip(*couples)\n",
    "            pivot = np.array(pivot, dtype='int32')\n",
    "            context = np.array(context, dtype='int32')\n",
    "            labels = np.array(labels, dtype='int32')\n",
    "            loss += model.train_on_batch([pivot, context], labels)\n",
    "    print('epoch %d, %0.02f'%(i, loss))"
   ]
  },
  {
   "cell_type": "markdown",
   "metadata": {},
   "source": [
    "With any luck, the model should finish training without a hitch.\n",
    "\n",
    "Now we can extract the embeddings, which are just the weights of the pivot embedding layer:"
   ]
  },
  {
   "cell_type": "code",
   "execution_count": 12,
   "metadata": {
    "collapsed": true
   },
   "outputs": [],
   "source": [
    "embeddings = model.get_weights()[0]"
   ]
  },
  {
   "cell_type": "markdown",
   "metadata": {},
   "source": [
    "We also want to set aside the tokenizer's word index for later use (so we can get indices for words) and also create a reverse word index (so we can get words from indices):"
   ]
  },
  {
   "cell_type": "code",
   "execution_count": 13,
   "metadata": {
    "collapsed": true
   },
   "outputs": [],
   "source": [
    "word_index = tokenizer.word_index\n",
    "reverse_word_index = {v: k for k, v in word_index.items()}"
   ]
  },
  {
   "cell_type": "markdown",
   "metadata": {},
   "source": [
    "That's it for learning the embeddings. Now we can try using them.\n",
    "\n",
    "## Getting similar words\n",
    "\n",
    "Each word embedding is just a mapping of a word to some point in space. So if we want to find words similar to some target word, we literally just need to look at the closest embeddings to that target word's embedding.\n",
    "\n",
    "An example will make this clearer.\n",
    "\n",
    "First, let's write a simple function to retrieve an embedding for a word:"
   ]
  },
  {
   "cell_type": "code",
   "execution_count": 14,
   "metadata": {
    "collapsed": true
   },
   "outputs": [],
   "source": [
    "def get_embedding(word):\n",
    "    idx = word_index[word]\n",
    "    # make it 2d\n",
    "    return embeddings[idx][:,np.newaxis].T"
   ]
  },
  {
   "cell_type": "markdown",
   "metadata": {},
   "source": [
    "Then we can define a function to get a most similar word for an input word:"
   ]
  },
  {
   "cell_type": "code",
   "execution_count": 15,
   "metadata": {
    "collapsed": true
   },
   "outputs": [],
   "source": [
    "from scipy.spatial.distance import cdist\n",
    "\n",
    "ignore_n_most_common = 50\n",
    "\n",
    "def get_closest(word):\n",
    "    embedding = get_embedding(word)\n",
    "\n",
    "    # get the distance from the embedding\n",
    "    # to every other embedding\n",
    "    distances = cdist(embedding, embeddings)[0]\n",
    "\n",
    "    # pair each embedding index and its distance\n",
    "    distances = list(enumerate(distances))\n",
    "\n",
    "    # sort from closest to furthest\n",
    "    distances = sorted(distances, key=lambda d: d[1])\n",
    "\n",
    "    # skip the first one; it's the target word\n",
    "    for idx, dist in distances[1:]:\n",
    "        # ignore the n most common words;\n",
    "        # they can get in the way.\n",
    "        # because the tokenizer organized indices\n",
    "        # from most common to least, we can just do this\n",
    "        if idx > ignore_n_most_common:\n",
    "            return reverse_word_index[idx]"
   ]
  },
  {
   "cell_type": "markdown",
   "metadata": {},
   "source": [
    "Now let's give it a try (you may get different results):"
   ]
  },
  {
   "cell_type": "code",
   "execution_count": 16,
   "metadata": {
    "collapsed": false
   },
   "outputs": [
    {
     "name": "stdout",
     "output_type": "stream",
     "text": [
      "teleprompter\n",
      "infused\n",
      "nation\n",
      "americans\n",
      "portray\n"
     ]
    }
   ],
   "source": [
    "print(get_closest('freedom'))\n",
    "print(get_closest('justice'))\n",
    "print(get_closest('america'))\n",
    "print(get_closest('citizens'))\n",
    "print(get_closest('citizen'))"
   ]
  },
  {
   "cell_type": "markdown",
   "metadata": {},
   "source": [
    "For the most part, we seem to be getting related words!\n",
    "\n",
    "NB: Here we computed distances to _every_ other embedding, which is far from ideal when dealing with really large vocabularies. `Gensim`'s [`Word2Vec`](https://radimrehurek.com/gensim/models/word2vec.html) class implements a `most_similar` method that uses an approximate, but much faster, method for finding similar words. You can import the embeddings learned here into that class:"
   ]
  },
  {
   "cell_type": "code",
   "execution_count": 17,
   "metadata": {
    "collapsed": false
   },
   "outputs": [
    {
     "name": "stdout",
     "output_type": "stream",
     "text": [
      "[(u'religion', 0.5424818992614746), (u'nicaraguan', 0.5365787148475647), (u'world', 0.5312928557395935), (u'indivisible', 0.5296944379806519), (u'teleprompter', 0.5262748003005981), (u'peace', 0.5234299898147583), (u'nourish', 0.5190684199333191), (u'free', 0.5122354030609131), (u'siege', 0.5078175067901611), (u'untrammeled', 0.5072057247161865)]\n"
     ]
    }
   ],
   "source": [
    "from gensim.models.doc2vec import Word2Vec\n",
    "\n",
    "with open('embeddings.dat', 'w') as f:\n",
    "    f.write('{} {}'.format(vocab_size, embedding_dim))\n",
    "\n",
    "    for word, idx in word_index.items():\n",
    "        embedding = ' '.join(str(d) for d in embeddings[idx])\n",
    "        f.write('\\n{} {}'.format(word, embedding))\n",
    "\n",
    "w2v = Word2Vec.load_word2vec_format('embeddings.dat', binary=False)\n",
    "print(w2v.most_similar(positive=['freedom']))"
   ]
  },
  {
   "cell_type": "markdown",
   "metadata": {},
   "source": [
    "## t-SNE\n",
    "\n",
    "t-SNE (\"t-Distributed Stochastic Neighbor Embedding\") is a way of projecting high-dimensional data, e.g. our word embeddings, to a lower-dimension space, e.g. 2D, so we can visualize it.\n",
    "\n",
    "This will give us a better sense of the quality of our embeddings: we should see clusters of related words.\n",
    "\n",
    "`scikit-learn` provides a t-SNE implementation that is very easy to use."
   ]
  },
  {
   "cell_type": "code",
   "execution_count": 19,
   "metadata": {
    "collapsed": false
   },
   "outputs": [],
   "source": [
    "from sklearn.manifold import TSNE\n",
    "\n",
    "# `n_components` is the number of dimensions to reduce to\n",
    "tsne = TSNE(n_components=2)\n",
    "\n",
    "# apply the dimensionality reduction\n",
    "# to our embeddings to get our 2d points\n",
    "points = tsne.fit_transform(embeddings)"
   ]
  },
  {
   "cell_type": "markdown",
   "metadata": {},
   "source": [
    "And now let's plot it out:"
   ]
  },
  {
   "cell_type": "code",
   "execution_count": 20,
   "metadata": {
    "collapsed": false
   },
   "outputs": [
    {
     "name": "stdout",
     "output_type": "stream",
     "text": [
      "[[ 0.03630654  5.26957946]\n",
      " [ 0.01452018  5.46890038]\n",
      " [ 0.0155592   5.48057905]\n",
      " ..., \n",
      " [ 1.22333404 -1.02130924]\n",
      " [ 1.09427517  1.97301989]\n",
      " [ 0.27764715  0.70961465]]\n"
     ]
    }
   ],
   "source": [
    "print(points)"
   ]
  },
  {
   "cell_type": "code",
   "execution_count": null,
   "metadata": {
    "collapsed": true
   },
   "outputs": [],
   "source": [
    "import matplotlib\n",
    "matplotlib.use('Agg') # for pngs\n",
    "import matplotlib.pyplot as plt\n",
    "\n",
    "# plot our results\n",
    "# make it quite big so we can see everything\n",
    "fig, ax = plt.subplots(figsize=(40, 20))\n",
    "\n",
    "# extract x and y values separately\n",
    "xs = points[:,0]\n",
    "ys = points[:,1]\n",
    "\n",
    "# plot the points\n",
    "# we don't actually care about the point markers,\n",
    "# just want to automatically set the bounds of the plot\n",
    "ax.scatter(xs, ys, alpha=0)\n",
    "\n",
    "# annotate each point with its word\n",
    "for i, point in enumerate(points):\n",
    "    ax.annotate(reverse_word_index.get(i),\n",
    "                (xs[i], ys[i]),\n",
    "                fontsize=8)\n",
    "\n",
    "plt.savefig('tsne.png')"
   ]
  },
  {
   "cell_type": "markdown",
   "metadata": {},
   "source": [
    "![tSNE of State of the Union word embeddings](../assets/tsne.png)\n",
    "\n",
    "This looks pretty good! It could certainly be improved upon, with more data or more training, but it's a great start.\n",
    "\n",
    "## Further Reading\n",
    "\n",
    "- [Deep Learning, NLP, and Representations](http://colah.github.io/posts/2014-07-NLP-RNNs-Representations/). Chris Olah.\n",
    "- [On Word Embeddings](http://sebastianruder.com/word-embeddings-1/). Sebastian Ruder.\n",
    "- Mikolov, T., Chen, K., Corrado, G., & Dean, J. (2013). [Efficient estimation of word representations in vector space](http://arxiv.org/pdf/1301.3781.pdf). arXiv preprint arXiv:1301.3781.\n",
    "- Mikolov, T., Sutskever, I., Chen, K., Corrado, G. S., & Dean, J. (2013). [Distributed representations of words and phrases and their compositionality](http://papers.nips.cc/paper/5021-distributed-representations-of-words-and-phrases-and-their-compositionality.pdf). In Advances in neural information processing systems (pp. 3111-3119)."
   ]
  }
 ],
 "metadata": {
  "kernelspec": {
   "display_name": "Python 3",
   "language": "python",
   "name": "python3"
  },
  "language_info": {
   "codemirror_mode": {
    "name": "ipython",
    "version": 3
   },
   "file_extension": ".py",
   "mimetype": "text/x-python",
   "name": "python",
   "nbconvert_exporter": "python",
   "pygments_lexer": "ipython3",
   "version": "3.5.2"
  }
 },
 "nbformat": 4,
 "nbformat_minor": 1
}
