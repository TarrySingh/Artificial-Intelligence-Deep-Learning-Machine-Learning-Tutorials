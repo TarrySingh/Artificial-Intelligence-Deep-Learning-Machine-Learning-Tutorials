{
 "cells": [
  {
   "cell_type": "markdown",
   "metadata": {
    "hideCode": false,
    "hidePrompt": false
   },
   "source": [
    "## Vectorization\n",
    "\n",
    "We will go through the following three topics in this notebook:\n",
    "\n",
    "- Vectorization of backpropagation\n",
    "- Gradient checking\n",
    "- Momentum\n",
    "\n",
    "So we can build a simple neural network with only one input, one hidden neuron and one output. In this notebook we will describe a NN that takes 2D input features, projecting them onto a 3D hidden layer, and classifies them with a 2D softmax output classifier. \n",
    "\n",
    "While we didn't add the bias parameters to the previous 2 models, we will add them to this model. We will work out the vector computations needed to optimize and run this neural network in this tutorial."
   ]
  },
  {
   "cell_type": "code",
   "execution_count": 41,
   "metadata": {
    "collapsed": true,
    "hideCode": false,
    "hidePrompt": false
   },
   "outputs": [],
   "source": [
    "import numpy as np\n",
    "import sklearn.datasets\n",
    "import matplotlib.pyplot as plt\n",
    "from matplotlib.colors import colorConverter, ListedColormap\n",
    "from mpl_toolkits.mplot3d import Axes3D\n",
    "from matplotlib import cm \n",
    "%matplotlib inline\n",
    "np.random.seed(seed=1)"
   ]
  },
  {
   "cell_type": "markdown",
   "metadata": {},
   "source": [
    "# About the dataset\n",
    "\n"
   ]
  },
  {
   "cell_type": "code",
   "execution_count": 54,
   "metadata": {},
   "outputs": [
    {
     "name": "stdout",
     "output_type": "stream",
     "text": [
      "shape of X: (100, 2)\n",
      "shape of T: (100, 2)\n"
     ]
    }
   ],
   "source": [
    "# Generate the dataset\n",
    "X, t = sklearn.datasets.make_circles(n_samples=100, shuffle=False, factor=0.3, noise=0.1)\n",
    "T = np.zeros((100,2)) # Define target matrix\n",
    "T[t==1,1] = 1\n",
    "T[t==0,0] = 1\n",
    "# Separate the red and blue points for plotting\n",
    "x_red = X[t==0]\n",
    "x_blue = X[t==1]\n",
    "\n",
    "print('shape of X: {}'.format(X.shape))\n",
    "print('shape of T: {}'.format(T.shape))"
   ]
  },
  {
   "cell_type": "code",
   "execution_count": 55,
   "metadata": {},
   "outputs": [
    {
     "data": {
      "image/png": "[encoded data removed]",
      "text/plain": [
       "<matplotlib.figure.Figure at 0x110388668>"
      ]
     },
     "metadata": {},
     "output_type": "display_data"
    }
   ],
   "source": [
    "# Plot both classes on the x1, x2 plane\n",
    "plt.plot(x_red[:,0], x_red[:,1], 'ro', label='class red')\n",
    "plt.plot(x_blue[:,0], x_blue[:,1], 'bo', label='class blue')\n",
    "plt.grid()\n",
    "plt.legend(loc=1)\n",
    "plt.xlabel('$x_1$', fontsize=15)\n",
    "plt.ylabel('$x_2$', fontsize=15)\n",
    "plt.axis([-1.5, 1.5, -1.5, 1.5])\n",
    "plt.title('red vs blue classes in the input space')\n",
    "plt.show()"
   ]
  },
  {
   "cell_type": "code",
   "execution_count": 56,
   "metadata": {
    "collapsed": true
   },
   "outputs": [],
   "source": [
    "# Vectorizing forward prop\n",
    "# Define the logistic function\n",
    "def logistic(z): \n",
    "    return 1 / (1 + np.exp(-z))\n",
    "\n",
    "# Define the softmax function\n",
    "def softmax(z): \n",
    "    return np.exp(z) / np.sum(np.exp(z), axis=1, keepdims=True)\n",
    "\n",
    "# Function to compute the hidden activations\n",
    "def hidden_activations(X, Wh, bh):\n",
    "    return logistic(X.dot(Wh) + bh)\n",
    "\n",
    "# Define output layer feedforward\n",
    "def output_activations(H, Wo, bo):\n",
    "    return softmax(H.dot(Wo) + bo)\n",
    "\n",
    "# Define the neural network function\n",
    "def nn(X, Wh, bh, Wo, bo): \n",
    "    return output_activations(hidden_activations(X, Wh, bh), Wo, bo)\n",
    "\n",
    "# Define the neural network prediction function that only returns\n",
    "#  1 or 0 depending on the predicted class\n",
    "def nn_predict(X, Wh, bh, Wo, bo): \n",
    "    return np.around(nn(X, Wh, bh, Wo, bo))"
   ]
  },
  {
   "cell_type": "code",
   "execution_count": 57,
   "metadata": {
    "collapsed": true
   },
   "outputs": [],
   "source": [
    "# Vectorizing backward prop - OUTPUT LAYER\n",
    "# Define the cost function\n",
    "def cost(Y, T):\n",
    "    return - np.multiply(T, np.log(Y)).sum()\n",
    "\n",
    "# Define the error function at the output\n",
    "def error_output(Y, T):\n",
    "    return Y - T\n",
    "\n",
    "# Define the gradient function for the weight parameters at the output layer\n",
    "def gradient_weight_out(H, Eo): \n",
    "    return  H.T.dot(Eo)\n",
    "\n",
    "# Define the gradient function for the bias parameters at the output layer\n",
    "def gradient_bias_out(Eo): \n",
    "    return  np.sum(Eo, axis=0, keepdims=True)"
   ]
  },
  {
   "cell_type": "code",
   "execution_count": 58,
   "metadata": {
    "collapsed": true
   },
   "outputs": [],
   "source": [
    "# Vectorizing backward prop - HIDDEN LAYER\n",
    "# Define the error function at the hidden layer\n",
    "def error_hidden(H, Wo, Eo):\n",
    "    # H * (1-H) * (E . Wo^T)\n",
    "    return np.multiply(np.multiply(H,(1 - H)), Eo.dot(Wo.T))\n",
    "\n",
    "# Define the gradient function for the weight parameters at the hidden layer\n",
    "def gradient_weight_hidden(X, Eh):\n",
    "    return X.T.dot(Eh)\n",
    "\n",
    "# Define the gradient function for the bias parameters at the output layer\n",
    "def gradient_bias_hidden(Eh): \n",
    "    return  np.sum(Eh, axis=0, keepdims=True)"
   ]
  },
  {
   "cell_type": "code",
   "execution_count": 59,
   "metadata": {},
   "outputs": [],
   "source": [
    "# Gradient Checking\n",
    "# Initialize weights and biases\n",
    "init_var = 1\n",
    "# Initialize hidden layer parameters\n",
    "bh = np.random.randn(1, 3) * init_var\n",
    "Wh = np.random.randn(2, 3) * init_var\n",
    "# Initialize output layer parameters\n",
    "bo = np.random.randn(1, 2) * init_var\n",
    "Wo = np.random.randn(3, 2) * init_var\n",
    "\n",
    "# Compute the gradients by backpropagation\n",
    "# Compute the activations of the layers\n",
    "H = hidden_activations(X, Wh, bh)\n",
    "Y = output_activations(H, Wo, bo)\n",
    "# Compute the gradients of the output layer\n",
    "Eo = error_output(Y, T)\n",
    "JWo = gradient_weight_out(H, Eo)\n",
    "Jbo = gradient_bias_out(Eo)\n",
    "# Compute the gradients of the hidden layer\n",
    "Eh = error_hidden(H, Wo, Eo)\n",
    "JWh = gradient_weight_hidden(X, Eh)\n",
    "Jbh = gradient_bias_hidden(Eh)"
   ]
  },
  {
   "cell_type": "code",
   "execution_count": 60,
   "metadata": {},
   "outputs": [
    {
     "name": "stdout",
     "output_type": "stream",
     "text": [
      "No gradient errors found\n"
     ]
    }
   ],
   "source": [
    "# Combine all parameter matrices in a list\n",
    "params = [Wh, bh, Wo, bo]\n",
    "# Combine all parameter gradients in a list\n",
    "grad_params = [JWh, Jbh, JWo, Jbo]\n",
    "\n",
    "# Set the small change to compute the numerical gradient\n",
    "eps = 0.0001\n",
    "\n",
    "# Check each parameter matrix\n",
    "for p_idx in range(len(params)):\n",
    "    # Check each parameter in each parameter matrix\n",
    "    for row in range(params[p_idx].shape[0]):\n",
    "        for col in range(params[p_idx].shape[1]):\n",
    "            # Copy the parameter matrix and change the current parameter slightly\n",
    "            p_matrix_min = params[p_idx].copy()\n",
    "            p_matrix_min[row,col] -= eps\n",
    "            p_matrix_plus = params[p_idx].copy()\n",
    "            p_matrix_plus[row,col] += eps\n",
    "            # Copy the parameter list, and change the updated parameter matrix\n",
    "            params_min = params[:]\n",
    "            params_min[p_idx] = p_matrix_min\n",
    "            params_plus = params[:]\n",
    "            params_plus[p_idx] =  p_matrix_plus\n",
    "            # Compute the numerical gradient\n",
    "            grad_num = (cost(nn(X, *params_plus), T)-cost(nn(X, *params_min), T))/(2*eps)\n",
    "            # Raise error if the numerical grade is not close to the backprop gradient\n",
    "            if not np.isclose(grad_num, grad_params[p_idx][row,col]):\n",
    "                raise ValueError('Numerical gradient of {:.6f} is not close to the backpropagation gradient of {:.6f}!'.format(float(grad_num), float(grad_params[p_idx][row,col])))\n",
    "print('No gradient errors found')"
   ]
  },
  {
   "cell_type": "code",
   "execution_count": 61,
   "metadata": {
    "collapsed": true
   },
   "outputs": [],
   "source": [
    "# Define the update function to update the network parameters over 1 iteration\n",
    "def backprop_gradients(X, T, Wh, bh, Wo, bo):\n",
    "    # Compute the output of the network\n",
    "    # Compute the activations of the layers\n",
    "    H = hidden_activations(X, Wh, bh)\n",
    "    Y = output_activations(H, Wo, bo)\n",
    "    # Compute the gradients of the output layer\n",
    "    Eo = error_output(Y, T)\n",
    "    JWo = gradient_weight_out(H, Eo)\n",
    "    Jbo = gradient_bias_out(Eo)\n",
    "    # Compute the gradients of the hidden layer\n",
    "    Eh = error_hidden(H, Wo, Eo)\n",
    "    JWh = gradient_weight_hidden(X, Eh)\n",
    "    Jbh = gradient_bias_hidden(Eh)\n",
    "    return [JWh, Jbh, JWo, Jbo]\n",
    "\n",
    "def update_velocity(X, T, ls_of_params, Vs, momentum_term, learning_rate):\n",
    "    # ls_of_params = [Wh, bh, Wo, bo]\n",
    "    # Js = [JWh, Jbh, JWo, Jbo]\n",
    "    Js = backprop_gradients(X, T, *ls_of_params)\n",
    "    return [momentum_term * V - learning_rate * J for V,J in zip(Vs, Js)]\n",
    "\n",
    "def update_params(ls_of_params, Vs):\n",
    "    # ls_of_params = [Wh, bh, Wo, bo]\n",
    "    # Vs = [VWh, Vbh, VWo, Vbo]\n",
    "    return [P + V for P,V in zip(ls_of_params, Vs)]"
   ]
  },
  {
   "cell_type": "code",
   "execution_count": 62,
   "metadata": {
    "collapsed": true
   },
   "outputs": [],
   "source": [
    "# Run backpropagation\n",
    "# Initialize weights and biases\n",
    "init_var = 0.1\n",
    "# Initialize hidden layer parameters\n",
    "bh = np.random.randn(1, 3) * init_var\n",
    "Wh = np.random.randn(2, 3) * init_var\n",
    "# Initialize output layer parameters\n",
    "bo = np.random.randn(1, 2) * init_var\n",
    "Wo = np.random.randn(3, 2) * init_var\n",
    "# Parameters are already initilized randomly with the gradient checking\n",
    "# Set the learning rate\n",
    "learning_rate = 0.02\n",
    "momentum_term = 0.9\n",
    "\n",
    "# define the velocities Vs = [VWh, Vbh, VWo, Vbo]\n",
    "Vs = [np.zeros_like(M) for M in [Wh, bh, Wo, bo]]\n",
    "\n",
    "# Start the gradient descent updates and plot the iterations\n",
    "nb_of_iterations = 300  # number of gradient descent updates\n",
    "lr_update = learning_rate / nb_of_iterations # learning rate update rule\n",
    "ls_costs = [cost(nn(X, Wh, bh, Wo, bo), T)]  # list of cost over the iterations\n",
    "for i in range(nb_of_iterations):\n",
    "    # Update the velocities and the parameters\n",
    "    Vs = update_velocity(X, T, [Wh, bh, Wo, bo], Vs, momentum_term, learning_rate)\n",
    "    Wh, bh, Wo, bo = update_params([Wh, bh, Wo, bo], Vs)\n",
    "    ls_costs.append(cost(nn(X, Wh, bh, Wo, bo), T))"
   ]
  },
  {
   "cell_type": "code",
   "execution_count": 63,
   "metadata": {},
   "outputs": [
    {
     "data": {
      "image/png": "[encoded data removed]",
      "text/plain": [
       "<matplotlib.figure.Figure at 0x11049b358>"
      ]
     },
     "metadata": {},
     "output_type": "display_data"
    }
   ],
   "source": [
    "# Plot the cost over the iterations\n",
    "plt.plot(ls_costs, 'b-')\n",
    "plt.xlabel('iteration')\n",
    "plt.ylabel('$\\\\xi$', fontsize=15)\n",
    "plt.title('Decrease of cost over backprop iteration')\n",
    "plt.grid()\n",
    "plt.show()"
   ]
  },
  {
   "cell_type": "code",
   "execution_count": 64,
   "metadata": {},
   "outputs": [
    {
     "ename": "TypeError",
     "evalue": "sum() got an unexpected keyword argument 'keepdims'",
     "output_type": "error",
     "traceback": [
      "\u001b[0;31m---------------------------------------------------------------------------\u001b[0m",
      "\u001b[0;31mTypeError\u001b[0m                                 Traceback (most recent call last)",
      "\u001b[0;32m<ipython-input-64-98499553b3b2>\u001b[0m in \u001b[0;36m<module>\u001b[0;34m()\u001b[0m\n\u001b[1;32m     10\u001b[0m \u001b[0;32mfor\u001b[0m \u001b[0mi\u001b[0m \u001b[0;32min\u001b[0m \u001b[0mrange\u001b[0m\u001b[0;34m(\u001b[0m\u001b[0mnb_of_xs\u001b[0m\u001b[0;34m)\u001b[0m\u001b[0;34m:\u001b[0m\u001b[0;34m\u001b[0m\u001b[0m\n\u001b[1;32m     11\u001b[0m     \u001b[0;32mfor\u001b[0m \u001b[0mj\u001b[0m \u001b[0;32min\u001b[0m \u001b[0mrange\u001b[0m\u001b[0;34m(\u001b[0m\u001b[0mnb_of_xs\u001b[0m\u001b[0;34m)\u001b[0m\u001b[0;34m:\u001b[0m\u001b[0;34m\u001b[0m\u001b[0m\n\u001b[0;32m---> 12\u001b[0;31m         \u001b[0mpred\u001b[0m \u001b[0;34m=\u001b[0m \u001b[0mnn_predict\u001b[0m\u001b[0;34m(\u001b[0m\u001b[0mnp\u001b[0m\u001b[0;34m.\u001b[0m\u001b[0masmatrix\u001b[0m\u001b[0;34m(\u001b[0m\u001b[0;34m[\u001b[0m\u001b[0mxx\u001b[0m\u001b[0;34m[\u001b[0m\u001b[0mi\u001b[0m\u001b[0;34m,\u001b[0m\u001b[0mj\u001b[0m\u001b[0;34m]\u001b[0m\u001b[0;34m,\u001b[0m \u001b[0myy\u001b[0m\u001b[0;34m[\u001b[0m\u001b[0mi\u001b[0m\u001b[0;34m,\u001b[0m\u001b[0mj\u001b[0m\u001b[0;34m]\u001b[0m\u001b[0;34m]\u001b[0m\u001b[0;34m)\u001b[0m\u001b[0;34m,\u001b[0m \u001b[0mWh\u001b[0m\u001b[0;34m,\u001b[0m \u001b[0mbh\u001b[0m\u001b[0;34m,\u001b[0m \u001b[0mWo\u001b[0m\u001b[0;34m,\u001b[0m \u001b[0mbo\u001b[0m\u001b[0;34m)\u001b[0m\u001b[0;34m\u001b[0m\u001b[0m\n\u001b[0m\u001b[1;32m     13\u001b[0m         \u001b[0mclassification_plane\u001b[0m\u001b[0;34m[\u001b[0m\u001b[0mi\u001b[0m\u001b[0;34m,\u001b[0m\u001b[0mj\u001b[0m\u001b[0;34m]\u001b[0m \u001b[0;34m=\u001b[0m \u001b[0mpred\u001b[0m\u001b[0;34m[\u001b[0m\u001b[0;36m0\u001b[0m\u001b[0;34m,\u001b[0m\u001b[0;36m0\u001b[0m\u001b[0;34m]\u001b[0m\u001b[0;34m\u001b[0m\u001b[0m\n\u001b[1;32m     14\u001b[0m \u001b[0;31m# Create a color map to show the classification colors of each grid point\u001b[0m\u001b[0;34m\u001b[0m\u001b[0;34m\u001b[0m\u001b[0m\n",
      "\u001b[0;32m<ipython-input-56-ba3b5a005763>\u001b[0m in \u001b[0;36mnn_predict\u001b[0;34m(X, Wh, bh, Wo, bo)\u001b[0m\n\u001b[1;32m     23\u001b[0m \u001b[0;31m#  1 or 0 depending on the predicted class\u001b[0m\u001b[0;34m\u001b[0m\u001b[0;34m\u001b[0m\u001b[0m\n\u001b[1;32m     24\u001b[0m \u001b[0;32mdef\u001b[0m \u001b[0mnn_predict\u001b[0m\u001b[0;34m(\u001b[0m\u001b[0mX\u001b[0m\u001b[0;34m,\u001b[0m \u001b[0mWh\u001b[0m\u001b[0;34m,\u001b[0m \u001b[0mbh\u001b[0m\u001b[0;34m,\u001b[0m \u001b[0mWo\u001b[0m\u001b[0;34m,\u001b[0m \u001b[0mbo\u001b[0m\u001b[0;34m)\u001b[0m\u001b[0;34m:\u001b[0m\u001b[0;34m\u001b[0m\u001b[0m\n\u001b[0;32m---> 25\u001b[0;31m     \u001b[0;32mreturn\u001b[0m \u001b[0mnp\u001b[0m\u001b[0;34m.\u001b[0m\u001b[0maround\u001b[0m\u001b[0;34m(\u001b[0m\u001b[0mnn\u001b[0m\u001b[0;34m(\u001b[0m\u001b[0mX\u001b[0m\u001b[0;34m,\u001b[0m \u001b[0mWh\u001b[0m\u001b[0;34m,\u001b[0m \u001b[0mbh\u001b[0m\u001b[0;34m,\u001b[0m \u001b[0mWo\u001b[0m\u001b[0;34m,\u001b[0m \u001b[0mbo\u001b[0m\u001b[0;34m)\u001b[0m\u001b[0;34m)\u001b[0m\u001b[0;34m\u001b[0m\u001b[0m\n\u001b[0m",
      "\u001b[0;32m<ipython-input-56-ba3b5a005763>\u001b[0m in \u001b[0;36mnn\u001b[0;34m(X, Wh, bh, Wo, bo)\u001b[0m\n\u001b[1;32m     18\u001b[0m \u001b[0;31m# Define the neural network function\u001b[0m\u001b[0;34m\u001b[0m\u001b[0;34m\u001b[0m\u001b[0m\n\u001b[1;32m     19\u001b[0m \u001b[0;32mdef\u001b[0m \u001b[0mnn\u001b[0m\u001b[0;34m(\u001b[0m\u001b[0mX\u001b[0m\u001b[0;34m,\u001b[0m \u001b[0mWh\u001b[0m\u001b[0;34m,\u001b[0m \u001b[0mbh\u001b[0m\u001b[0;34m,\u001b[0m \u001b[0mWo\u001b[0m\u001b[0;34m,\u001b[0m \u001b[0mbo\u001b[0m\u001b[0;34m)\u001b[0m\u001b[0;34m:\u001b[0m\u001b[0;34m\u001b[0m\u001b[0m\n\u001b[0;32m---> 20\u001b[0;31m     \u001b[0;32mreturn\u001b[0m \u001b[0moutput_activations\u001b[0m\u001b[0;34m(\u001b[0m\u001b[0mhidden_activations\u001b[0m\u001b[0;34m(\u001b[0m\u001b[0mX\u001b[0m\u001b[0;34m,\u001b[0m \u001b[0mWh\u001b[0m\u001b[0;34m,\u001b[0m \u001b[0mbh\u001b[0m\u001b[0;34m)\u001b[0m\u001b[0;34m,\u001b[0m \u001b[0mWo\u001b[0m\u001b[0;34m,\u001b[0m \u001b[0mbo\u001b[0m\u001b[0;34m)\u001b[0m\u001b[0;34m\u001b[0m\u001b[0m\n\u001b[0m\u001b[1;32m     21\u001b[0m \u001b[0;34m\u001b[0m\u001b[0m\n\u001b[1;32m     22\u001b[0m \u001b[0;31m# Define the neural network prediction function that only returns\u001b[0m\u001b[0;34m\u001b[0m\u001b[0;34m\u001b[0m\u001b[0m\n",
      "\u001b[0;32m<ipython-input-56-ba3b5a005763>\u001b[0m in \u001b[0;36moutput_activations\u001b[0;34m(H, Wo, bo)\u001b[0m\n\u001b[1;32m     14\u001b[0m \u001b[0;31m# Define output layer feedforward\u001b[0m\u001b[0;34m\u001b[0m\u001b[0;34m\u001b[0m\u001b[0m\n\u001b[1;32m     15\u001b[0m \u001b[0;32mdef\u001b[0m \u001b[0moutput_activations\u001b[0m\u001b[0;34m(\u001b[0m\u001b[0mH\u001b[0m\u001b[0;34m,\u001b[0m \u001b[0mWo\u001b[0m\u001b[0;34m,\u001b[0m \u001b[0mbo\u001b[0m\u001b[0;34m)\u001b[0m\u001b[0;34m:\u001b[0m\u001b[0;34m\u001b[0m\u001b[0m\n\u001b[0;32m---> 16\u001b[0;31m     \u001b[0;32mreturn\u001b[0m \u001b[0msoftmax\u001b[0m\u001b[0;34m(\u001b[0m\u001b[0mH\u001b[0m\u001b[0;34m.\u001b[0m\u001b[0mdot\u001b[0m\u001b[0;34m(\u001b[0m\u001b[0mWo\u001b[0m\u001b[0;34m)\u001b[0m \u001b[0;34m+\u001b[0m \u001b[0mbo\u001b[0m\u001b[0;34m)\u001b[0m\u001b[0;34m\u001b[0m\u001b[0m\n\u001b[0m\u001b[1;32m     17\u001b[0m \u001b[0;34m\u001b[0m\u001b[0m\n\u001b[1;32m     18\u001b[0m \u001b[0;31m# Define the neural network function\u001b[0m\u001b[0;34m\u001b[0m\u001b[0;34m\u001b[0m\u001b[0m\n",
      "\u001b[0;32m<ipython-input-56-ba3b5a005763>\u001b[0m in \u001b[0;36msoftmax\u001b[0;34m(z)\u001b[0m\n\u001b[1;32m      6\u001b[0m \u001b[0;31m# Define the softmax function\u001b[0m\u001b[0;34m\u001b[0m\u001b[0;34m\u001b[0m\u001b[0m\n\u001b[1;32m      7\u001b[0m \u001b[0;32mdef\u001b[0m \u001b[0msoftmax\u001b[0m\u001b[0;34m(\u001b[0m\u001b[0mz\u001b[0m\u001b[0;34m)\u001b[0m\u001b[0;34m:\u001b[0m\u001b[0;34m\u001b[0m\u001b[0m\n\u001b[0;32m----> 8\u001b[0;31m     \u001b[0;32mreturn\u001b[0m \u001b[0mnp\u001b[0m\u001b[0;34m.\u001b[0m\u001b[0mexp\u001b[0m\u001b[0;34m(\u001b[0m\u001b[0mz\u001b[0m\u001b[0;34m)\u001b[0m \u001b[0;34m/\u001b[0m \u001b[0mnp\u001b[0m\u001b[0;34m.\u001b[0m\u001b[0msum\u001b[0m\u001b[0;34m(\u001b[0m\u001b[0mnp\u001b[0m\u001b[0;34m.\u001b[0m\u001b[0mexp\u001b[0m\u001b[0;34m(\u001b[0m\u001b[0mz\u001b[0m\u001b[0;34m)\u001b[0m\u001b[0;34m,\u001b[0m \u001b[0maxis\u001b[0m\u001b[0;34m=\u001b[0m\u001b[0;36m1\u001b[0m\u001b[0;34m,\u001b[0m \u001b[0mkeepdims\u001b[0m\u001b[0;34m=\u001b[0m\u001b[0;32mTrue\u001b[0m\u001b[0;34m)\u001b[0m\u001b[0;34m\u001b[0m\u001b[0m\n\u001b[0m\u001b[1;32m      9\u001b[0m \u001b[0;34m\u001b[0m\u001b[0m\n\u001b[1;32m     10\u001b[0m \u001b[0;31m# Function to compute the hidden activations\u001b[0m\u001b[0;34m\u001b[0m\u001b[0;34m\u001b[0m\u001b[0m\n",
      "\u001b[0;32m~/anaconda/lib/python3.6/site-packages/numpy/core/fromnumeric.py\u001b[0m in \u001b[0;36msum\u001b[0;34m(a, axis, dtype, out, keepdims)\u001b[0m\n\u001b[1;32m   1830\u001b[0m             \u001b[0;32mpass\u001b[0m\u001b[0;34m\u001b[0m\u001b[0m\n\u001b[1;32m   1831\u001b[0m         \u001b[0;32melse\u001b[0m\u001b[0;34m:\u001b[0m\u001b[0;34m\u001b[0m\u001b[0m\n\u001b[0;32m-> 1832\u001b[0;31m             \u001b[0;32mreturn\u001b[0m \u001b[0msum\u001b[0m\u001b[0;34m(\u001b[0m\u001b[0maxis\u001b[0m\u001b[0;34m=\u001b[0m\u001b[0maxis\u001b[0m\u001b[0;34m,\u001b[0m \u001b[0mdtype\u001b[0m\u001b[0;34m=\u001b[0m\u001b[0mdtype\u001b[0m\u001b[0;34m,\u001b[0m \u001b[0mout\u001b[0m\u001b[0;34m=\u001b[0m\u001b[0mout\u001b[0m\u001b[0;34m,\u001b[0m \u001b[0;34m**\u001b[0m\u001b[0mkwargs\u001b[0m\u001b[0;34m)\u001b[0m\u001b[0;34m\u001b[0m\u001b[0m\n\u001b[0m\u001b[1;32m   1833\u001b[0m     return _methods._sum(a, axis=axis, dtype=dtype,\n\u001b[1;32m   1834\u001b[0m                          out=out, **kwargs)\n",
      "\u001b[0;31mTypeError\u001b[0m: sum() got an unexpected keyword argument 'keepdims'"
     ]
    }
   ],
   "source": [
    "# Plot the resulting decision boundary\n",
    "# Generate a grid over the input space to plot the color of the\n",
    "#  classification at that grid point\n",
    "nb_of_xs = 200\n",
    "xs1 = np.linspace(-2, 2, num=nb_of_xs)\n",
    "xs2 = np.linspace(-2, 2, num=nb_of_xs)\n",
    "xx, yy = np.meshgrid(xs1, xs2) # create the grid\n",
    "# Initialize and fill the classification plane\n",
    "classification_plane = np.zeros((nb_of_xs, nb_of_xs))\n",
    "for i in range(nb_of_xs):\n",
    "    for j in range(nb_of_xs):\n",
    "        pred = nn_predict(np.asmatrix([xx[i,j], yy[i,j]]), Wh, bh, Wo, bo)\n",
    "        classification_plane[i,j] = pred[0,0]\n",
    "# Create a color map to show the classification colors of each grid point\n",
    "cmap = ListedColormap([\n",
    "        colorConverter.to_rgba('b', alpha=0.30),\n",
    "        colorConverter.to_rgba('r', alpha=0.30)])\n",
    "\n",
    "# Plot the classification plane with decision boundary and input samples\n",
    "plt.contourf(xx, yy, classification_plane, cmap=cmap)\n",
    "# Plot both classes on the x1, x2 plane\n",
    "plt.plot(x_red[:,0], x_red[:,1], 'ro', label='class red')\n",
    "plt.plot(x_blue[:,0], x_blue[:,1], 'bo', label='class blue')\n",
    "plt.grid()\n",
    "plt.legend(loc=1)\n",
    "plt.xlabel('$x_1$', fontsize=15)\n",
    "plt.ylabel('$x_2$', fontsize=15)\n",
    "plt.axis([-1.5, 1.5, -1.5, 1.5])\n",
    "plt.title('red vs blue classification boundary')\n",
    "plt.show()"
   ]
  },
  {
   "cell_type": "code",
   "execution_count": 53,
   "metadata": {},
   "outputs": [
    {
     "data": {
      "image/png": "[encoded data removed]",
      "text/plain": [
       "<matplotlib.figure.Figure at 0x110388940>"
      ]
     },
     "metadata": {},
     "output_type": "display_data"
    }
   ],
   "source": [
    "# Plot the projection of the input onto the hidden layer\n",
    "\n",
    "# Define the projections of the blue and red classes\n",
    "H_blue = hidden_activations(x_blue, Wh, bh)\n",
    "H_red = hidden_activations(x_red, Wh, bh)\n",
    "# Plot the error surface\n",
    "fig = plt.figure()\n",
    "ax = Axes3D(fig)\n",
    "ax.plot(np.ravel(H_blue[:,0]), np.ravel(H_blue[:,1]), np.ravel(H_blue[:,2]), 'bo')\n",
    "ax.plot(np.ravel(H_red[:,0]), np.ravel(H_red[:,1]), np.ravel(H_red[:,2]), 'ro')\n",
    "ax.set_xlabel('$h_1$', fontsize=15)\n",
    "ax.set_ylabel('$h_2$', fontsize=15)\n",
    "ax.set_zlabel('$h_3$', fontsize=15)\n",
    "ax.view_init(elev=10, azim=-40)\n",
    "plt.title('Projection of the input X onto the hidden layer H')\n",
    "plt.grid()\n",
    "plt.show()"
   ]
  },
  {
   "cell_type": "code",
   "execution_count": null,
   "metadata": {
    "collapsed": true
   },
   "outputs": [],
   "source": []
  }
 ],
 "metadata": {
  "hide_code_all_hidden": false,
  "kernelspec": {
   "display_name": "Python 3",
   "language": "python",
   "name": "python3"
  },
  "language_info": {
   "codemirror_mode": {
    "name": "ipython",
    "version": 3
   },
   "file_extension": ".py",
   "mimetype": "text/x-python",
   "name": "python",
   "nbconvert_exporter": "python",
   "pygments_lexer": "ipython3",
   "version": "3.6.1"
  }
 },
 "nbformat": 4,
 "nbformat_minor": 2
}
