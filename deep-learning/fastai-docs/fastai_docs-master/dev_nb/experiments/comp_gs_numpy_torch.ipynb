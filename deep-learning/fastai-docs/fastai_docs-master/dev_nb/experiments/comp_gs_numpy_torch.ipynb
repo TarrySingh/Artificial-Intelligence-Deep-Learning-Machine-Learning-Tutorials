{
 "cells": [
  {
   "cell_type": "code",
   "execution_count": null,
   "metadata": {},
   "outputs": [],
   "source": [
    "%reload_ext autoreload\n",
    "%autoreload 2"
   ]
  },
  {
   "cell_type": "code",
   "execution_count": null,
   "metadata": {},
   "outputs": [],
   "source": [
    "from nb_002 import *"
   ]
  },
  {
   "cell_type": "code",
   "execution_count": null,
   "metadata": {},
   "outputs": [],
   "source": [
    "DATA_PATH = Path('data')\n",
    "PATH = DATA_PATH/'imagenet'"
   ]
  },
  {
   "cell_type": "code",
   "execution_count": null,
   "metadata": {},
   "outputs": [],
   "source": [
    "def dict_groupby(iterable, key=None):\n",
    "    return {k:list(v) for k,v in itertools.groupby(sorted(iterable, key=key), key=key)}\n",
    "\n",
    "def resolve_pipeline(tfms, **kwargs):\n",
    "    tfms = listify(tfms)\n",
    "    if len(tfms)==0: return noop\n",
    "    grouped_tfms = dict_groupby(tfms, lambda o: o.__annotations__['return'])\n",
    "    lighting_tfms,coord_tfms,affine_tfms,pixel_tfms,final_tfms = map(grouped_tfms.get, TfmType)\n",
    "    lighting_tfm = apply_lighting_tfms(lighting_tfms)\n",
    "    affine_tfm = compose_affine_tfms(affine_tfms, funcs=coord_tfms, **kwargs)\n",
    "    pixel_tfm = compose_tfms(pixel_tfms)\n",
    "    final_tfm = compose_tfms(final_tfms)\n",
    "    return lambda x,**k: final_tfm(affine_tfm(lighting_tfm(pixel_tfm(x)), **k))"
   ]
  },
  {
   "cell_type": "code",
   "execution_count": null,
   "metadata": {},
   "outputs": [],
   "source": [
    "class TransformedImageDataset(Dataset):\n",
    "    def __init__(self, folder, sz, tfms=None, classes=None):\n",
    "        self.fns, self.y = [], []\n",
    "        if classes is None: classes = [cls.name for cls in find_classes(folder)]\n",
    "        self.classes = classes\n",
    "        for i, cls in enumerate(classes):\n",
    "            fnames = get_image_files(folder/cls)\n",
    "            self.fns += fnames\n",
    "            self.y += [i] * len(fnames)\n",
    "        self.sz, self.tfms = sz, tfms\n",
    "\n",
    "    def __len__(self): return len(self.fns)\n",
    "\n",
    "    def __getitem__(self,i):\n",
    "        x = PIL.Image.open(self.fns[i]).convert('RGB')\n",
    "        x = pil2tensor(x)\n",
    "        if self.tfms is not None:\n",
    "            x = resolve_pipeline(self.tfms, size=self.sz)(x) \n",
    "        return x,self.y[i]"
   ]
  },
  {
   "cell_type": "code",
   "execution_count": null,
   "metadata": {},
   "outputs": [],
   "source": [
    "sz, bs = 224, 64\n",
    "stats = (np.array([0.485, 0.456, 0.406]), np.array([0.229, 0.224, 0.225]))\n",
    "train_tfms =  [flip_lr_tfm(p=0.5),\n",
    "              zoom_tfm(scale=(0.9,1.1),p=0.75),\n",
    "              rotate_tfm(degrees=(-10,10.),p=0.75),\n",
    "              crop_tfm(size=sz)]"
   ]
  },
  {
   "cell_type": "code",
   "execution_count": null,
   "metadata": {},
   "outputs": [],
   "source": [
    "train_ds = TransformedImageDataset(PATH/'train', sz, train_tfms)"
   ]
  },
  {
   "cell_type": "code",
   "execution_count": null,
   "metadata": {},
   "outputs": [],
   "source": [
    "train_dl = get_dataloader(train_ds, bs, shuffle=False, stats=stats)"
   ]
  },
  {
   "cell_type": "code",
   "execution_count": null,
   "metadata": {},
   "outputs": [],
   "source": []
  },
  {
   "cell_type": "markdown",
   "metadata": {},
   "source": [
    "Numpy grid sample implementation"
   ]
  },
  {
   "cell_type": "code",
   "execution_count": null,
   "metadata": {},
   "outputs": [],
   "source": [
    "def select_with_black_padding(input, x, y):\n",
    "    y1, x1 = np.clip(y, 0, input.shape[2]-1), np.clip(x, 0, input.shape[3]-1)\n",
    "    result = input[:,:,y1.astype(int),x1.astype(int)]\n",
    "    mask = (y < 0) + (y >= input.shape[2]) + (x < 0) + (x >= input.shape[3])\n",
    "    mask = np.clip(mask, 0, 1)\n",
    "    result[:,:,mask.astype(bool)] = 0\n",
    "    return result"
   ]
  },
  {
   "cell_type": "code",
   "execution_count": null,
   "metadata": {},
   "outputs": [],
   "source": [
    "def select_with_border_padding(input, x, y):\n",
    "    y1, x1 = np.clip(y, 0, input.shape[2]-1), np.clip(x, 0, input.shape[3]-1)\n",
    "    return input[:,:,y1.astype(int),x1.astype(int)]"
   ]
  },
  {
   "cell_type": "code",
   "execution_count": null,
   "metadata": {},
   "outputs": [],
   "source": [
    "def select_with_reflective_padding(input, x, y):\n",
    "    x[x < 0] = -x[x < 0]\n",
    "    y[y < 0] = -y[y < 0]\n",
    "    x[x >= input.shape[3]] = 2 * input.shape[3] - 1 - x[x >= input.shape[3]]\n",
    "    y[y >= input.shape[2]] = 2 * input.shape[2] - 1 - y[y >= input.shape[2]]\n",
    "    return input[:,:,y.astype(int),x.astype(int)]"
   ]
  },
  {
   "cell_type": "code",
   "execution_count": null,
   "metadata": {},
   "outputs": [],
   "source": [
    "def select_with_padding(input,x,y,padding):\n",
    "    pad_functions = {'zeros':select_with_black_padding, \n",
    "                     'border':select_with_border_padding, \n",
    "                     'reflect':select_with_reflective_padding}\n",
    "    return pad_functions[padding](input,x,y)"
   ]
  },
  {
   "cell_type": "code",
   "execution_count": null,
   "metadata": {},
   "outputs": [],
   "source": [
    "def nearest_interpol(input, coords, padding):\n",
    "    return select_with_padding(input, np.round(coords[:,:,0]), np.round(coords[:,:,1]), padding)"
   ]
  },
  {
   "cell_type": "code",
   "execution_count": null,
   "metadata": {},
   "outputs": [],
   "source": [
    "def bilinear_interpol(input, coords, padding):\n",
    "    x0, y0 = np.floor(coords[:,:,0]), np.floor(coords[:,:,1])\n",
    "    delta_x, delta_y = coords[:,:,0] - x0, coords[:,:,1]-y0\n",
    "    vals_00 = select_with_padding(input, x0, y0, padding)\n",
    "    vals_10 = select_with_padding(input, x0, y0+1, padding)\n",
    "    vals_01 = select_with_padding(input, x0+1, y0, padding)\n",
    "    vals_11 = select_with_padding(input, x0+1, y0+1, padding)\n",
    "    remapped = (vals_00 * (1-delta_y)* (1-delta_x) +  vals_10 * delta_y * (1-delta_x) +\n",
    "                vals_01 * (1-delta_y) * delta_x    +  vals_11 * delta_y * delta_x)\n",
    "    return remapped"
   ]
  },
  {
   "cell_type": "code",
   "execution_count": null,
   "metadata": {},
   "outputs": [],
   "source": [
    "def grid_sample(input, coords, mode, padding):\n",
    "    interpol_functions = {'nearest':nearest_interpol, \n",
    "                          'bilinear':bilinear_interpol}\n",
    "    _,_,h,w = input.shape\n",
    "    coords = (coords[0] + 1) * np.array([h/2,w/2])[None]\n",
    "    return interpol_functions[mode](input, coords, padding)"
   ]
  },
  {
   "cell_type": "code",
   "execution_count": null,
   "metadata": {},
   "outputs": [],
   "source": [
    "x = PIL.Image.open(train_ds.fns[0])\n",
    "x = pil2tensor(x)\n",
    "x = x.numpy()"
   ]
  },
  {
   "cell_type": "code",
   "execution_count": null,
   "metadata": {},
   "outputs": [],
   "source": [
    "x.shape"
   ]
  },
  {
   "cell_type": "code",
   "execution_count": null,
   "metadata": {},
   "outputs": [],
   "source": [
    "theta = math.pi * 30 / 180\n",
    "matrix = torch.tensor([[math.cos(theta), -math.sin(theta), 0],\n",
    "                       [math.sin(theta), math.cos(theta), 0]])"
   ]
  },
  {
   "cell_type": "code",
   "execution_count": null,
   "metadata": {},
   "outputs": [],
   "source": [
    "coords = F.affine_grid(matrix[None], torch.Size([1,3,250,250]))"
   ]
  },
  {
   "cell_type": "code",
   "execution_count": null,
   "metadata": {},
   "outputs": [],
   "source": [
    "coords.size()"
   ]
  },
  {
   "cell_type": "markdown",
   "metadata": {},
   "source": [
    "Numpy"
   ]
  },
  {
   "cell_type": "code",
   "execution_count": null,
   "metadata": {},
   "outputs": [],
   "source": [
    "%timeit y = grid_sample(x[None], coords.numpy(), 'bilinear', 'border')"
   ]
  },
  {
   "cell_type": "code",
   "execution_count": null,
   "metadata": {},
   "outputs": [],
   "source": [
    "%timeit y = grid_sample(x[None], coords.numpy(), 'bilinear', 'zeros')"
   ]
  },
  {
   "cell_type": "code",
   "execution_count": null,
   "metadata": {},
   "outputs": [],
   "source": [
    "plt.imshow(y[0].transpose(1,2,0))"
   ]
  },
  {
   "cell_type": "markdown",
   "metadata": {},
   "source": [
    "Grid sample CPU"
   ]
  },
  {
   "cell_type": "code",
   "execution_count": null,
   "metadata": {},
   "outputs": [],
   "source": [
    "x1 = PIL.Image.open(train_ds.fns[0])\n",
    "x1 = pil2tensor(x1)"
   ]
  },
  {
   "cell_type": "code",
   "execution_count": null,
   "metadata": {},
   "outputs": [],
   "source": [
    "%timeit y = F.grid_sample(x1[None], coords, padding_mode='zeros')"
   ]
  },
  {
   "cell_type": "markdown",
   "metadata": {},
   "source": [
    "Grid sample GPU"
   ]
  },
  {
   "cell_type": "code",
   "execution_count": null,
   "metadata": {},
   "outputs": [],
   "source": [
    "x1 = x1.cuda()\n",
    "coords = coords.cuda()"
   ]
  },
  {
   "cell_type": "code",
   "execution_count": null,
   "metadata": {},
   "outputs": [],
   "source": [
    "%timeit y = F.grid_sample(x1[None], coords)"
   ]
  },
  {
   "cell_type": "code",
   "execution_count": null,
   "metadata": {},
   "outputs": [],
   "source": []
  }
 ],
 "metadata": {
  "kernelspec": {
   "display_name": "Python 3",
   "language": "python",
   "name": "python3"
  }
 },
 "nbformat": 4,
 "nbformat_minor": 2
}
