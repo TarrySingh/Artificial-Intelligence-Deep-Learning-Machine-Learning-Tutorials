{
 "cells": [
  {
   "cell_type": "code",
   "execution_count": 1,
   "metadata": {},
   "outputs": [],
   "source": [
    "from sequential_tasks import TemporalOrderExp6aSequence\n",
    "from tensorflow.python.keras.models import Sequential\n",
    "from tensorflow.python.keras.layers import SimpleRNN, Dense\n"
   ]
  },
  {
   "cell_type": "code",
   "execution_count": 2,
   "metadata": {},
   "outputs": [],
   "source": [
    "def exp6a_experiment(settings):\n",
    "    train_data_gen = TemporalOrderExp6aSequence.get_predefined_generator(\n",
    "        settings['difficulty'],\n",
    "        settings['batch_size'])\n",
    "\n",
    "    model = Sequential([\n",
    "        SimpleRNN(\n",
    "            units=settings['h_units'],\n",
    "            input_shape=(train_data_gen.length_range[1],\n",
    "                         train_data_gen.n_symbols)),\n",
    "        Dense(units=train_data_gen.n_classes, activation='softmax')\n",
    "    ])\n",
    "\n",
    "    model.compile(optimizer='rmsprop', loss='categorical_crossentropy', metrics=['accuracy'])\n",
    "    model.fit_generator(\n",
    "        generator=train_data_gen,\n",
    "        epochs=settings['max_epochs'],\n",
    "        verbose=2)\n",
    "\n",
    "    # testing\n",
    "    test_data_gen = TemporalOrderExp6aSequence.get_predefined_generator(\n",
    "        settings['difficulty'],\n",
    "        settings['batch_size'])\n",
    "\n",
    "    eval_metrics = model.evaluate_generator(test_data_gen)\n",
    "    test_accuracy = eval_metrics[1]\n",
    "    \n",
    "    return test_accuracy\n"
   ]
  },
  {
   "cell_type": "code",
   "execution_count": 3,
   "metadata": {},
   "outputs": [
    {
     "name": "stdout",
     "output_type": "stream",
     "text": [
      "Epoch 1/30\n",
      " - 0s - loss: 1.3959 - acc: 0.2591\n",
      "Epoch 2/30\n",
      " - 0s - loss: 1.3335 - acc: 0.3347\n",
      "Epoch 3/30\n",
      " - 0s - loss: 1.3186 - acc: 0.3498\n",
      "Epoch 4/30\n",
      " - 0s - loss: 1.2981 - acc: 0.3659\n",
      "Epoch 5/30\n",
      " - 0s - loss: 1.2400 - acc: 0.4355\n",
      "Epoch 6/30\n",
      " - 0s - loss: 1.2026 - acc: 0.4899\n",
      "Epoch 7/30\n",
      " - 0s - loss: 1.1653 - acc: 0.5101\n",
      "Epoch 8/30\n",
      " - 0s - loss: 1.1257 - acc: 0.5232\n",
      "Epoch 9/30\n",
      " - 0s - loss: 1.0727 - acc: 0.5817\n",
      "Epoch 10/30\n",
      " - 0s - loss: 1.0358 - acc: 0.6431\n",
      "Epoch 11/30\n",
      " - 0s - loss: 0.9817 - acc: 0.6643\n",
      "Epoch 12/30\n",
      " - 0s - loss: 0.9390 - acc: 0.6825\n",
      "Epoch 13/30\n",
      " - 0s - loss: 0.8946 - acc: 0.7016\n",
      "Epoch 14/30\n",
      " - 0s - loss: 0.8541 - acc: 0.7097\n",
      "Epoch 15/30\n",
      " - 0s - loss: 0.8061 - acc: 0.7681\n",
      "Epoch 16/30\n",
      " - 0s - loss: 0.7683 - acc: 0.7621\n",
      "Epoch 17/30\n",
      " - 0s - loss: 0.7158 - acc: 0.7944\n",
      "Epoch 18/30\n",
      " - 0s - loss: 0.6629 - acc: 0.8730\n",
      "Epoch 19/30\n",
      " - 0s - loss: 0.6269 - acc: 0.9153\n",
      "Epoch 20/30\n",
      " - 0s - loss: 0.5782 - acc: 0.9345\n",
      "Epoch 21/30\n",
      " - 0s - loss: 0.5307 - acc: 0.9556\n",
      "Epoch 22/30\n",
      " - 0s - loss: 0.4938 - acc: 0.9768\n",
      "Epoch 23/30\n",
      " - 0s - loss: 0.4314 - acc: 0.9859\n",
      "Epoch 24/30\n",
      " - 0s - loss: 0.4023 - acc: 0.9960\n",
      "Epoch 25/30\n",
      " - 0s - loss: 0.3608 - acc: 0.9980\n",
      "Epoch 26/30\n",
      " - 0s - loss: 0.3202 - acc: 1.0000\n",
      "Epoch 27/30\n",
      " - 0s - loss: 0.2959 - acc: 1.0000\n",
      "Epoch 28/30\n",
      " - 0s - loss: 0.2637 - acc: 1.0000\n",
      "Epoch 29/30\n",
      " - 0s - loss: 0.2297 - acc: 1.0000\n",
      "Epoch 30/30\n",
      " - 0s - loss: 0.2187 - acc: 1.0000\n",
      "acc = 1.00%.\n"
     ]
    }
   ],
   "source": [
    "# experiments settings\n",
    "params = {\n",
    "    \"difficulty\": TemporalOrderExp6aSequence.DifficultyLevel.EASY,\n",
    "    \"batch_size\": 32,\n",
    "    \"h_units\": 4,\n",
    "    \"max_epochs\": 30\n",
    "}\n",
    "\n",
    "acc = exp6a_experiment(params)\n",
    "print('acc = {:.2f}%.'.format(acc))\n"
   ]
  }
 ],
 "metadata": {
  "kernelspec": {
   "display_name": "Python 3",
   "language": "python",
   "name": "python3"
  },
  "language_info": {
   "codemirror_mode": {
    "name": "ipython",
    "version": 3
   },
   "file_extension": ".py",
   "mimetype": "text/x-python",
   "name": "python",
   "nbconvert_exporter": "python",
   "pygments_lexer": "ipython3",
   "version": "3.6.3"
  }
 },
 "nbformat": 4,
 "nbformat_minor": 1
}
