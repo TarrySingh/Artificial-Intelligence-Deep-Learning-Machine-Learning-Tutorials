{
 "cells": [
  {
   "cell_type": "code",
   "execution_count": 1,
   "metadata": {},
   "outputs": [],
   "source": [
    "from sequential_tasks import EchoData\n",
    "from tensorflow.python.keras.models import Sequential\n",
    "from tensorflow.python.keras.layers import SimpleRNN, Dense, TimeDistributed\n",
    "import numpy as np\n"
   ]
  },
  {
   "cell_type": "code",
   "execution_count": 2,
   "metadata": {},
   "outputs": [],
   "source": [
    "def echo_experiment(settings):\n",
    "    train_data_gen = EchoData(\n",
    "        series_length=settings['series_length'],\n",
    "        truncated_length=settings['truncated_length'],\n",
    "        echo_step=settings['echo_step'],\n",
    "        batch_size=settings['batch_size'])\n",
    "\n",
    "    model = Sequential([\n",
    "        SimpleRNN(\n",
    "            units=settings['h_units'],\n",
    "            batch_input_shape=(settings['batch_size'], settings['truncated_length'], 1),\n",
    "            return_sequences=True,\n",
    "            stateful=True),\n",
    "        TimeDistributed(\n",
    "            Dense(units=1, activation='sigmoid'))\n",
    "    ])\n",
    "\n",
    "    model.compile(optimizer='rmsprop', loss='binary_crossentropy', metrics=['accuracy'])\n",
    "    model.fit_generator(\n",
    "        generator=train_data_gen,\n",
    "        epochs=settings['max_epochs'],\n",
    "        verbose=2,\n",
    "        shuffle=False)\n",
    "\n",
    "    # testing\n",
    "    test_data_gen = EchoData(\n",
    "        series_length=settings['series_length'],\n",
    "        truncated_length=settings['truncated_length'],\n",
    "        echo_step=settings['echo_step'],\n",
    "        batch_size=settings['batch_size'])\n",
    "\n",
    "    # we could do evaluation like this:\n",
    "    # eval_metrics = model.evaluate_generator(test_data_gen)\n",
    "    \n",
    "    # but let's gather statistics from each batch...\n",
    "    batch_accuracies = []\n",
    "    for b in range(test_data_gen.n_batches):\n",
    "        x_test, y_test = test_data_gen[b]\n",
    "        batch_metrics = model.evaluate(\n",
    "            x=x_test,\n",
    "            y=y_test,\n",
    "            batch_size=params[\"batch_size\"],\n",
    "            verbose=0)\n",
    "        batch_accuracies.append(100. * batch_metrics[1])\n",
    "    # ... and let's skip the first batch (when RNN is not warmed up)\n",
    "    test_accuracy = np.mean(batch_accuracies[1:])\n",
    "\n",
    "    return test_accuracy\n"
   ]
  },
  {
   "cell_type": "code",
   "execution_count": 3,
   "metadata": {},
   "outputs": [
    {
     "name": "stdout",
     "output_type": "stream",
     "text": [
      "Epoch 1/4\n",
      " - 7s - loss: 0.6507 - acc: 0.5941\n",
      "Epoch 2/4\n",
      " - 6s - loss: 0.3372 - acc: 0.8691\n",
      "Epoch 3/4\n",
      " - 6s - loss: 0.1511 - acc: 0.9244\n",
      "Epoch 4/4\n",
      " - 6s - loss: 0.1228 - acc: 0.9256\n",
      "acc = 100.00%.\n"
     ]
    }
   ],
   "source": [
    "# experiments settings\n",
    "params = {\n",
    "    \"series_length\": 20000,\n",
    "    \"echo_step\": 3,\n",
    "    \"truncated_length\": 20,\n",
    "    \"batch_size\": 5,\n",
    "    \"h_units\": 4,\n",
    "    \"max_epochs\": 4\n",
    "}\n",
    "\n",
    "acc = echo_experiment(params)\n",
    "print('acc = {:.2f}%.'.format(acc))\n"
   ]
  }
 ],
 "metadata": {
  "kernelspec": {
   "display_name": "Python 3",
   "language": "python",
   "name": "python3"
  },
  "language_info": {
   "codemirror_mode": {
    "name": "ipython",
    "version": 3
   },
   "file_extension": ".py",
   "mimetype": "text/x-python",
   "name": "python",
   "nbconvert_exporter": "python",
   "pygments_lexer": "ipython3",
   "version": "3.6.3"
  }
 },
 "nbformat": 4,
 "nbformat_minor": 1
}
