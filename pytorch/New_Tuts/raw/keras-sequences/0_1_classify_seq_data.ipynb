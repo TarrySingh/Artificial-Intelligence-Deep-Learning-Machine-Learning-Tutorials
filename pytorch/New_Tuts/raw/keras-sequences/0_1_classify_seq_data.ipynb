{
 "cells": [
  {
   "cell_type": "markdown",
   "metadata": {
    "collapsed": true
   },
   "source": [
    "An example of many-to-one (sequence classification):\n",
    "\n",
    "\n",
    "Original experiment from Hochreiter&Schmidhuber(1997):\n",
    "\n",
    "        The goal is to classify sequences. Elements and targets are represented locally\n",
    "        (input vectors with only one non-zero bit). The sequence starts with an E, ends\n",
    "        with a B (the \"trigger symbol\") and otherwise consists of randomly chosen symbols\n",
    "        from the set {a, b, c, d} except for two elements at positions t1 and t2 that are\n",
    "        either X or Y . The sequence length is randomly chosen between 100 and 110, t1 is\n",
    "        randomly chosen between 10 and 20, and t2 is randomly chosen between 50 and 60.\n",
    "        There are 4 sequence classes Q, R, S, U which depend on the temporal order of X and Y.\n",
    "        The rules are:\n",
    "            X, X -> Q,\n",
    "            X, Y -> R,\n",
    "            Y , X -> S,\n",
    "            Y , Y -> U.  "
   ]
  },
  {
   "cell_type": "code",
   "execution_count": 1,
   "metadata": {},
   "outputs": [],
   "source": [
    "from sequential_tasks import TemporalOrderExp6aSequence\n",
    "\n",
    "# data generator\n",
    "dg = TemporalOrderExp6aSequence.get_predefined_generator(\n",
    "    TemporalOrderExp6aSequence.DifficultyLevel.EASY)\n"
   ]
  },
  {
   "cell_type": "code",
   "execution_count": 2,
   "metadata": {},
   "outputs": [
    {
     "name": "stdout",
     "output_type": "stream",
     "text": [
      "BbXcXcbE ----> Q\n",
      "BYdadYE ----> U\n",
      "BXddbXcE ----> Q\n",
      "BXacYdE ----> R\n",
      "BbYbXdbE ----> S\n"
     ]
    }
   ],
   "source": [
    "# Raw sequences and their classes:\n",
    "for n in range(5):\n",
    "    x, y = dg.generate_pair()\n",
    "    print('{} ----> {}'.format(x, y))\n"
   ]
  },
  {
   "cell_type": "code",
   "execution_count": 3,
   "metadata": {},
   "outputs": [
    {
     "name": "stdout",
     "output_type": "stream",
     "text": [
      "BXbcYaE ----> R\n",
      "Encoded input sequence:\n",
      "[[0. 0. 0. 0. 0. 0. 1. 0.]\n",
      " [1. 0. 0. 0. 0. 0. 0. 0.]\n",
      " [0. 0. 0. 1. 0. 0. 0. 0.]\n",
      " [0. 0. 0. 0. 1. 0. 0. 0.]\n",
      " [0. 1. 0. 0. 0. 0. 0. 0.]\n",
      " [0. 0. 1. 0. 0. 0. 0. 0.]\n",
      " [0. 0. 0. 0. 0. 0. 0. 1.]]\n",
      "Encoded output sequence:\n",
      "[0. 1. 0. 0.]\n"
     ]
    }
   ],
   "source": [
    "# Encoding our data into RNN-friendly data format\n",
    "\n",
    "# Single data pair example:\n",
    "x, y = dg.generate_pair()\n",
    "print('{} ----> {}'.format(x, y))\n",
    "    \n",
    "enc_x = dg.encode_x(x)\n",
    "enc_y = dg.encode_y(y)\n",
    "\n",
    "print('Encoded input sequence:')\n",
    "print(enc_x)\n",
    "print('Encoded output sequence:')\n",
    "print(enc_y)\n"
   ]
  },
  {
   "cell_type": "code",
   "execution_count": 4,
   "metadata": {},
   "outputs": [
    {
     "name": "stdout",
     "output_type": "stream",
     "text": [
      "Batch_x shape =  (32, 9, 8)\n",
      "Batch_y shape =  (32, 4)\n",
      "[[0 0 0 0 0 0 0 0]\n",
      " [0 0 0 0 0 0 1 0]\n",
      " [1 0 0 0 0 0 0 0]\n",
      " [0 0 0 0 1 0 0 0]\n",
      " [0 0 0 1 0 0 0 0]\n",
      " [0 1 0 0 0 0 0 0]\n",
      " [0 0 1 0 0 0 0 0]\n",
      " [0 0 0 0 1 0 0 0]\n",
      " [0 0 0 0 0 0 0 1]]\n"
     ]
    }
   ],
   "source": [
    "# let's generate a batch of training pairs\n",
    "batch_x, batch_y = dg[0]\n",
    "\n",
    "# batch_x has the shape (batch_size, max_seq_length, num_symbols)\n",
    "print('Batch_x shape = ', batch_x.shape)\n",
    "\n",
    "# batch_y has the shape (batch_size, num_classes)\n",
    "print('Batch_y shape = ', batch_y.shape)\n",
    "\n",
    "# inputs are zero-padded (added zero prefix)\n",
    "# to obtain sequences of equal length\n",
    "print(batch_x[0])\n",
    "\n"
   ]
  }
 ],
 "metadata": {
  "kernelspec": {
   "display_name": "Python 3",
   "language": "python",
   "name": "python3"
  },
  "language_info": {
   "codemirror_mode": {
    "name": "ipython",
    "version": 3
   },
   "file_extension": ".py",
   "mimetype": "text/x-python",
   "name": "python",
   "nbconvert_exporter": "python",
   "pygments_lexer": "ipython3",
   "version": "3.6.3"
  }
 },
 "nbformat": 4,
 "nbformat_minor": 1
}
