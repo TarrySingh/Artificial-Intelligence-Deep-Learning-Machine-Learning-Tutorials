{
 "cells": [
  {
   "cell_type": "code",
   "execution_count": null,
   "metadata": {},
   "outputs": [],
   "source": [
    "# Pretty plotting config\n",
    "%run plot_conf.py"
   ]
  },
  {
   "cell_type": "code",
   "execution_count": null,
   "metadata": {},
   "outputs": [],
   "source": [
    "# Set style (need to be in a new cell)\n",
    "plt_style()"
   ]
  },
  {
   "cell_type": "code",
   "execution_count": null,
   "metadata": {},
   "outputs": [],
   "source": [
    "import torch\n",
    "import torch.nn as nn\n",
    "import matplotlib.pyplot as plt\n",
    "\n",
    "\n",
    "# utility function\n",
    "def show_scatterplot(X, norm=True, title=''):\n",
    "    X = X.numpy()\n",
    "    plt.figure()\n",
    "    plt.axis('equal')\n",
    "    plt.scatter(X[:, 0], X[:, 1], c=colors, s=p_size)\n",
    "    if norm:\n",
    "        plt.xlim(-6, 6)\n",
    "        plt.ylim(-6, 6)\n",
    "    plt.grid(True)\n",
    "    plt.title(title)\n",
    "\n",
    "\n",
    "# generate some points in 2-D space\n",
    "n_points = 1000\n",
    "p_size = 30\n",
    "X = torch.randn(n_points, 2) \n",
    "colors = X[:, 0].numpy() \n",
    "\n",
    "show_scatterplot(X, norm=True, title='X')"
   ]
  },
  {
   "cell_type": "markdown",
   "metadata": {},
   "source": [
    "# Visualizing Linear Transformations\n",
    "\n",
    "* Generate a random matrix $W$\n",
    "\n",
    "$\n",
    "\\begin{equation}\n",
    "    W = U\n",
    "  \\left[ {\\begin{array}{cc}\n",
    "   s_1 & 0 \\\\\n",
    "   0 & s_2 \\\\\n",
    "  \\end{array} } \\right]\n",
    "  V^\\top\n",
    "\\end{equation}\n",
    "$\n",
    "* Compute $y = Wx$\n",
    "* Larger singular values stretch the points\n",
    "* Smaller singular values push them together\n",
    "* $U, V$ rotate/reflect"
   ]
  },
  {
   "cell_type": "code",
   "execution_count": null,
   "metadata": {
    "scrolled": false
   },
   "outputs": [],
   "source": [
    "show_scatterplot(X, norm=True, title='X')\n",
    "\n",
    "for i in range(10):\n",
    "    # create a random matrix\n",
    "    W = torch.randn(2, 2)\n",
    "    # transform points\n",
    "    Y = torch.mm(X, W)\n",
    "    # compute singular values\n",
    "    U,S,V = torch.svd(W)\n",
    "    # plot\n",
    "    show_scatterplot(Y, norm=True, title='y = Wx, singular values : [{:.3f}, {:.3f}]'.format(S[0], S[1]))"
   ]
  },
  {
   "cell_type": "markdown",
   "metadata": {},
   "source": [
    "# Linear transformation with PyTorch"
   ]
  },
  {
   "cell_type": "code",
   "execution_count": null,
   "metadata": {},
   "outputs": [],
   "source": [
    "device = torch.device(\"cuda:0\" if torch.cuda.is_available() else \"cpu\")"
   ]
  },
  {
   "cell_type": "code",
   "execution_count": null,
   "metadata": {},
   "outputs": [],
   "source": [
    "model = nn.Sequential(\n",
    "        nn.Linear(2, 2, bias=False)\n",
    ")\n",
    "model.to(device)\n",
    "Y = model(X).data\n",
    "show_scatterplot(Y)"
   ]
  },
  {
   "cell_type": "markdown",
   "metadata": {},
   "source": [
    "# Non-linear Transform: Map Points to a Square\n",
    "\n",
    "* Linear transforms can rotate, reflect, stretch and compress, but cannot curve\n",
    "* We need non-linearities for this\n",
    "* Can (approximately) map points to a square by first stretching out by a factor $s$, then squashing with a tanh function\n",
    "\n",
    "$\n",
    "   f(x)= \\tanh \\left(\n",
    "  \\left[ {\\begin{array}{cc}\n",
    "   s & 0 \\\\\n",
    "   0 & s \\\\\n",
    "  \\end{array} } \\right]  \n",
    "  x\n",
    "  \\right)\n",
    "$"
   ]
  },
  {
   "cell_type": "code",
   "execution_count": null,
   "metadata": {},
   "outputs": [],
   "source": [
    "z = torch.linspace(-10, 10, 101)\n",
    "s = torch.tanh(z)\n",
    "plt.plot(z.numpy(), s.numpy())\n",
    "plt.title('tanh() non linearity')"
   ]
  },
  {
   "cell_type": "code",
   "execution_count": null,
   "metadata": {
    "scrolled": false
   },
   "outputs": [],
   "source": [
    "show_scatterplot(X, title='X')\n",
    "plt.axis('square')\n",
    "\n",
    "model = nn.Sequential(\n",
    "        nn.Linear(2, 2, bias=False),\n",
    "        nn.Tanh()\n",
    "    )\n",
    "\n",
    "model.to(device)\n",
    "\n",
    "for s in range(1, 10):\n",
    "    W = s * torch.eye(2)\n",
    "    model[0].weight.data.copy_(W)\n",
    "    Y = model(X).data\n",
    "    show_scatterplot(Y, False, title='f(x), s={}'.format(s))\n",
    "    plt.axis('square')\n",
    "    plt.axis([-1.2, 1.2, -1.2, 1.2])"
   ]
  },
  {
   "cell_type": "markdown",
   "metadata": {
    "collapsed": true
   },
   "source": [
    "# Visualize Functions Represented by Random Neural Networks"
   ]
  },
  {
   "cell_type": "code",
   "execution_count": null,
   "metadata": {
    "scrolled": false
   },
   "outputs": [],
   "source": [
    "show_scatterplot(X, title='x')\n",
    "n_hidden = 5\n",
    "\n",
    "for i in range(5):\n",
    "    # create 1-layer neural networks with random weights\n",
    "    model_1layer = nn.Sequential(\n",
    "            nn.Linear(2, n_hidden, bias=True), \n",
    "            nn.ReLU(), \n",
    "            nn.Linear(n_hidden, 2, bias=True)\n",
    "        )\n",
    "    Y = model_1layer(X).data\n",
    "    show_scatterplot(Y, False, title='f(x)')"
   ]
  },
  {
   "cell_type": "code",
   "execution_count": null,
   "metadata": {
    "scrolled": false
   },
   "outputs": [],
   "source": [
    "# deeper network with random weights\n",
    "show_scatterplot(X, title='x')\n",
    "n_hidden = 1000\n",
    "\n",
    "for i in range(5):\n",
    "    model_2layer = nn.Sequential(\n",
    "        nn.Linear(2, n_hidden, bias=True), \n",
    "        nn.ReLU(), \n",
    "        nn.Linear(n_hidden, n_hidden, bias=True), \n",
    "        nn.ReLU(), \n",
    "        nn.Linear(n_hidden, n_hidden, bias=True), \n",
    "        nn.ReLU(), \n",
    "        nn.Linear(n_hidden, n_hidden, bias=True), \n",
    "        nn.ReLU(), \n",
    "        nn.Linear(n_hidden, 2, bias=True)\n",
    "    )\n",
    "    Y = model_2layer(X).data\n",
    "    show_scatterplot(Y, False, title='f(x)')\n",
    "\n",
    "\n"
   ]
  },
  {
   "cell_type": "code",
   "execution_count": null,
   "metadata": {},
   "outputs": [],
   "source": []
  }
 ],
 "metadata": {
  "kernelspec": {
   "display_name": "Python 3",
   "language": "python",
   "name": "python3"
  },
  "language_info": {
   "codemirror_mode": {
    "name": "ipython",
    "version": 3
   },
   "file_extension": ".py",
   "mimetype": "text/x-python",
   "name": "python",
   "nbconvert_exporter": "python",
   "pygments_lexer": "ipython3",
   "version": "3.6.5"
  }
 },
 "nbformat": 4,
 "nbformat_minor": 2
}
