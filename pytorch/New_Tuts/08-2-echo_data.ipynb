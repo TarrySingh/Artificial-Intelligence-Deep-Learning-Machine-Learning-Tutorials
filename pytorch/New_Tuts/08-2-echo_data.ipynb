{
 "cells": [
  {
   "cell_type": "markdown",
   "metadata": {
    "collapsed": true
   },
   "source": [
    "Echoing signal n steps is an example of synchronized many-to-many task:"
   ]
  },
  {
   "cell_type": "code",
   "execution_count": null,
   "metadata": {},
   "outputs": [],
   "source": [
    "from sequential_tasks import EchoData\n",
    "\n",
    "batch_size = 5\n",
    "echo_step = 3\n",
    "series_length = 20000\n",
    "truncated_length = 10\n",
    "\n",
    "data_gen = EchoData(\n",
    "    echo_step=echo_step,\n",
    "    batch_size=batch_size,\n",
    "    series_length=series_length,\n",
    "    truncated_length=truncated_length)"
   ]
  },
  {
   "cell_type": "code",
   "execution_count": null,
   "metadata": {},
   "outputs": [],
   "source": [
    "# Let's print first 20 timesteps of the first sequences to see the echo data:\n",
    "print('(1st sequence) x = ', data_gen.raw_x[0, :20], '... ')\n",
    "print('(1st sequence) y = ', data_gen.raw_y[0, :20], '... ')"
   ]
  },
  {
   "cell_type": "code",
   "execution_count": null,
   "metadata": {},
   "outputs": [],
   "source": [
    "# batch_size different sequences are created:\n",
    "print('bax = ')\n",
    "print(data_gen.raw_x[:, :20])\n",
    "print('y = ')\n",
    "print(data_gen.raw_y[:, :20])\n",
    "\n",
    "print('raw_x shape:', data_gen.raw_x.shape)      # shape = (batch_size, sequence_length)\n",
    "print('raw_y shape:', data_gen.raw_y.shape)      # shape = (batch_size, sequence_length)\n"
   ]
  },
  {
   "cell_type": "code",
   "execution_count": null,
   "metadata": {},
   "outputs": [],
   "source": [
    "# In order to use RNNs data is organized into tensors of size:\n",
    "# [batch_size, truncated_sequence_length, feature_dim\n",
    "\n",
    "i_batch = 0\n",
    "print('batch x shape:', data_gen.x_batches[i_batch].shape)\n",
    "print('batch y shape:', data_gen.y_batches[i_batch].shape)\n"
   ]
  },
  {
   "cell_type": "code",
   "execution_count": null,
   "metadata": {},
   "outputs": [],
   "source": [
    "\n",
    "print(data_gen.x_batches[i_batch])\n",
    "print(data_gen.y_batches[i_batch])\n"
   ]
  },
  {
   "cell_type": "markdown",
   "metadata": {},
   "source": [
    "       "
   ]
  },
  {
   "cell_type": "code",
   "execution_count": null,
   "metadata": {},
   "outputs": [],
   "source": []
  }
 ],
 "metadata": {
  "kernelspec": {
   "display_name": "Python 3",
   "language": "python",
   "name": "python3"
  },
  "language_info": {
   "codemirror_mode": {
    "name": "ipython",
    "version": 3
   },
   "file_extension": ".py",
   "mimetype": "text/x-python",
   "name": "python",
   "nbconvert_exporter": "python",
   "pygments_lexer": "ipython3",
   "version": "3.6.5"
  }
 },
 "nbformat": 4,
 "nbformat_minor": 1
}
