{
 "cells": [
  {
   "cell_type": "markdown",
   "metadata": {},
   "source": [
    "# Hard-Ass Python \n",
    "\n",
    "Here we will do everything we can to code as hell. \n",
    "\n",
    "Yes, with our hands until we have a solid grasp on Python.\n"
   ]
  },
  {
   "cell_type": "markdown",
   "metadata": {},
   "source": [
    "## Variables and Names "
   ]
  },
  {
   "cell_type": "code",
   "execution_count": 1,
   "metadata": {
    "collapsed": true
   },
   "outputs": [],
   "source": [
    "cars = 100\n",
    "space_in_car = 4.0\n",
    "drivers = 30\n",
    "passengers = 100\n",
    "cars_not_driving = cars - drivers\n",
    "cars_driving = drivers\n",
    "carpool_capacity = cars_driving*space_in_car\n",
    "avg_passengers_per_car = passengers / cars_driving\n"
   ]
  },
  {
   "cell_type": "code",
   "execution_count": 5,
   "metadata": {},
   "outputs": [
    {
     "name": "stdout",
     "output_type": "stream",
     "text": [
      "There are 100 cars available to you!\n",
      "There are only 30 drivers available.\n",
      "There will be 70 empty cars today.\n",
      "We can take 120.0 people today\n",
      "Today we have 100 to carpool!\n",
      "We need to put approximately 3.3333333333333335 in each car.\n"
     ]
    }
   ],
   "source": [
    "# Now lets print our logic we just came up with...\n",
    "\n",
    "print(\"There are\", cars, \"cars available to you!\")\n",
    "print(\"There are only\", drivers, \"drivers available.\")\n",
    "print(\"There will be\", cars_not_driving, \"empty cars today.\")\n",
    "print(\"We can take\", carpool_capacity, \"people today\")\n",
    "print(\"Today we have\", passengers, \"to carpool!\")\n",
    "print(\"We need to put approximately\", avg_passengers_per_car, \"in each car.\")"
   ]
  },
  {
   "cell_type": "markdown",
   "metadata": {},
   "source": [
    "##### Wait a minute, how can you put 3.33 people in each car\n",
    "\n",
    "Exercise 1 : Round this number off, will you!"
   ]
  },
  {
   "cell_type": "code",
   "execution_count": null,
   "metadata": {
    "collapsed": true
   },
   "outputs": [],
   "source": []
  }
 ],
 "metadata": {
  "kernelspec": {
   "display_name": "Python 3",
   "language": "python",
   "name": "python3"
  },
  "language_info": {
   "codemirror_mode": {
    "name": "ipython",
    "version": 3
   },
   "file_extension": ".py",
   "mimetype": "text/x-python",
   "name": "python",
   "nbconvert_exporter": "python",
   "pygments_lexer": "ipython3",
   "version": "3.6.1"
  }
 },
 "nbformat": 4,
 "nbformat_minor": 2
}
