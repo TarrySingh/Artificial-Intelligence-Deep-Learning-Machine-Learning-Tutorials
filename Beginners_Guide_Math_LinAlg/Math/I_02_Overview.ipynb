{
 "cells": [
  {
   "cell_type": "markdown",
   "metadata": {},
   "source": [
    "# Overview of key ideas\n",
    "\n",
    "+ This notebook is part of the addition lecture *An overview of key ideas* in the OCW MIT course 18.06 by Prof Gilbert Strang [1]\n",
    "+ Created by me, Dr Juan H Klopper\n",
    "    + Head of Acute Care Surgery\n",
    "    + Groote Schuur Hospital\n",
    "    + University Cape Town\n",
    "    + <a href=\"mailto:juan.klopper@uct.ac.za\">Email me with your thoughts, comments, suggestions and corrections</a> \n",
    "<a rel=\"license\" href=\"http://creativecommons.org/licenses/by-nc/4.0/\"><img alt=\"Creative Commons Licence\" style=\"border-width:0\" src=\"https://i.creativecommons.org/l/by-nc/4.0/88x31.png\" /></a><br /><span xmlns:dct=\"http://purl.org/dc/terms/\" href=\"http://purl.org/dc/dcmitype/InteractiveResource\" property=\"dct:title\" rel=\"dct:type\">Linear Algebra OCW MIT18.06</span> <span xmlns:cc=\"http://creativecommons.org/ns#\" property=\"cc:attributionName\">IPython notebook [2] study notes by Dr Juan H Klopper</span> is licensed under a <a rel=\"license\" href=\"http://creativecommons.org/licenses/by-nc/4.0/\">Creative Commons Attribution-NonCommercial 4.0 International License</a>.\n",
    "\n",
    "+ [1] <a href=\"http://ocw.mit.edu/courses/mathematics/18-06sc-linear-algebra-fall-2011/index.htm\">OCW MIT 18.06</a>\n",
    "+ [2] Fernando Pérez, Brian E. Granger, IPython: A System for Interactive Scientific Computing, Computing in Science and Engineering, vol. 9, no. 3, pp. 21-29, May/June 2007, doi:10.1109/MCSE.2007.53. URL: http://ipython.org"
   ]
  },
  {
   "cell_type": "code",
   "execution_count": 1,
   "metadata": {},
   "outputs": [
    {
     "data": {
      "text/html": [
       "<link href='http://fonts.googleapis.com/css?family=Alegreya+Sans:100,300,400,500,700,800,900,100italic,300italic,400italic,500italic,700italic,800italic,900italic' rel='stylesheet' type='text/css'>\n",
       "<link href='http://fonts.googleapis.com/css?family=Arvo:400,700,400italic' rel='stylesheet' type='text/css'>\n",
       "<link href='http://fonts.googleapis.com/css?family=PT+Mono' rel='stylesheet' type='text/css'>\n",
       "<link href='http://fonts.googleapis.com/css?family=Shadows+Into+Light' rel='stylesheet' type='text/css'>\n",
       "<link href='http://fonts.googleapis.com/css?family=Philosopher:400,700,400italic,700italic' rel='stylesheet' type='text/css'>\n",
       "\n",
       "<style>\n",
       "\n",
       "@font-face {\n",
       "    font-family: \"Computer Modern\";\n",
       "    src: url('http://mirrors.ctan.org/fonts/cm-unicode/fonts/otf/cmunss.otf');\n",
       "}\n",
       "\n",
       "#notebook_panel { /* main background */\n",
       "    background: #ddd;\n",
       "    color: #000000;\n",
       "}\n",
       "\n",
       "\n",
       "\n",
       "/* Formatting for header cells */\n",
       ".text_cell_render h1 {\n",
       "    font-family: 'Philosopher', sans-serif;\n",
       "    font-weight: 400;\n",
       "    font-size: 2.2em;\n",
       "    line-height: 100%;\n",
       "    color: rgb(0, 80, 120);\n",
       "    margin-bottom: 0.1em;\n",
       "    margin-top: 0.1em;\n",
       "    display: block;\n",
       "}\t\n",
       ".text_cell_render h2 {\n",
       "    font-family: 'Philosopher', serif;\n",
       "    font-weight: 400;\n",
       "    font-size: 1.9em;\n",
       "    line-height: 100%;\n",
       "    color: rgb(200,100,0);\n",
       "    margin-bottom: 0.1em;\n",
       "    margin-top: 0.1em;\n",
       "    display: block;\n",
       "}\t\n",
       "\n",
       ".text_cell_render h3 {\n",
       "    font-family: 'Philosopher', serif;\n",
       "    margin-top:12px;\n",
       "    margin-bottom: 3px;\n",
       "    font-style: italic;\n",
       "    color: rgb(94,127,192);\n",
       "}\n",
       "\n",
       ".text_cell_render h4 {\n",
       "    font-family: 'Philosopher', serif;\n",
       "}\n",
       "\n",
       ".text_cell_render h5 {\n",
       "    font-family: 'Alegreya Sans', sans-serif;\n",
       "    font-weight: 300;\n",
       "    font-size: 16pt;\n",
       "    color: grey;\n",
       "    font-style: italic;\n",
       "    margin-bottom: .1em;\n",
       "    margin-top: 0.1em;\n",
       "    display: block;\n",
       "}\n",
       "\n",
       ".text_cell_render h6 {\n",
       "    font-family: 'PT Mono', sans-serif;\n",
       "    font-weight: 300;\n",
       "    font-size: 10pt;\n",
       "    color: grey;\n",
       "    margin-bottom: 1px;\n",
       "    margin-top: 1px;\n",
       "}\n",
       "\n",
       ".CodeMirror{\n",
       "        font-family: \"PT Mono\";\n",
       "        font-size: 100%;\n",
       "}\n",
       "\n",
       "</style>\n",
       "\n"
      ],
      "text/plain": [
       "<IPython.core.display.HTML object>"
      ]
     },
     "execution_count": 1,
     "metadata": {},
     "output_type": "execute_result"
    }
   ],
   "source": [
    "from IPython.core.display import HTML, Image\n",
    "css_file = 'style.css'\n",
    "HTML(open(css_file, 'r').read())"
   ]
  },
  {
   "cell_type": "code",
   "execution_count": 2,
   "metadata": {
    "collapsed": true
   },
   "outputs": [],
   "source": [
    "from sympy import init_printing, Matrix, symbols, sqrt, Rational\n",
    "from numpy import matrix, transpose, sqrt\n",
    "from numpy.linalg import pinv, inv, det, svd, norm\n",
    "from scipy.linalg import pinv2\n",
    "from warnings import filterwarnings"
   ]
  },
  {
   "cell_type": "code",
   "execution_count": 3,
   "metadata": {
    "collapsed": true
   },
   "outputs": [],
   "source": [
    "init_printing(use_latex = 'mathjax')\n",
    "filterwarnings('ignore')"
   ]
  },
  {
   "cell_type": "markdown",
   "metadata": {},
   "source": [
    "# An overview of key ideas"
   ]
  },
  {
   "cell_type": "markdown",
   "metadata": {},
   "source": [
    "## Moving from vectors to matrices"
   ]
  },
  {
   "cell_type": "markdown",
   "metadata": {},
   "source": [
    "+ Consider a position vector in three-dimensional space\n",
    "+ It can be written as a column-vector\n",
    "$$ u=\\begin{bmatrix}1\\\\-1\\\\0\\end{bmatrix} \\\\ v=\\begin{bmatrix}0\\\\1\\\\-1\\end{bmatrix} $$\n",
    "+ We can add constant scalar multiples of these vectors\n",
    "$$ {x}_{1}{u}+{x}_{2}{v}={b} $$\n",
    "+ This is simple vector addition\n",
    "+ Its easy to visualize that if we combine all possible combinations, that we start filling a plane through the origin\n",
    "+ Adding a third vector that is not in this plane will extend all possible linear combinations to fill all of three-dimensional space\n",
    "$$ w=\\begin{bmatrix}0\\\\0\\\\1\\end{bmatrix} $$\n",
    "+ We now have the following\n",
    "$$ {x}_{1}{u}+{x}_{2}{v}+{x}_{3}{w}={b} $$"
   ]
  },
  {
   "cell_type": "markdown",
   "metadata": {},
   "source": [
    "+ Notice how this last equation can be written in matrix form A**x**=**b**\n",
    "$$ \\begin{bmatrix} 1 & 0 & 0 \\\\ -1 & 1 & 0 \\\\ 0 & -1 & 1 \\end{bmatrix}\\begin{bmatrix} { x }_{ 1 } \\\\ { x }_{ 2 } \\\\ { x }_{ 3 } \\end{bmatrix}=\\begin{bmatrix} { x }_{ 1 } \\\\ { x }_{ 2 }-{ x }_{ 1 } \\\\ { x }_{ 3 }-{ x }_{ 2 } \\end{bmatrix} $$\n",
    "+ This is the column-view of matrix-vector multiplication as opposed to the row view\n",
    "    + Matrices are seen a column, representing vectors\n",
    "    + Each element of the column vector **x** is a scalar multiple of the corresponding column in the matrix A\n",
    "    $$ { x }_{ 1 }\\begin{bmatrix} 1 \\\\ -1 \\\\ 0 \\end{bmatrix}+{ x }_{ 2 }\\begin{bmatrix} 0 \\\\ 1 \\\\ -1 \\end{bmatrix}+{ x }_{ 3 }\\begin{bmatrix} 0 \\\\ 0 \\\\ 1 \\end{bmatrix}=\\begin{matrix} { x }_{ 1 } \\\\ -{ x }_{ 1 }+{ x }_{ 2 } \\\\ -{ x }_{ 2 }+{ x }_{ 3 } \\end{matrix} = {x}_{1}{u}+{x}_{2}{v}+{x}_{3}{w}$$"
   ]
  },
  {
   "cell_type": "markdown",
   "metadata": {
    "collapsed": true
   },
   "source": [
    "+ Now consider the solution vector **b**\n",
    "$$ \\begin{bmatrix} 1 & 0 & 0 \\\\ -1 & 1 & 0 \\\\ 0 & -1 & 1 \\end{bmatrix}\\begin{bmatrix} { x }_{ 1 } \\\\ { x }_{ 2 } \\\\ { x }_{ 3 } \\end{bmatrix}=\\begin{bmatrix} { x }_{ 1 } \\\\ { x }_{ 2 }-{ x }_{ 1 } \\\\ { x }_{ 3 }-{ x }_{ 2 } \\end{bmatrix} = \\begin{bmatrix}{b}_{1}\\\\{b}_{2}\\\\{b}_{3}\\end{bmatrix} $$\n",
    "+ By substitution we we now have the following\n",
    "$$ \\begin{bmatrix} { x }_{ 1 } \\\\ { x }_{ 2 } \\\\ { x }_{ 3 } \\end{bmatrix}=\\begin{bmatrix} { b }_{ 1 } \\\\ { b }_{ 1 }+{ b }_{ 2 } \\\\ { b }_{ 1 }+{ b }_{ 2 }+{ b }_{ 2 } \\end{bmatrix} $$\n",
    "+ This, though, looks like a matrix times **b**\n",
    "$$ \\begin{bmatrix}1&0&0\\\\1&1&0\\\\1&1&1\\end{bmatrix}\\begin{bmatrix}{b}_{1}\\\\{b}_{2}\\\\{b}_{3}\\end{bmatrix} $$\n",
    "+ This matrix is the inverse of A such that **x**=A<sup>-1</sup>**b**"
   ]
  },
  {
   "cell_type": "markdown",
   "metadata": {},
   "source": [
    "+ The above matrix A is called a difference matrix as it took simple differences between the elements of vector **x**\n",
    "+ It was lower triangular\n",
    "+ Its inverse became a sum matrix\n",
    "+ So it was a good matrix, able to transform between **x** and **b** (back-and-forth) and therefor invertible and for every **x** has a specific inverse\n",
    "+ It transforms **x** into **b** (maps)"
   ]
  },
  {
   "cell_type": "markdown",
   "metadata": {},
   "source": [
    "+ Let's look at the code for this matrix which replaces **w** above"
   ]
  },
  {
   "cell_type": "code",
   "execution_count": 4,
   "metadata": {
    "collapsed": true
   },
   "outputs": [],
   "source": [
    "x1, x2, x3, b1, b2, b3 = symbols('x1, x2, x3, b1, b2, b3') # Creating algebraic symbols\n",
    "# This reserves these symbols so as not to see them as computer variable names"
   ]
  },
  {
   "cell_type": "code",
   "execution_count": 5,
   "metadata": {},
   "outputs": [
    {
     "data": {
      "text/latex": [
       "$$\\left[\\begin{matrix}1 & 0 & -1\\\\-1 & 1 & 0\\\\0 & -1 & 1\\end{matrix}\\right]$$"
      ],
      "text/plain": [
       "⎡1   0   -1⎤\n",
       "⎢          ⎥\n",
       "⎢-1  1   0 ⎥\n",
       "⎢          ⎥\n",
       "⎣0   -1  1 ⎦"
      ]
     },
     "execution_count": 5,
     "metadata": {},
     "output_type": "execute_result"
    }
   ],
   "source": [
    "C = Matrix([[1, 0, -1], [-1, 1, 0], [0, -1, 1]]) # Creating a matrix and putting\n",
    "# it into a computer variable called C\n",
    "C # Displaying it to the screen"
   ]
  },
  {
   "cell_type": "code",
   "execution_count": 6,
   "metadata": {},
   "outputs": [
    {
     "data": {
      "text/latex": [
       "$$\\left[\\begin{matrix}x_{1}\\\\x_{2}\\\\x_{3}\\end{matrix}\\right]$$"
      ],
      "text/plain": [
       "⎡x₁⎤\n",
       "⎢  ⎥\n",
       "⎢x₂⎥\n",
       "⎢  ⎥\n",
       "⎣x₃⎦"
      ]
     },
     "execution_count": 6,
     "metadata": {},
     "output_type": "execute_result"
    }
   ],
   "source": [
    "x_vect = Matrix([[x1], [x2], [x3]]) # Giving this columns vector a computer\n",
    "# variable name\n",
    "x_vect"
   ]
  },
  {
   "cell_type": "code",
   "execution_count": 7,
   "metadata": {},
   "outputs": [
    {
     "data": {
      "text/latex": [
       "$$\\left[\\begin{matrix}x_{1} - x_{3}\\\\- x_{1} + x_{2}\\\\- x_{2} + x_{3}\\end{matrix}\\right]$$"
      ],
      "text/plain": [
       "⎡x₁ - x₃ ⎤\n",
       "⎢        ⎥\n",
       "⎢-x₁ + x₂⎥\n",
       "⎢        ⎥\n",
       "⎣-x₂ + x₃⎦"
      ]
     },
     "execution_count": 7,
     "metadata": {},
     "output_type": "execute_result"
    }
   ],
   "source": [
    "C * x_vect"
   ]
  },
  {
   "cell_type": "markdown",
   "metadata": {},
   "source": [
    "+ We now have three equations\n",
    "$$ { x }_{ 1 }-{ x }_{ 3 }={ b }_{ 1 }\\\\ { x }_{ 2 }-{ x }_{ 1 }={ b }_{ 2 }\\\\ { x }_{ 3 }-{ x }_{ 2 }={ b }_{ 3 } $$\n",
    "+ Adding the left and right sides we get the following\n",
    "$$ 0={ b }_{ 1 }+{ b }_{ 2 }+{ b }_{ 3 } $$\n",
    "+ We are now constrained for values of *b*<sub>i</sub>"
   ]
  },
  {
   "cell_type": "markdown",
   "metadata": {},
   "source": [
    "+ The problem is clear to see geometrically as the new **w** is in the same plane as **u** and **v**\n",
    "+ In essence **w** did not add anything\n",
    "+ All combinations of **u**, **v**, and **w** will still be in the plane\n",
    "+ The first matrix A above had three independent columns and their linear combinations could fill all of three-dimensional space\n",
    "+ That made the first matrix A invertible as opposed to the second one (C), which is not invertible (i.e. it cannot take any vector in three-dimensional space back to **x**)"
   ]
  },
  {
   "cell_type": "markdown",
   "metadata": {},
   "source": [
    "+ Let's look at the original column vectors in C\n",
    "+ Remember the following dot product\n",
    "$$ {a}\\cdot{b}=||a||||b||\\cos{\\theta} \\\\ \\cos\\left(\\pi\\right)=-1 $$\n",
    "+ In linear algebra getting the dot product of two vectors is written as follows\n",
    "$$ a\\cdot{b}={b}^{T}{a} $$\n",
    "+ Which is the transpose of the second times the first"
   ]
  },
  {
   "cell_type": "code",
   "execution_count": 8,
   "metadata": {},
   "outputs": [
    {
     "data": {
      "text/latex": [
       "$$\\begin{pmatrix}\\left[\\begin{matrix}1\\\\-1\\\\0\\end{matrix}\\right], & \\left[\\begin{matrix}0\\\\1\\\\-1\\end{matrix}\\right], & \\left[\\begin{matrix}-1\\\\0\\\\1\\end{matrix}\\right]\\end{pmatrix}$$"
      ],
      "text/plain": [
       "⎛⎡1 ⎤, ⎡0 ⎤, ⎡-1⎤⎞\n",
       "⎜⎢  ⎥  ⎢  ⎥  ⎢  ⎥⎟\n",
       "⎜⎢-1⎥  ⎢1 ⎥  ⎢0 ⎥⎟\n",
       "⎜⎢  ⎥  ⎢  ⎥  ⎢  ⎥⎟\n",
       "⎝⎣0 ⎦  ⎣-1⎦  ⎣1 ⎦⎠"
      ]
     },
     "execution_count": 8,
     "metadata": {},
     "output_type": "execute_result"
    }
   ],
   "source": [
    "u = Matrix([[1], [-1], [0]])\n",
    "v = Matrix([[0], [1], [-1]])\n",
    "w = Matrix([[-1], [0], [1]])\n",
    "u, v, w"
   ]
  },
  {
   "cell_type": "code",
   "execution_count": 9,
   "metadata": {},
   "outputs": [
    {
     "data": {
      "text/latex": [
       "$$\\left[\\begin{matrix}-1\\end{matrix}\\right]$$"
      ],
      "text/plain": [
       "[-1]"
      ]
     },
     "execution_count": 9,
     "metadata": {},
     "output_type": "execute_result"
    }
   ],
   "source": [
    "v.transpose() * u"
   ]
  },
  {
   "cell_type": "code",
   "execution_count": 10,
   "metadata": {},
   "outputs": [
    {
     "data": {
      "text/latex": [
       "$$\\left[\\begin{matrix}-1\\end{matrix}\\right]$$"
      ],
      "text/plain": [
       "[-1]"
      ]
     },
     "execution_count": 10,
     "metadata": {},
     "output_type": "execute_result"
    }
   ],
   "source": [
    "w.transpose() * u"
   ]
  },
  {
   "cell_type": "code",
   "execution_count": 11,
   "metadata": {},
   "outputs": [
    {
     "data": {
      "text/latex": [
       "$$\\left[\\begin{matrix}-1\\end{matrix}\\right]$$"
      ],
      "text/plain": [
       "[-1]"
      ]
     },
     "execution_count": 11,
     "metadata": {},
     "output_type": "execute_result"
    }
   ],
   "source": [
    "w.transpose() * v"
   ]
  },
  {
   "cell_type": "code",
   "execution_count": 12,
   "metadata": {},
   "outputs": [
    {
     "data": {
      "text/latex": [
       "$$\\left[\\begin{matrix}-1\\end{matrix}\\right]$$"
      ],
      "text/plain": [
       "[-1]"
      ]
     },
     "execution_count": 12,
     "metadata": {},
     "output_type": "execute_result"
    }
   ],
   "source": [
    "u.transpose() * v"
   ]
  },
  {
   "cell_type": "code",
   "execution_count": 13,
   "metadata": {},
   "outputs": [
    {
     "data": {
      "text/latex": [
       "$$\\left[\\begin{matrix}-1\\end{matrix}\\right]$$"
      ],
      "text/plain": [
       "[-1]"
      ]
     },
     "execution_count": 13,
     "metadata": {},
     "output_type": "execute_result"
    }
   ],
   "source": [
    "u.transpose() * w"
   ]
  },
  {
   "cell_type": "code",
   "execution_count": 14,
   "metadata": {},
   "outputs": [
    {
     "data": {
      "text/latex": [
       "$$\\left[\\begin{matrix}-1\\end{matrix}\\right]$$"
      ],
      "text/plain": [
       "[-1]"
      ]
     },
     "execution_count": 14,
     "metadata": {},
     "output_type": "execute_result"
    }
   ],
   "source": [
    "v.transpose() * w"
   ]
  },
  {
   "cell_type": "markdown",
   "metadata": {},
   "source": [
    "+ The angle between all of them is &pi; radians and therefor they must all lie in a plane"
   ]
  },
  {
   "cell_type": "markdown",
   "metadata": {},
   "source": [
    "## Example problems"
   ]
  },
  {
   "cell_type": "markdown",
   "metadata": {},
   "source": [
    "### Example problem 1"
   ]
  },
  {
   "cell_type": "markdown",
   "metadata": {},
   "source": [
    "+ Suppose A is a matrix with the following solution\n",
    "$$ {A}{x}=\\begin{bmatrix}1\\\\4\\\\1\\\\1\\end{bmatrix} \\\\ {x}=\\begin{bmatrix}0\\\\1\\\\1\\end{bmatrix}+{c}\\begin{bmatrix}0\\\\2\\\\1\\end{bmatrix} $$\n",
    "+ What can you say about the columns of A?"
   ]
  },
  {
   "cell_type": "markdown",
   "metadata": {},
   "source": [
    "#### Solution"
   ]
  },
  {
   "cell_type": "code",
   "execution_count": 15,
   "metadata": {
    "collapsed": true
   },
   "outputs": [],
   "source": [
    "c = symbols('c')\n",
    "x_vect = Matrix([[0], [1 + 2 * c], [1 + c]])\n",
    "b = Matrix([[1], [4], [1], [1]])"
   ]
  },
  {
   "cell_type": "markdown",
   "metadata": {},
   "source": [
    "+ **x** is of size *m* &times; *n* is 3 &times; 1\n",
    "+ **b** is of size 4 &times; 1\n",
    "+ Therefor A must be of size 4 &times; 3 and each column vector in A is in &#8477;<sup>4</sup>"
   ]
  },
  {
   "cell_type": "markdown",
   "metadata": {},
   "source": [
    "+ Let's call these columns of A *C*<sub>1</sub>, *C*<sub>2</sub>, and *C*<sub>3</sub>\n",
    "$$ \\begin{bmatrix} \\vdots  & \\vdots  & \\vdots  \\\\ { C }_{ 1 } & { C }_{ 2 } & { C }_{ 3 } \\\\ \\vdots  & \\vdots  & \\vdots  \\\\ \\vdots  & \\vdots  & \\vdots  \\end{bmatrix} $$"
   ]
  },
  {
   "cell_type": "markdown",
   "metadata": {},
   "source": [
    "+ With the particular way in which **x** was written we can say that we have a particular solution and a special solution\n",
    "$$ {A}\\left({x}_{p}+{c}\\cdot{x}_{s}\\right)=b $$\n",
    "+ For *c* = 0 we have:\n",
    "$$ {A}{x}_{p}=b $$\n",
    "+ For *c* = 1 we have:\n",
    "$$ A{ x }_{ p }+A{ x }_{ s }=b\\\\ \\because \\quad A{ x }_{ p }=b\\\\ b+A{ x }_{ s }=b\\\\ \\therefore \\quad A{ x }_{ s }=0 $$"
   ]
  },
  {
   "cell_type": "markdown",
   "metadata": {},
   "source": [
    "+ We also have that the following\n",
    "$$ { x }_{ p }=\\begin{bmatrix} 0 \\\\ 1 \\\\ 1 \\end{bmatrix},\\quad { x }_{ s }=\\begin{bmatrix} 0 \\\\ 2 \\\\ 1 \\end{bmatrix} $$"
   ]
  },
  {
   "cell_type": "markdown",
   "metadata": {},
   "source": [
    "+ For *x*<sub>p</sub> we have the following\n",
    "$$ \\begin{bmatrix} \\vdots  & \\vdots  & \\vdots  \\\\ { C }_{ 1 } & { C }_{ 2 } & { C }_{ 3 } \\\\ \\vdots  & \\vdots  & \\vdots  \\\\ \\vdots  & \\vdots  & \\vdots  \\end{bmatrix}\\begin{bmatrix} 0 \\\\ 1 \\\\ 1 \\end{bmatrix}=b\\quad \\Rightarrow \\quad { C }_{ 2 }+{ C }_{ 3 }=b $$\n",
    "+ For *x*<sub>s</sub> we have the following\n",
    "$$ \\begin{bmatrix} \\vdots  & \\vdots  & \\vdots  \\\\ { C }_{ 1 } & { C }_{ 2 } & { C }_{ 3 } \\\\ \\vdots  & \\vdots  & \\vdots  \\\\ \\vdots  & \\vdots  & \\vdots  \\end{bmatrix}\\begin{bmatrix} 0 \\\\ 2 \\\\ 1 \\end{bmatrix}=\\underline { 0 } \\quad \\Rightarrow \\quad 2{ C }_{ 2 }+{ C }_{ 3 }=0 $$"
   ]
  },
  {
   "cell_type": "markdown",
   "metadata": {},
   "source": [
    "+ Solving for *C*<sub>2</sub> and *C*<sub>3</sub> we have the following\n",
    "$$ {C}_{3}=-2{C}_{2} \\\\ {C}_{2}-2{C}_{2}=b \\\\ {C}_{2}=-b \\\\ {C}_{3}=2b$$"
   ]
  },
  {
   "cell_type": "markdown",
   "metadata": {},
   "source": [
    "+ As for the first column of A, we need to know more about ranks and subspaces\n",
    "+ We see, though, that columns 2 and three are already constant multiples of each other\n",
    "+ So, as long as column 1 is not a constant multiple of b, we are safe\n",
    "$$ A=\\begin{bmatrix} \\vdots  & 1 & 2 \\\\ { C }_{ 1 } & 4 & 8 \\\\ \\vdots  & 1 & 2 \\\\ \\vdots  & 1 & 2 \\end{bmatrix} $$"
   ]
  },
  {
   "cell_type": "code",
   "execution_count": null,
   "metadata": {
    "collapsed": true
   },
   "outputs": [],
   "source": []
  }
 ],
 "metadata": {
  "kernelspec": {
   "display_name": "Python 3",
   "language": "python",
   "name": "python3"
  },
  "language_info": {
   "codemirror_mode": {
    "name": "ipython",
    "version": 3
   },
   "file_extension": ".py",
   "mimetype": "text/x-python",
   "name": "python",
   "nbconvert_exporter": "python",
   "pygments_lexer": "ipython3",
   "version": "3.6.4"
  }
 },
 "nbformat": 4,
 "nbformat_minor": 1
}
