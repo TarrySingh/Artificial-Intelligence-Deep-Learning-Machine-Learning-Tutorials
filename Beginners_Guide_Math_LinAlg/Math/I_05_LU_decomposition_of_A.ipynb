{
 "cells": [
  {
   "cell_type": "markdown",
   "metadata": {},
   "source": [
    "# LU Decomposition\n",
    "\n",
    "+ This notebook is part of lecture 4 *Factorization into LU* in the OCW MIT course 18.06 [1]\n",
    "+ Created by me, Dr Juan H Klopper\n",
    "    + Head of Acute Care Surgery\n",
    "    + Groote Schuur Hospital\n",
    "    + University Cape Town\n",
    "    + <a href=\"mailto:juan.klopper@uct.ac.za\">Email me with your thoughts, comments, suggestions and corrections</a> \n",
    "<a rel=\"license\" href=\"http://creativecommons.org/licenses/by-nc/4.0/\"><img alt=\"Creative Commons Licence\" style=\"border-width:0\" src=\"https://i.creativecommons.org/l/by-nc/4.0/88x31.png\" /></a><br /><span xmlns:dct=\"http://purl.org/dc/terms/\" href=\"http://purl.org/dc/dcmitype/InteractiveResource\" property=\"dct:title\" rel=\"dct:type\">Linear Algebra OCW MIT18.06</span> <span xmlns:cc=\"http://creativecommons.org/ns#\" property=\"cc:attributionName\">IPython notebook [2] study notes by Dr Juan H Klopper</span> is licensed under a <a rel=\"license\" href=\"http://creativecommons.org/licenses/by-nc/4.0/\">Creative Commons Attribution-NonCommercial 4.0 International License</a>.\n",
    "\n",
    "+ [1] <a href=\"http://ocw.mit.edu/courses/mathematics/18-06sc-linear-algebra-fall-2011/index.htm\">OCW MIT 18.06</a>\n",
    "+ [2] Fernando Pérez, Brian E. Granger, IPython: A System for Interactive Scientific Computing, Computing in Science and Engineering, vol. 9, no. 3, pp. 21-29, May/June 2007, doi:10.1109/MCSE.2007.53. URL: http://ipython.org"
   ]
  },
  {
   "cell_type": "code",
   "execution_count": 1,
   "metadata": {},
   "outputs": [
    {
     "data": {
      "text/html": [
       "<link href='http://fonts.googleapis.com/css?family=Alegreya+Sans:100,300,400,500,700,800,900,100italic,300italic,400italic,500italic,700italic,800italic,900italic' rel='stylesheet' type='text/css'>\n",
       "<link href='http://fonts.googleapis.com/css?family=Arvo:400,700,400italic' rel='stylesheet' type='text/css'>\n",
       "<link href='http://fonts.googleapis.com/css?family=PT+Mono' rel='stylesheet' type='text/css'>\n",
       "<link href='http://fonts.googleapis.com/css?family=Shadows+Into+Light' rel='stylesheet' type='text/css'>\n",
       "<link href='http://fonts.googleapis.com/css?family=Philosopher:400,700,400italic,700italic' rel='stylesheet' type='text/css'>\n",
       "\n",
       "<style>\n",
       "\n",
       "@font-face {\n",
       "    font-family: \"Computer Modern\";\n",
       "    src: url('http://mirrors.ctan.org/fonts/cm-unicode/fonts/otf/cmunss.otf');\n",
       "}\n",
       "\n",
       "#notebook_panel { /* main background */\n",
       "    background: #ddd;\n",
       "    color: #000000;\n",
       "}\n",
       "\n",
       "\n",
       "\n",
       "/* Formatting for header cells */\n",
       ".text_cell_render h1 {\n",
       "    font-family: 'Philosopher', sans-serif;\n",
       "    font-weight: 400;\n",
       "    font-size: 2.2em;\n",
       "    line-height: 100%;\n",
       "    color: rgb(0, 80, 120);\n",
       "    margin-bottom: 0.1em;\n",
       "    margin-top: 0.1em;\n",
       "    display: block;\n",
       "}\t\n",
       ".text_cell_render h2 {\n",
       "    font-family: 'Philosopher', serif;\n",
       "    font-weight: 400;\n",
       "    font-size: 1.9em;\n",
       "    line-height: 100%;\n",
       "    color: rgb(200,100,0);\n",
       "    margin-bottom: 0.1em;\n",
       "    margin-top: 0.1em;\n",
       "    display: block;\n",
       "}\t\n",
       "\n",
       ".text_cell_render h3 {\n",
       "    font-family: 'Philosopher', serif;\n",
       "    margin-top:12px;\n",
       "    margin-bottom: 3px;\n",
       "    font-style: italic;\n",
       "    color: rgb(94,127,192);\n",
       "}\n",
       "\n",
       ".text_cell_render h4 {\n",
       "    font-family: 'Philosopher', serif;\n",
       "}\n",
       "\n",
       ".text_cell_render h5 {\n",
       "    font-family: 'Alegreya Sans', sans-serif;\n",
       "    font-weight: 300;\n",
       "    font-size: 16pt;\n",
       "    color: grey;\n",
       "    font-style: italic;\n",
       "    margin-bottom: .1em;\n",
       "    margin-top: 0.1em;\n",
       "    display: block;\n",
       "}\n",
       "\n",
       ".text_cell_render h6 {\n",
       "    font-family: 'PT Mono', sans-serif;\n",
       "    font-weight: 300;\n",
       "    font-size: 10pt;\n",
       "    color: grey;\n",
       "    margin-bottom: 1px;\n",
       "    margin-top: 1px;\n",
       "}\n",
       "\n",
       ".CodeMirror{\n",
       "        font-family: \"PT Mono\";\n",
       "        font-size: 100%;\n",
       "}\n",
       "\n",
       "</style>\n",
       "\n"
      ],
      "text/plain": [
       "<IPython.core.display.HTML object>"
      ]
     },
     "execution_count": 1,
     "metadata": {},
     "output_type": "execute_result"
    }
   ],
   "source": [
    "from IPython.core.display import HTML, Image\n",
    "css_file = 'style.css'\n",
    "HTML(open(css_file, 'r').read())"
   ]
  },
  {
   "cell_type": "code",
   "execution_count": 2,
   "metadata": {},
   "outputs": [],
   "source": [
    "import numpy as np\n",
    "from sympy import *\n",
    "import matplotlib.pyplot as plt\n",
    "import seaborn as sns\n",
    "from IPython.display import Image\n",
    "from warnings import filterwarnings\n",
    "\n",
    "init_printing(use_latex = 'mathjax')\n",
    "%matplotlib inline\n",
    "filterwarnings('ignore')"
   ]
  },
  {
   "cell_type": "markdown",
   "metadata": {},
   "source": [
    "# LU decomposition of a matrix A"
   ]
  },
  {
   "cell_type": "markdown",
   "metadata": {},
   "source": [
    "* We will decompose the matrix A into and upper and lower triangular matrix, such that multiplying these will result back into A\n",
    "$$ A = LU $$"
   ]
  },
  {
   "cell_type": "markdown",
   "metadata": {},
   "source": [
    "## Turning the matrix of coefficients into <u>U</u>pper triangular form"
   ]
  },
  {
   "cell_type": "markdown",
   "metadata": {},
   "source": [
    "* Consider the following matrix of coefficients\n",
    "$$ \\begin{bmatrix} 1 & -2 & 1 \\\\ 3 & 2 & -2 \\\\ 6 & -1 & -1 \\end{bmatrix} $$\n",
    "* Successive elementary row operation follow\n",
    "    * Which is nothing other than matrix multiplication of the elementary matrices\n",
    "    * An elementary matrix is an identity matrix on which one elementary row operation was performed"
   ]
  },
  {
   "cell_type": "code",
   "execution_count": 3,
   "metadata": {},
   "outputs": [
    {
     "data": {
      "text/latex": [
       "$$\\left[\\begin{matrix}1 & -2 & 1\\\\3 & 2 & -2\\\\6 & -1 & -1\\end{matrix}\\right]$$"
      ],
      "text/plain": [
       "⎡1  -2  1 ⎤\n",
       "⎢         ⎥\n",
       "⎢3  2   -2⎥\n",
       "⎢         ⎥\n",
       "⎣6  -1  -1⎦"
      ]
     },
     "execution_count": 3,
     "metadata": {},
     "output_type": "execute_result"
    }
   ],
   "source": [
    "A = Matrix([[1, -2, 1], [3, 2, -2], [6, -1, -1]])\n",
    "A"
   ]
  },
  {
   "cell_type": "code",
   "execution_count": 4,
   "metadata": {},
   "outputs": [
    {
     "data": {
      "text/latex": [
       "$$\\left[\\begin{matrix}1 & 0 & 0\\\\0 & 1 & 0\\\\0 & 0 & 1\\end{matrix}\\right]$$"
      ],
      "text/plain": [
       "⎡1  0  0⎤\n",
       "⎢       ⎥\n",
       "⎢0  1  0⎥\n",
       "⎢       ⎥\n",
       "⎣0  0  1⎦"
      ]
     },
     "execution_count": 4,
     "metadata": {},
     "output_type": "execute_result"
    }
   ],
   "source": [
    "eye(3)"
   ]
  },
  {
   "cell_type": "markdown",
   "metadata": {},
   "source": [
    "* We have to get a -3 in the first **pivot** (the 1 in row 1, column 1) to get rid of the 3 in position row 2, column 1 (we call the resulting matrix E21, referring to the row 2, column 1)\n",
    "* Then we add the new row 1 to row two\n",
    "    Row one of the identity matrix is then (-3,0,0) (but we leave it (1,0,0) in E21) and adding this to row 2 leaves (-3,1,0)"
   ]
  },
  {
   "cell_type": "code",
   "execution_count": 5,
   "metadata": {},
   "outputs": [
    {
     "data": {
      "text/latex": [
       "$$\\left[\\begin{matrix}1 & 0 & 0\\\\-3 & 1 & 0\\\\0 & 0 & 1\\end{matrix}\\right]$$"
      ],
      "text/plain": [
       "⎡1   0  0⎤\n",
       "⎢        ⎥\n",
       "⎢-3  1  0⎥\n",
       "⎢        ⎥\n",
       "⎣0   0  1⎦"
      ]
     },
     "execution_count": 5,
     "metadata": {},
     "output_type": "execute_result"
    }
   ],
   "source": [
    "E21 = Matrix([[1, 0, 0], [-3, 1, 0], [0, 0, 1]])\n",
    "E21"
   ]
  },
  {
   "cell_type": "code",
   "execution_count": 6,
   "metadata": {},
   "outputs": [
    {
     "data": {
      "text/latex": [
       "$$\\left[\\begin{matrix}1 & -2 & 1\\\\0 & 8 & -5\\\\6 & -1 & -1\\end{matrix}\\right]$$"
      ],
      "text/plain": [
       "⎡1  -2  1 ⎤\n",
       "⎢         ⎥\n",
       "⎢0  8   -5⎥\n",
       "⎢         ⎥\n",
       "⎣6  -1  -1⎦"
      ]
     },
     "execution_count": 6,
     "metadata": {},
     "output_type": "execute_result"
    }
   ],
   "source": [
    "E21 * A # The resulting matrix after multiplication by E21"
   ]
  },
  {
   "cell_type": "markdown",
   "metadata": {},
   "source": [
    "* We do the same to get rid of the 6 in row 3, column 1\n",
    "    * Multiplying row 1 (of the identity matrix) by -6 and adding this new row to row 3 (but again leaving row 1 as (1,0,0) in E31)"
   ]
  },
  {
   "cell_type": "code",
   "execution_count": 7,
   "metadata": {},
   "outputs": [
    {
     "data": {
      "text/latex": [
       "$$\\left[\\begin{matrix}1 & 0 & 0\\\\0 & 1 & 0\\\\-6 & 0 & 1\\end{matrix}\\right]$$"
      ],
      "text/plain": [
       "⎡1   0  0⎤\n",
       "⎢        ⎥\n",
       "⎢0   1  0⎥\n",
       "⎢        ⎥\n",
       "⎣-6  0  1⎦"
      ]
     },
     "execution_count": 7,
     "metadata": {},
     "output_type": "execute_result"
    }
   ],
   "source": [
    "E31 = Matrix([[1, 0, 0], [0, 1, 0], [-6, 0, 1]])\n",
    "E31"
   ]
  },
  {
   "cell_type": "code",
   "execution_count": 8,
   "metadata": {},
   "outputs": [
    {
     "data": {
      "text/latex": [
       "$$\\left[\\begin{matrix}1 & -2 & 1\\\\0 & 8 & -5\\\\0 & 11 & -7\\end{matrix}\\right]$$"
      ],
      "text/plain": [
       "⎡1  -2  1 ⎤\n",
       "⎢         ⎥\n",
       "⎢0  8   -5⎥\n",
       "⎢         ⎥\n",
       "⎣0  11  -7⎦"
      ]
     },
     "execution_count": 8,
     "metadata": {},
     "output_type": "execute_result"
    }
   ],
   "source": [
    "E31 * E21 * A # This got rid of the leading 6 in row 3"
   ]
  },
  {
   "cell_type": "markdown",
   "metadata": {},
   "source": [
    "* Now the 8 in row 2, column 2 is the **pivot** and we need to get rid of the 11 in row 3, column 2\n",
    "* Unfortunately we have an 8 and an 11 to deal with\n",
    "* We will have to do two elementary row operations\n",
    "    * -11 times row 2 of the identity matrix (0,-11,0)\n",
    "    * Added to 8 times row 3 (0,0,8) &#8756; (0,-11,8)"
   ]
  },
  {
   "cell_type": "code",
   "execution_count": 9,
   "metadata": {},
   "outputs": [
    {
     "data": {
      "text/latex": [
       "$$\\left[\\begin{matrix}1 & 0 & 0\\\\0 & 1 & 0\\\\0 & -11 & 8\\end{matrix}\\right]$$"
      ],
      "text/plain": [
       "⎡1   0   0⎤\n",
       "⎢         ⎥\n",
       "⎢0   1   0⎥\n",
       "⎢         ⎥\n",
       "⎣0  -11  8⎦"
      ]
     },
     "execution_count": 9,
     "metadata": {},
     "output_type": "execute_result"
    }
   ],
   "source": [
    "E32 = Matrix([[1, 0 , 0], [0, 1, 0], [0, -11, 8]])\n",
    "E32"
   ]
  },
  {
   "cell_type": "code",
   "execution_count": 10,
   "metadata": {},
   "outputs": [
    {
     "data": {
      "text/latex": [
       "$$\\left[\\begin{matrix}1 & -2 & 1\\\\0 & 8 & -5\\\\0 & 0 & -1\\end{matrix}\\right]$$"
      ],
      "text/plain": [
       "⎡1  -2  1 ⎤\n",
       "⎢         ⎥\n",
       "⎢0  8   -5⎥\n",
       "⎢         ⎥\n",
       "⎣0  0   -1⎦"
      ]
     },
     "execution_count": 10,
     "metadata": {},
     "output_type": "execute_result"
    }
   ],
   "source": [
    "U = E32 * E31 * E21 * A\n",
    "U # We call is U for upper triangular"
   ]
  },
  {
   "cell_type": "markdown",
   "metadata": {},
   "source": [
    "* The matrix is now in upper triangular form\n",
    "$$ \\left( { E }_{ 32 } \\right) \\left( { E }_{ 31 } \\right) \\left( { E }_{ 21 } \\right) A=U $$"
   ]
  },
  {
   "cell_type": "markdown",
   "metadata": {},
   "source": [
    "## Calculating the <u>L</u>ower triangular from"
   ]
  },
  {
   "cell_type": "markdown",
   "metadata": {},
   "source": [
    "* Note, to reverse this process we would have to do the following:\n",
    "$$ { \\left( { E }_{ 21 } \\right)  }^{ -1 }{ \\left( { E }_{ 31 } \\right)  }^{ -1 }{ \\left( { E }_{ 32 } \\right)  }^{ -1 }\\left( { E }_{ 32 } \\right) \\left( { E }_{ 31 } \\right) \\left( { E }_{ 21 } \\right) A=A $$\n",
    "* The inverse of a matrix can be calculated using the sympy method .*inv*()"
   ]
  },
  {
   "cell_type": "markdown",
   "metadata": {},
   "source": [
    "* We can check this with a Boolean request"
   ]
  },
  {
   "cell_type": "code",
   "execution_count": 11,
   "metadata": {},
   "outputs": [
    {
     "data": {
      "text/plain": [
       "True"
      ]
     },
     "execution_count": 11,
     "metadata": {},
     "output_type": "execute_result"
    }
   ],
   "source": [
    "E21.inv() * E31.inv() * E32.inv() * E32 * E31 * E21 * A == A # The Boolean double equal signs asks: Is the\n",
    "# left-hand side equal to the right-hand side?"
   ]
  },
  {
   "cell_type": "markdown",
   "metadata": {},
   "source": [
    "* Indeed, we will be back with the identity matrix just multiplying the inverse elementary matrices and the elementary matrices"
   ]
  },
  {
   "cell_type": "code",
   "execution_count": 12,
   "metadata": {},
   "outputs": [
    {
     "data": {
      "text/latex": [
       "$$\\left[\\begin{matrix}1 & 0 & 0\\\\0 & 1 & 0\\\\0 & 0 & 1\\end{matrix}\\right]$$"
      ],
      "text/plain": [
       "⎡1  0  0⎤\n",
       "⎢       ⎥\n",
       "⎢0  1  0⎥\n",
       "⎢       ⎥\n",
       "⎣0  0  1⎦"
      ]
     },
     "execution_count": 12,
     "metadata": {},
     "output_type": "execute_result"
    }
   ],
   "source": [
    "E21.inv() * E31.inv() * E32.inv() * E32 * E31 * E21"
   ]
  },
  {
   "cell_type": "markdown",
   "metadata": {},
   "source": [
    "* Multiplying the inverse elementary matrices on the left, must also have it happen on the right\n",
    "$$ { \\left( { E }_{ 21 } \\right)  }^{ -1 }{ \\left( { E }_{ 31 } \\right)  }^{ -1 }{ \\left( { E }_{ 32 } \\right)  }^{ -1 }\\left( { E }_{ 32 } \\right) \\left( { E }_{ 31 } \\right) \\left( { E }_{ 21 } \\right) A={ \\left( { E }_{ 21 } \\right)  }^{ -1 }{ \\left( { E }_{ 31 } \\right)  }^{ -1 }{ \\left( { E }_{ 32 } \\right)  }^{ -1 }U $$"
   ]
  },
  {
   "cell_type": "markdown",
   "metadata": {},
   "source": [
    "* The multiplication of these inverse elementary matrices is <u>l</u>ower triangular\n",
    "* We can call in L\n",
    "$$ A=LU $$"
   ]
  },
  {
   "cell_type": "code",
   "execution_count": 13,
   "metadata": {},
   "outputs": [
    {
     "data": {
      "text/latex": [
       "$$\\left[\\begin{matrix}1 & 0 & 0\\\\3 & 1 & 0\\\\6 & \\frac{11}{8} & \\frac{1}{8}\\end{matrix}\\right]$$"
      ],
      "text/plain": [
       "⎡1   0     0 ⎤\n",
       "⎢            ⎥\n",
       "⎢3   1     0 ⎥\n",
       "⎢            ⎥\n",
       "⎣6  11/8  1/8⎦"
      ]
     },
     "execution_count": 13,
     "metadata": {},
     "output_type": "execute_result"
    }
   ],
   "source": [
    "L = E21.inv() * E31.inv() * E32.inv()\n",
    "L"
   ]
  },
  {
   "cell_type": "code",
   "execution_count": 14,
   "metadata": {},
   "outputs": [
    {
     "data": {
      "text/plain": [
       "True"
      ]
     },
     "execution_count": 14,
     "metadata": {},
     "output_type": "execute_result"
    }
   ],
   "source": [
    "A == L * U # Checking this with a Boolean question"
   ]
  },
  {
   "cell_type": "code",
   "execution_count": 15,
   "metadata": {},
   "outputs": [
    {
     "data": {
      "text/latex": [
       "$$\\left ( \\left[\\begin{matrix}1 & -2 & 1\\\\3 & 2 & -2\\\\6 & -1 & -1\\end{matrix}\\right], \\quad \\left[\\begin{matrix}1 & -2 & 1\\\\3 & 2 & -2\\\\6 & -1 & -1\\end{matrix}\\right]\\right )$$"
      ],
      "text/plain": [
       "⎛⎡1  -2  1 ⎤  ⎡1  -2  1 ⎤⎞\n",
       "⎜⎢         ⎥  ⎢         ⎥⎟\n",
       "⎜⎢3  2   -2⎥, ⎢3  2   -2⎥⎟\n",
       "⎜⎢         ⎥  ⎢         ⎥⎟\n",
       "⎝⎣6  -1  -1⎦  ⎣6  -1  -1⎦⎠"
      ]
     },
     "execution_count": 15,
     "metadata": {},
     "output_type": "execute_result"
    }
   ],
   "source": [
    "A, L * U # They are identical"
   ]
  },
  {
   "cell_type": "markdown",
   "metadata": {},
   "source": [
    "## Doing this in one go using sympy"
   ]
  },
  {
   "cell_type": "code",
   "execution_count": 16,
   "metadata": {},
   "outputs": [],
   "source": [
    "L, U, _ = A.LUdecomposition()"
   ]
  },
  {
   "cell_type": "code",
   "execution_count": 17,
   "metadata": {},
   "outputs": [
    {
     "data": {
      "text/latex": [
       "$$\\left[\\begin{matrix}1 & 0 & 0\\\\3 & 1 & 0\\\\6 & \\frac{11}{8} & 1\\end{matrix}\\right]$$"
      ],
      "text/plain": [
       "⎡1   0    0⎤\n",
       "⎢          ⎥\n",
       "⎢3   1    0⎥\n",
       "⎢          ⎥\n",
       "⎣6  11/8  1⎦"
      ]
     },
     "execution_count": 17,
     "metadata": {},
     "output_type": "execute_result"
    }
   ],
   "source": [
    "L"
   ]
  },
  {
   "cell_type": "code",
   "execution_count": 18,
   "metadata": {},
   "outputs": [
    {
     "data": {
      "text/latex": [
       "$$\\left[\\begin{matrix}1 & -2 & 1\\\\0 & 8 & -5\\\\0 & 0 & - \\frac{1}{8}\\end{matrix}\\right]$$"
      ],
      "text/plain": [
       "⎡1  -2   1  ⎤\n",
       "⎢           ⎥\n",
       "⎢0  8    -5 ⎥\n",
       "⎢           ⎥\n",
       "⎣0  0   -1/8⎦"
      ]
     },
     "execution_count": 18,
     "metadata": {},
     "output_type": "execute_result"
    }
   ],
   "source": [
    "U # Note the difference from the U above"
   ]
  },
  {
   "cell_type": "code",
   "execution_count": 19,
   "metadata": {},
   "outputs": [
    {
     "data": {
      "text/latex": [
       "$$\\left[\\begin{matrix}1 & -2 & 1\\\\3 & 2 & -2\\\\6 & -1 & -1\\end{matrix}\\right]$$"
      ],
      "text/plain": [
       "⎡1  -2  1 ⎤\n",
       "⎢         ⎥\n",
       "⎢3  2   -2⎥\n",
       "⎢         ⎥\n",
       "⎣6  -1  -1⎦"
      ]
     },
     "execution_count": 19,
     "metadata": {},
     "output_type": "execute_result"
    }
   ],
   "source": [
    "L * U # Back to A"
   ]
  },
  {
   "cell_type": "markdown",
   "metadata": {},
   "source": [
    "## What's special about L?"
   ]
  },
  {
   "cell_type": "markdown",
   "metadata": {},
   "source": [
    "* This only works when no row interchange happens\n",
    "* It also actually only works when doing the conventional subtracting the scalar multiplication of a row from another row, leaving the positive scalar as opposed to the negatives I use, allowing me to add the two rows (as opposed to subtraction)\n",
    "* Note the 3 (in row 2, column 1) and the 6 (in row 3, column 1)\n",
    "* They are the row multiplications we have to do for E21 and E31\n",
    "* The &#185;&#185; / &#8328; is what we did for E32 (we just did it in two steps so as not to use fractions)"
   ]
  },
  {
   "cell_type": "markdown",
   "metadata": {},
   "source": [
    "## Row exchanges"
   ]
  },
  {
   "cell_type": "markdown",
   "metadata": {},
   "source": [
    "* We have to allow row exchanges if the pivot contains a zero"
   ]
  },
  {
   "cell_type": "markdown",
   "metadata": {},
   "source": [
    "* For an example, from a 3&#215;3 identity matrix we could have:"
   ]
  },
  {
   "cell_type": "code",
   "execution_count": 20,
   "metadata": {},
   "outputs": [
    {
     "data": {
      "text/latex": [
       "$$\\left[\\begin{matrix}1 & 0 & 0\\\\0 & 1 & 0\\\\0 & 0 & 1\\end{matrix}\\right]$$"
      ],
      "text/plain": [
       "⎡1  0  0⎤\n",
       "⎢       ⎥\n",
       "⎢0  1  0⎥\n",
       "⎢       ⎥\n",
       "⎣0  0  1⎦"
      ]
     },
     "execution_count": 20,
     "metadata": {},
     "output_type": "execute_result"
    }
   ],
   "source": [
    "eye(3)"
   ]
  },
  {
   "cell_type": "markdown",
   "metadata": {},
   "source": [
    "* Exchanging rows one and two would be:"
   ]
  },
  {
   "cell_type": "code",
   "execution_count": 21,
   "metadata": {},
   "outputs": [
    {
     "data": {
      "text/latex": [
       "$$\\left[\\begin{matrix}0 & 1 & 0\\\\1 & 0 & 0\\\\0 & 0 & 1\\end{matrix}\\right]$$"
      ],
      "text/plain": [
       "⎡0  1  0⎤\n",
       "⎢       ⎥\n",
       "⎢1  0  0⎥\n",
       "⎢       ⎥\n",
       "⎣0  0  1⎦"
      ]
     },
     "execution_count": 21,
     "metadata": {},
     "output_type": "execute_result"
    }
   ],
   "source": [
    "Matrix([[0, 1, 0], [1, 0, 0], [0, 0, 1]])"
   ]
  },
  {
   "cell_type": "code",
   "execution_count": 22,
   "metadata": {},
   "outputs": [
    {
     "data": {
      "text/latex": [
       "$$\\left ( \\left[\\begin{matrix}1 & -2 & 1\\\\3 & 2 & -2\\\\6 & -1 & -1\\end{matrix}\\right], \\quad \\left[\\begin{matrix}3 & 2 & -2\\\\1 & -2 & 1\\\\6 & -1 & -1\\end{matrix}\\right]\\right )$$"
      ],
      "text/plain": [
       "⎛⎡1  -2  1 ⎤  ⎡3  2   -2⎤⎞\n",
       "⎜⎢         ⎥  ⎢         ⎥⎟\n",
       "⎜⎢3  2   -2⎥, ⎢1  -2  1 ⎥⎟\n",
       "⎜⎢         ⎥  ⎢         ⎥⎟\n",
       "⎝⎣6  -1  -1⎦  ⎣6  -1  -1⎦⎠"
      ]
     },
     "execution_count": 22,
     "metadata": {},
     "output_type": "execute_result"
    }
   ],
   "source": [
    "A, Matrix([[0, 1, 0], [1, 0, 0], [0, 0, 1]]) * A # Showing row exchange"
   ]
  },
  {
   "cell_type": "markdown",
   "metadata": {},
   "source": [
    "* How many permutations of row exchanges are there?\n",
    "$$ {n!} $$"
   ]
  },
  {
   "cell_type": "markdown",
   "metadata": {},
   "source": [
    "* In a 3&#215;3 matrix there are 3! = 6 permutations\n",
    "    * Multiplying any of them will result in one of the 6\n",
    "    * They are inverses of each other\n",
    "    * The inverse are the transposes\n",
    "* For 4&#215;4 there are 4! = 24"
   ]
  },
  {
   "cell_type": "markdown",
   "metadata": {},
   "source": [
    "## Example problems"
   ]
  },
  {
   "cell_type": "markdown",
   "metadata": {},
   "source": [
    "### Example problem 01"
   ]
  },
  {
   "cell_type": "markdown",
   "metadata": {},
   "source": [
    "* Perform LU decomposition of:\n",
    "$$  \\begin{bmatrix} 1 & 0 & 1 \\\\ a & a & a \\\\ b & b & a \\end{bmatrix} $$\n",
    "* For which values of *a* and *b* does L and U exist?"
   ]
  },
  {
   "cell_type": "markdown",
   "metadata": {},
   "source": [
    "#### Solution"
   ]
  },
  {
   "cell_type": "code",
   "execution_count": 23,
   "metadata": {},
   "outputs": [],
   "source": [
    "a, b = symbols('a b')"
   ]
  },
  {
   "cell_type": "code",
   "execution_count": 24,
   "metadata": {},
   "outputs": [
    {
     "data": {
      "text/latex": [
       "$$\\left[\\begin{matrix}1 & 0 & 1\\\\a & a & a\\\\b & b & a\\end{matrix}\\right]$$"
      ],
      "text/plain": [
       "⎡1  0  1⎤\n",
       "⎢       ⎥\n",
       "⎢a  a  a⎥\n",
       "⎢       ⎥\n",
       "⎣b  b  a⎦"
      ]
     },
     "execution_count": 24,
     "metadata": {},
     "output_type": "execute_result"
    }
   ],
   "source": [
    "A = Matrix([[1, 0, 1], [a, a, a], [b, b, a]])\n",
    "A"
   ]
  },
  {
   "cell_type": "code",
   "execution_count": 25,
   "metadata": {},
   "outputs": [],
   "source": [
    "L,U, _ = A.LUdecomposition()"
   ]
  },
  {
   "cell_type": "code",
   "execution_count": 26,
   "metadata": {},
   "outputs": [
    {
     "data": {
      "text/latex": [
       "$$\\left ( \\left[\\begin{matrix}1 & 0 & 0\\\\a & 1 & 0\\\\b & \\frac{b}{a} & 1\\end{matrix}\\right], \\quad \\left[\\begin{matrix}1 & 0 & 1\\\\0 & a & 0\\\\0 & 0 & a - b\\end{matrix}\\right]\\right )$$"
      ],
      "text/plain": [
       "⎛⎡1  0  0⎤               ⎞\n",
       "⎜⎢       ⎥  ⎡1  0    1  ⎤⎟\n",
       "⎜⎢a  1  0⎥  ⎢           ⎥⎟\n",
       "⎜⎢       ⎥, ⎢0  a    0  ⎥⎟\n",
       "⎜⎢   b   ⎥  ⎢           ⎥⎟\n",
       "⎜⎢b  ─  1⎥  ⎣0  0  a - b⎦⎟\n",
       "⎝⎣   a   ⎦               ⎠"
      ]
     },
     "execution_count": 26,
     "metadata": {},
     "output_type": "execute_result"
    }
   ],
   "source": [
    "L, U"
   ]
  },
  {
   "cell_type": "markdown",
   "metadata": {},
   "source": [
    "* Checking"
   ]
  },
  {
   "cell_type": "code",
   "execution_count": 27,
   "metadata": {},
   "outputs": [
    {
     "data": {
      "text/plain": [
       "True"
      ]
     },
     "execution_count": 27,
     "metadata": {},
     "output_type": "execute_result"
    }
   ],
   "source": [
    "L * U == A"
   ]
  },
  {
   "cell_type": "markdown",
   "metadata": {},
   "source": [
    "* For existence:\n",
    "    * *a* &#8800; 0\n",
    "* It's easy to see why, since if a equals zero, we will have a zero in a pivot position and we will have to do row exchange, which is not allowed for LU-decomposition"
   ]
  },
  {
   "cell_type": "markdown",
   "metadata": {},
   "source": [
    "## Hints and tips"
   ]
  },
  {
   "cell_type": "code",
   "execution_count": 28,
   "metadata": {},
   "outputs": [
    {
     "data": {
      "text/latex": [
       "$$\\left ( \\left[\\begin{matrix}1 & 0 & 0\\\\-3 & 1 & 0\\\\0 & 0 & 1\\end{matrix}\\right], \\quad \\left[\\begin{matrix}1 & 0 & 0\\\\3 & 1 & 0\\\\0 & 0 & 1\\end{matrix}\\right]\\right )$$"
      ],
      "text/plain": [
       "⎛⎡1   0  0⎤  ⎡1  0  0⎤⎞\n",
       "⎜⎢        ⎥  ⎢       ⎥⎟\n",
       "⎜⎢-3  1  0⎥, ⎢3  1  0⎥⎟\n",
       "⎜⎢        ⎥  ⎢       ⎥⎟\n",
       "⎝⎣0   0  1⎦  ⎣0  0  1⎦⎠"
      ]
     },
     "execution_count": 28,
     "metadata": {},
     "output_type": "execute_result"
    }
   ],
   "source": [
    "E21, E21.inv() # To take the inverse of an elementary matrix, simply change the sign of the off-diagonal elements and\n",
    "# multiply each element by 1 over the determinant\n",
    "# The determinant is easy to do for these *n* = 3 square matrices, since the top row is (1,0,0)"
   ]
  },
  {
   "cell_type": "code",
   "execution_count": 29,
   "metadata": {},
   "outputs": [
    {
     "data": {
      "text/latex": [
       "$$\\left ( \\left[\\begin{matrix}1 & 0 & 0\\\\0 & 1 & 0\\\\-6 & 0 & 1\\end{matrix}\\right], \\quad \\left[\\begin{matrix}1 & 0 & 0\\\\0 & 1 & 0\\\\6 & 0 & 1\\end{matrix}\\right]\\right )$$"
      ],
      "text/plain": [
       "⎛⎡1   0  0⎤  ⎡1  0  0⎤⎞\n",
       "⎜⎢        ⎥  ⎢       ⎥⎟\n",
       "⎜⎢0   1  0⎥, ⎢0  1  0⎥⎟\n",
       "⎜⎢        ⎥  ⎢       ⎥⎟\n",
       "⎝⎣-6  0  1⎦  ⎣6  0  1⎦⎠"
      ]
     },
     "execution_count": 29,
     "metadata": {},
     "output_type": "execute_result"
    }
   ],
   "source": [
    "E31, E31.inv()"
   ]
  },
  {
   "cell_type": "code",
   "execution_count": 30,
   "metadata": {},
   "outputs": [
    {
     "data": {
      "text/latex": [
       "$$\\left ( \\left[\\begin{matrix}1 & 0 & 0\\\\0 & 1 & 0\\\\0 & -11 & 8\\end{matrix}\\right], \\quad \\left[\\begin{matrix}1 & 0 & 0\\\\0 & 1 & 0\\\\0 & \\frac{11}{8} & \\frac{1}{8}\\end{matrix}\\right]\\right )$$"
      ],
      "text/plain": [
       "⎛⎡1   0   0⎤  ⎡1   0     0 ⎤⎞\n",
       "⎜⎢         ⎥  ⎢            ⎥⎟\n",
       "⎜⎢0   1   0⎥, ⎢0   1     0 ⎥⎟\n",
       "⎜⎢         ⎥  ⎢            ⎥⎟\n",
       "⎝⎣0  -11  8⎦  ⎣0  11/8  1/8⎦⎠"
      ]
     },
     "execution_count": 30,
     "metadata": {},
     "output_type": "execute_result"
    }
   ],
   "source": [
    "E32, E32.inv()"
   ]
  },
  {
   "cell_type": "markdown",
   "metadata": {},
   "source": [
    "* By keeping track of the elementary matrices it is easy to get L and U\n",
    "* It's easy to get the inverses of L and U\n",
    "* This means it is easy to calculate **x**"
   ]
  },
  {
   "cell_type": "markdown",
   "metadata": {},
   "source": [
    "$$ Ax=LUx=b\\\\ Ux={ L }^{ -1 }b\\\\ x={ U }^{ -1 }{ L }^{ -1 }b $$"
   ]
  },
  {
   "cell_type": "code",
   "execution_count": null,
   "metadata": {},
   "outputs": [],
   "source": []
  }
 ],
 "metadata": {
  "kernelspec": {
   "display_name": "Python 3",
   "language": "python",
   "name": "python3"
  },
  "language_info": {
   "codemirror_mode": {
    "name": "ipython",
    "version": 3
   },
   "file_extension": ".py",
   "mimetype": "text/x-python",
   "name": "python",
   "nbconvert_exporter": "python",
   "pygments_lexer": "ipython3",
   "version": "3.6.4"
  }
 },
 "nbformat": 4,
 "nbformat_minor": 1
}
