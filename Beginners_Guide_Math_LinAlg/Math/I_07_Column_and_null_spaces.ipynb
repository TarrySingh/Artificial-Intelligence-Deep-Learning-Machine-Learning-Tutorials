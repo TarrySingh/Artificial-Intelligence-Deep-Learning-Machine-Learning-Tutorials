{
 "cells": [
  {
   "cell_type": "markdown",
   "metadata": {},
   "source": [
    "# Columns and nullspaces in a matrix\n",
    "\n",
    "+ This notebook is part of lecture 6 *Columnspace and nullspace* in the OCW MIT course 18.06 by Prof Gilbert Strang [1]\n",
    "+ Created by me, Dr Juan H Klopper\n",
    "    + Head of Acute Care Surgery\n",
    "    + Groote Schuur Hospital\n",
    "    + University Cape Town\n",
    "    + <a href=\"mailto:juan.klopper@uct.ac.za\">Email me with your thoughts, comments, suggestions and corrections</a> \n",
    "<a rel=\"license\" href=\"http://creativecommons.org/licenses/by-nc/4.0/\"><img alt=\"Creative Commons Licence\" style=\"border-width:0\" src=\"https://i.creativecommons.org/l/by-nc/4.0/88x31.png\" /></a><br /><span xmlns:dct=\"http://purl.org/dc/terms/\" href=\"http://purl.org/dc/dcmitype/InteractiveResource\" property=\"dct:title\" rel=\"dct:type\">Linear Algebra OCW MIT18.06</span> <span xmlns:cc=\"http://creativecommons.org/ns#\" property=\"cc:attributionName\">IPython notebook [2] study notes by Dr Juan H Klopper</span> is licensed under a <a rel=\"license\" href=\"http://creativecommons.org/licenses/by-nc/4.0/\">Creative Commons Attribution-NonCommercial 4.0 International License</a>.\n",
    "\n",
    "+ [1] <a href=\"http://ocw.mit.edu/courses/mathematics/18-06sc-linear-algebra-fall-2011/index.htm\">OCW MIT 18.06</a>\n",
    "+ [2] Fernando Pérez, Brian E. Granger, IPython: A System for Interactive Scientific Computing, Computing in Science and Engineering, vol. 9, no. 3, pp. 21-29, May/June 2007, doi:10.1109/MCSE.2007.53. URL: http://ipython.org"
   ]
  },
  {
   "cell_type": "code",
   "execution_count": 9,
   "metadata": {},
   "outputs": [
    {
     "data": {
      "text/html": [
       "<link href='http://fonts.googleapis.com/css?family=Alegreya+Sans:100,300,400,500,700,800,900,100italic,300italic,400italic,500italic,700italic,800italic,900italic' rel='stylesheet' type='text/css'>\n",
       "<link href='http://fonts.googleapis.com/css?family=Arvo:400,700,400italic' rel='stylesheet' type='text/css'>\n",
       "<link href='http://fonts.googleapis.com/css?family=PT+Mono' rel='stylesheet' type='text/css'>\n",
       "<link href='http://fonts.googleapis.com/css?family=Shadows+Into+Light' rel='stylesheet' type='text/css'>\n",
       "<link href='http://fonts.googleapis.com/css?family=Philosopher:400,700,400italic,700italic' rel='stylesheet' type='text/css'>\n",
       "\n",
       "<style>\n",
       "\n",
       "@font-face {\n",
       "    font-family: \"Computer Modern\";\n",
       "    src: url('http://mirrors.ctan.org/fonts/cm-unicode/fonts/otf/cmunss.otf');\n",
       "}\n",
       "\n",
       "#notebook_panel { /* main background */\n",
       "    background: #ddd;\n",
       "    color: #000000;\n",
       "}\n",
       "\n",
       "\n",
       "\n",
       "/* Formatting for header cells */\n",
       ".text_cell_render h1 {\n",
       "    font-family: 'Philosopher', sans-serif;\n",
       "    font-weight: 400;\n",
       "    font-size: 2.2em;\n",
       "    line-height: 100%;\n",
       "    color: rgb(0, 80, 120);\n",
       "    margin-bottom: 0.1em;\n",
       "    margin-top: 0.1em;\n",
       "    display: block;\n",
       "}\t\n",
       ".text_cell_render h2 {\n",
       "    font-family: 'Philosopher', serif;\n",
       "    font-weight: 400;\n",
       "    font-size: 1.9em;\n",
       "    line-height: 100%;\n",
       "    color: rgb(200,100,0);\n",
       "    margin-bottom: 0.1em;\n",
       "    margin-top: 0.1em;\n",
       "    display: block;\n",
       "}\t\n",
       "\n",
       ".text_cell_render h3 {\n",
       "    font-family: 'Philosopher', serif;\n",
       "    margin-top:12px;\n",
       "    margin-bottom: 3px;\n",
       "    font-style: italic;\n",
       "    color: rgb(94,127,192);\n",
       "}\n",
       "\n",
       ".text_cell_render h4 {\n",
       "    font-family: 'Philosopher', serif;\n",
       "}\n",
       "\n",
       ".text_cell_render h5 {\n",
       "    font-family: 'Alegreya Sans', sans-serif;\n",
       "    font-weight: 300;\n",
       "    font-size: 16pt;\n",
       "    color: grey;\n",
       "    font-style: italic;\n",
       "    margin-bottom: .1em;\n",
       "    margin-top: 0.1em;\n",
       "    display: block;\n",
       "}\n",
       "\n",
       ".text_cell_render h6 {\n",
       "    font-family: 'PT Mono', sans-serif;\n",
       "    font-weight: 300;\n",
       "    font-size: 10pt;\n",
       "    color: grey;\n",
       "    margin-bottom: 1px;\n",
       "    margin-top: 1px;\n",
       "}\n",
       "\n",
       ".CodeMirror{\n",
       "        font-family: \"PT Mono\";\n",
       "        font-size: 100%;\n",
       "}\n",
       "\n",
       "</style>\n",
       "\n"
      ],
      "text/plain": [
       "<IPython.core.display.HTML object>"
      ]
     },
     "execution_count": 9,
     "metadata": {},
     "output_type": "execute_result"
    }
   ],
   "source": [
    "from IPython.core.display import HTML, Image\n",
    "css_file = 'style.css'\n",
    "HTML(open(css_file, 'r').read())"
   ]
  },
  {
   "cell_type": "code",
   "execution_count": 3,
   "metadata": {},
   "outputs": [],
   "source": [
    "#import numpy as np\n",
    "from sympy import init_printing, Matrix, symbols\n",
    "#import matplotlib.pyplot as plt\n",
    "#import seaborn as sns\n",
    "#from IPython.display import Image\n",
    "from warnings import filterwarnings\n",
    "\n",
    "init_printing(use_latex = 'mathjax')\n",
    "%matplotlib inline\n",
    "filterwarnings('ignore')"
   ]
  },
  {
   "cell_type": "markdown",
   "metadata": {},
   "source": [
    "# Columnspace and nullspace of a matrix"
   ]
  },
  {
   "cell_type": "markdown",
   "metadata": {},
   "source": [
    "## Columnspaces of matrices"
   ]
  },
  {
   "cell_type": "markdown",
   "metadata": {},
   "source": [
    "* We saw in the previous lecture that columns of a matrix can form vectors\n",
    "* Consider now the LU-decomposition of *A*\n",
    "$$  PA = PLU $$"
   ]
  },
  {
   "cell_type": "markdown",
   "metadata": {},
   "source": [
    "* The union P&#8746;L (all vectors in P or L or both) is NOT a subspace\n",
    "* The intersection P&#8745;L (or vectors in P and L) is a subspace (because their intersection is only the zero vector)"
   ]
  },
  {
   "cell_type": "markdown",
   "metadata": {},
   "source": [
    "* The intersection of any two subspaces is a subspace"
   ]
  },
  {
   "cell_type": "markdown",
   "metadata": {},
   "source": [
    "* Consider the following example matrix"
   ]
  },
  {
   "cell_type": "code",
   "execution_count": 4,
   "metadata": {},
   "outputs": [
    {
     "data": {
      "text/latex": [
       "$$\\left[\\begin{matrix}1 & 1 & 2\\\\2 & 1 & 3\\\\3 & 1 & 4\\\\4 & 1 & 5\\end{matrix}\\right]$$"
      ],
      "text/plain": [
       "⎡1  1  2⎤\n",
       "⎢       ⎥\n",
       "⎢2  1  3⎥\n",
       "⎢       ⎥\n",
       "⎢3  1  4⎥\n",
       "⎢       ⎥\n",
       "⎣4  1  5⎦"
      ]
     },
     "execution_count": 4,
     "metadata": {},
     "output_type": "execute_result"
    }
   ],
   "source": [
    "A = Matrix([[1, 1, 2], [2, 1, 3], [3, 1, 4], [4, 1, 5]])\n",
    "A"
   ]
  },
  {
   "cell_type": "markdown",
   "metadata": {},
   "source": [
    "* Each of the column spaces are vectors (column space) in &#8477;<sup>4</sup>"
   ]
  },
  {
   "cell_type": "markdown",
   "metadata": {},
   "source": [
    "* The linear combinations of all the column vectors form a subspace\n",
    "* Is it the whole *V* = &#8477;<sup>4</sup>, though?"
   ]
  },
  {
   "cell_type": "markdown",
   "metadata": {},
   "source": [
    "* The reason why we ask is because we want to bring it back to a system of linear equations and ask the question: Is there (always) a solution to the following:\n",
    "$$ {A} \\overline {x}= \\overline {b} $$\n"
   ]
  },
  {
   "cell_type": "markdown",
   "metadata": {},
   "source": [
    "* Thus, which right-hand sides *b* are allowed?\n",
    "* In our example above we are in &#8477;<sup>4</sup> and we ask if linear combination of all of them fill &#8477;<sup>4</sup>"
   ]
  },
  {
   "cell_type": "markdown",
   "metadata": {},
   "source": [
    "* From our example above some right-hand sides will be allowed (they form a subspace)\n",
    "* Let's look at an example for **b**"
   ]
  },
  {
   "cell_type": "code",
   "execution_count": 5,
   "metadata": {},
   "outputs": [
    {
     "data": {
      "text/latex": [
       "$$\\left ( \\left[\\begin{matrix}1 & 1 & 2\\\\2 & 1 & 3\\\\3 & 1 & 4\\\\4 & 1 & 5\\end{matrix}\\right], \\quad \\left[\\begin{matrix}x_{1}\\\\x_{2}\\\\x_{3}\\end{matrix}\\right], \\quad \\left[\\begin{matrix}1\\\\2\\\\3\\\\4\\end{matrix}\\right]\\right )$$"
      ],
      "text/plain": [
       "⎛⎡1  1  2⎤        ⎡1⎤⎞\n",
       "⎜⎢       ⎥  ⎡x₁⎤  ⎢ ⎥⎟\n",
       "⎜⎢2  1  3⎥  ⎢  ⎥  ⎢2⎥⎟\n",
       "⎜⎢       ⎥, ⎢x₂⎥, ⎢ ⎥⎟\n",
       "⎜⎢3  1  4⎥  ⎢  ⎥  ⎢3⎥⎟\n",
       "⎜⎢       ⎥  ⎣x₃⎦  ⎢ ⎥⎟\n",
       "⎝⎣4  1  5⎦        ⎣4⎦⎠"
      ]
     },
     "execution_count": 5,
     "metadata": {},
     "output_type": "execute_result"
    }
   ],
   "source": [
    "x1, x2, x3 = symbols('x1, x2, x3')\n",
    "vec_x = Matrix([x1, x2, x3])\n",
    "b = Matrix([1, 2, 3, 4])\n",
    "A, vec_x, b"
   ]
  },
  {
   "cell_type": "code",
   "execution_count": 6,
   "metadata": {},
   "outputs": [
    {
     "data": {
      "text/latex": [
       "$$\\left[\\begin{matrix}x_{1} + x_{2} + 2 x_{3}\\\\2 x_{1} + x_{2} + 3 x_{3}\\\\3 x_{1} + x_{2} + 4 x_{3}\\\\4 x_{1} + x_{2} + 5 x_{3}\\end{matrix}\\right]$$"
      ],
      "text/plain": [
       "⎡ x₁ + x₂ + 2⋅x₃ ⎤\n",
       "⎢                ⎥\n",
       "⎢2⋅x₁ + x₂ + 3⋅x₃⎥\n",
       "⎢                ⎥\n",
       "⎢3⋅x₁ + x₂ + 4⋅x₃⎥\n",
       "⎢                ⎥\n",
       "⎣4⋅x₁ + x₂ + 5⋅x₃⎦"
      ]
     },
     "execution_count": 6,
     "metadata": {},
     "output_type": "execute_result"
    }
   ],
   "source": [
    "A * vec_x"
   ]
  },
  {
   "cell_type": "markdown",
   "metadata": {},
   "source": [
    "* You can do the row multiplication, but it's easy to see from above we are asking about linear combinations of the columns, i.e. how many (*x*<sub>1</sub>) of column 1 plus how many (*x*<sub>2</sub>) of column 2 plus how many (*x*<sub>3</sub>) of column 3 equals **b**?\n",
    "* Well, since **b** is the same as the first column, **x** would be\n",
    "$$ \\begin{bmatrix} 1 \\\\ 0 \\\\ 0 \\end{bmatrix} $$"
   ]
  },
  {
   "cell_type": "markdown",
   "metadata": {},
   "source": [
    "* So we can solve for all values of **b** if **b** is in the column space"
   ]
  },
  {
   "cell_type": "markdown",
   "metadata": {},
   "source": [
    "### Linear independence"
   ]
  },
  {
   "cell_type": "markdown",
   "metadata": {},
   "source": [
    "* We really need to know if the columns above are linearly independent\n",
    "* We note that column three above is a linear combination of the first two, so adds nothing new\n",
    "* Actually, we could also throw away the first one because it is column 3 plus -1 times column 2\n",
    "* Same for column 2\n",
    "* We thus have two columns left and we say that the column space is of dimension 2 (a 2-dimensional subspace of &#8477;<sup>4</sup>)"
   ]
  },
  {
   "cell_type": "markdown",
   "metadata": {},
   "source": [
    "## The nullspace"
   ]
  },
  {
   "cell_type": "markdown",
   "metadata": {},
   "source": [
    "* It contains all solutions **x** for A**x**=0\n",
    "* This solution(s) is in &#8477;<sup>3</sup>"
   ]
  },
  {
   "cell_type": "code",
   "execution_count": 7,
   "metadata": {},
   "outputs": [
    {
     "data": {
      "text/latex": [
       "$$\\left ( \\left[\\begin{matrix}1 & 1 & 2\\\\2 & 1 & 3\\\\3 & 1 & 4\\\\4 & 1 & 5\\end{matrix}\\right], \\quad \\left[\\begin{matrix}x_{1}\\\\x_{2}\\\\x_{3}\\end{matrix}\\right], \\quad \\left[\\begin{matrix}0\\\\0\\\\0\\\\0\\end{matrix}\\right]\\right )$$"
      ],
      "text/plain": [
       "⎛⎡1  1  2⎤        ⎡0⎤⎞\n",
       "⎜⎢       ⎥  ⎡x₁⎤  ⎢ ⎥⎟\n",
       "⎜⎢2  1  3⎥  ⎢  ⎥  ⎢0⎥⎟\n",
       "⎜⎢       ⎥, ⎢x₂⎥, ⎢ ⎥⎟\n",
       "⎜⎢3  1  4⎥  ⎢  ⎥  ⎢0⎥⎟\n",
       "⎜⎢       ⎥  ⎣x₃⎦  ⎢ ⎥⎟\n",
       "⎝⎣4  1  5⎦        ⎣0⎦⎠"
      ]
     },
     "execution_count": 7,
     "metadata": {},
     "output_type": "execute_result"
    }
   ],
   "source": [
    "zero_b = Matrix([0, 0, 0, 0])\n",
    "A, vec_x, zero_b"
   ]
  },
  {
   "cell_type": "markdown",
   "metadata": {},
   "source": [
    "* Some solutions would be\n",
    "$$ \\begin{bmatrix} 0 \\\\ 0 \\\\ 0 \\end{bmatrix} $$\n",
    "$$ \\begin{bmatrix} 1 \\\\ 1 \\\\ -1 \\end{bmatrix} $$\n",
    "$$ \\begin{bmatrix} 2 \\\\ 2 \\\\ -2 \\end{bmatrix} $$\n",
    "* In fact, we have:\n",
    "$$ {c} \\begin{bmatrix} 1 \\\\ 1 \\\\ -1 \\end{bmatrix} $$\n",
    "* It is thus a line\n",
    "* The nullspace is a line in &#8477;<sup>3</sup>"
   ]
  },
  {
   "cell_type": "markdown",
   "metadata": {},
   "source": [
    "* **PLEASE** remember, for any space the rules of addition and scalar multiplication must hold for vectors to remain in that space"
   ]
  },
  {
   "cell_type": "code",
   "execution_count": null,
   "metadata": {},
   "outputs": [],
   "source": []
  }
 ],
 "metadata": {
  "kernelspec": {
   "display_name": "Python 3",
   "language": "python",
   "name": "python3"
  },
  "language_info": {
   "codemirror_mode": {
    "name": "ipython",
    "version": 3
   },
   "file_extension": ".py",
   "mimetype": "text/x-python",
   "name": "python",
   "nbconvert_exporter": "python",
   "pygments_lexer": "ipython3",
   "version": "3.6.4"
  }
 },
 "nbformat": 4,
 "nbformat_minor": 1
}
