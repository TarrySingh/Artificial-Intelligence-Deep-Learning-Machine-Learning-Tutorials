{
 "cells": [
  {
   "cell_type": "code",
   "execution_count": 1,
   "metadata": {},
   "outputs": [],
   "source": [
    "import numpy as np"
   ]
  },
  {
   "cell_type": "code",
   "execution_count": 2,
   "metadata": {},
   "outputs": [],
   "source": [
    "def get_hessenberg_form(A):\n",
    "    \"\"\"Get Upper Hessenberg Form by using Householder Reflector\n",
    "    \n",
    "    This function assume input matrix A as square matrix because we want to compute eigen value\n",
    "    \n",
    "    Args:\n",
    "        A: input matrix of shape (m, m)\n",
    "        \n",
    "    Returns:\n",
    "        H: upper hessenberg matrix of shape (m, m)\n",
    "    \"\"\"\n",
    "    \n",
    "    m = A.shape[0]\n",
    "    H = np.copy(A)\n",
    "    \n",
    "    for k in range(m-2):\n",
    "        # select column for reflection \n",
    "        x = H[k+1:m,k]  \n",
    "        \n",
    "        # compute normal vector\n",
    "        v = np.sign(x[0]) * np.linalg.norm(x, ord=2) * np.eye(1, x.shape[0], 0) + x\n",
    "        v /= np.linalg.norm(v, ord=2)\n",
    "        \n",
    "        # compute reflector matrix\n",
    "        Q = np.eye(m)\n",
    "        Q[k+1:m,k+1:m] = np.eye(m-k-1) - 2*v*v.T\n",
    "        \n",
    "        # similarity transform\n",
    "        H = np.dot(np.dot(Q, H), Q.T) \n",
    "    \n",
    "    return H"
   ]
  },
  {
   "cell_type": "code",
   "execution_count": 4,
   "metadata": {},
   "outputs": [
    {
     "name": "stdout",
     "output_type": "stream",
     "text": [
      "[[ 1.  2.  3.  4.]\n",
      " [ 4.  5.  6.  7.]\n",
      " [ 7. 10.  9. 11.]\n",
      " [ 1.  4. 12. -8.]]\n"
     ]
    }
   ],
   "source": [
    "A = np.array([[1.,2,3,4],\n",
    "             [4,5,6,7],\n",
    "             [7,10,9,11],\n",
    "             [1,4,12,-8]])\n",
    "\n",
    "print (A)"
   ]
  },
  {
   "cell_type": "code",
   "execution_count": 5,
   "metadata": {},
   "outputs": [
    {
     "name": "stdout",
     "output_type": "stream",
     "text": [
      "[[  1  -4   3   0]\n",
      " [ -8  17 -10   3]\n",
      " [  0  -9 -10   2]\n",
      " [  0   0  -1   0]]\n"
     ]
    }
   ],
   "source": [
    "H = get_hessenberg_form(A)\n",
    "print (H.astype(np.int32))"
   ]
  },
  {
   "cell_type": "code",
   "execution_count": 6,
   "metadata": {},
   "outputs": [
    {
     "name": "stdout",
     "output_type": "stream",
     "text": [
      "[ 22.39372019 -13.12905672  -1.673079    -0.59158448]\n",
      "[ 22.39372019 -13.12905672  -1.673079    -0.59158448]\n"
     ]
    }
   ],
   "source": [
    "print (np.linalg.eigvals(A))\n",
    "print (np.linalg.eigvals(H)) # same eigen value with A"
   ]
  },
  {
   "cell_type": "code",
   "execution_count": 7,
   "metadata": {},
   "outputs": [],
   "source": [
    "def hessenberg_qr(H):\n",
    "    \"\"\"QR iteration using givens rotation\n",
    "    \n",
    "    Args:\n",
    "        H: upper hessenberg matrix of shape (m, m)\n",
    "        \n",
    "    Returns:\n",
    "        H_new: new upper hessenberg matrix of shape (m, m)\n",
    "    \"\"\"\n",
    "    \n",
    "    m = H.shape[0]\n",
    "    R = np.copy(H)\n",
    "    \n",
    "    Qs = []\n",
    "    # Q3*Q2*Q1*H = R\n",
    "    for k in range(m-1):\n",
    "        # select two indices for rotation\n",
    "        xi = R[k,k]\n",
    "        xj = R[k+1,k]\n",
    "        \n",
    "        # compute rotation matrix\n",
    "        norm = np.sqrt(xi**2 + xj**2)\n",
    "        cos = xi / norm\n",
    "        sin = - xj / norm\n",
    "        rot = np.array([[cos, -sin],\n",
    "                        [sin, cos]])\n",
    "        \n",
    "        Q = np.eye(m)\n",
    "        Q[k:k+2, k:k+2] = rot\n",
    "        Qs.append(Q)\n",
    "        \n",
    "        R = np.dot(Q, R)\n",
    "    \n",
    "    # similarity transform with R * Q1^T * Q2^T * Q3^T = H_new\n",
    "    for k in range(m-1):\n",
    "        if k==0:\n",
    "            H_new = np.dot(R, Qs[k].T)\n",
    "        else:\n",
    "            H_new = np.dot(H_new, Qs[k].T)\n",
    "\n",
    "    return H_new"
   ]
  },
  {
   "cell_type": "code",
   "execution_count": 8,
   "metadata": {},
   "outputs": [
    {
     "name": "stdout",
     "output_type": "stream",
     "text": [
      "\n",
      "1 번째 qr iteration 결과\n",
      "[[ 18 -11   4  -2]\n",
      " [ -9 -10   0  -2]\n",
      " [  0  -4   0   0]\n",
      " [  0   0   0   0]]\n",
      "\n",
      "2 번째 qr iteration 결과\n",
      "[[ 21  -5  -2   0]\n",
      " [ -6 -12   5   2]\n",
      " [  0   0  -1   0]\n",
      " [  0   0   0   0]]\n",
      "\n",
      "3 번째 qr iteration 결과\n",
      "[[ 21  -5   4  -1]\n",
      " [ -3 -12   5  -2]\n",
      " [  0   0  -1   0]\n",
      " [  0   0   0   0]]\n",
      "\n",
      "4 번째 qr iteration 결과\n",
      "[[ 22  -1  -3   0]\n",
      " [ -2 -13   5   2]\n",
      " [  0   0  -1   0]\n",
      " [  0   0   0   0]]\n",
      "\n",
      "5 번째 qr iteration 결과\n",
      "[[ 22  -2   4   0]\n",
      " [ -1 -13   5  -1]\n",
      " [  0   0  -1   0]\n",
      " [  0   0   0   0]]\n",
      "\n",
      "6 번째 qr iteration 결과\n",
      "[[ 22   0  -3   0]\n",
      " [  0 -13   5   1]\n",
      " [  0   0  -1   0]\n",
      " [  0   0   0   0]]\n",
      "\n",
      "7 번째 qr iteration 결과\n",
      "[[ 22  -1   4   0]\n",
      " [  0 -13   5  -1]\n",
      " [  0   0  -1   0]\n",
      " [  0   0   0   0]]\n",
      "\n",
      "8 번째 qr iteration 결과\n",
      "[[ 22   0  -3   0]\n",
      " [  0 -13   5   1]\n",
      " [  0   0  -1   0]\n",
      " [  0   0   0   0]]\n",
      "\n",
      "9 번째 qr iteration 결과\n",
      "[[ 22  -1   4   0]\n",
      " [  0 -13   5  -1]\n",
      " [  0   0  -1   0]\n",
      " [  0   0   0   0]]\n",
      "\n",
      "10 번째 qr iteration 결과\n",
      "[[ 22   1  -3   0]\n",
      " [  0 -13   5   1]\n",
      " [  0   0  -1   0]\n",
      " [  0   0   0   0]]\n"
     ]
    }
   ],
   "source": [
    "for i in range(10):\n",
    "    H_new = hessenberg_qr(H)\n",
    "    print ('\\n%d 번째 qr iteration 결과' %(i+1))\n",
    "    print (H_new.astype(np.int32))\n",
    "    \n",
    "    H = H_new"
   ]
  },
  {
   "cell_type": "code",
   "execution_count": 9,
   "metadata": {},
   "outputs": [
    {
     "name": "stdout",
     "output_type": "stream",
     "text": [
      "[[ 2.23964345e+01  1.01162895e+00 -3.99289689e+00 -8.64584027e-01]\n",
      " [-9.53185822e-02 -1.31317710e+01  5.71184329e+00  1.95731776e+00]\n",
      " [ 4.56904318e-16 -2.49934586e-08 -1.67305884e+00 -7.92295866e-01]\n",
      " [ 1.34398419e-15 -5.60119902e-16 -2.75027919e-05 -5.91604624e-01]]\n"
     ]
    }
   ],
   "source": [
    "print(H)"
   ]
  },
  {
   "cell_type": "code",
   "execution_count": 10,
   "metadata": {},
   "outputs": [
    {
     "name": "stdout",
     "output_type": "stream",
     "text": [
      "[ 22.39372019 -13.12905672  -1.673079    -0.59158448]\n",
      "[ 22.39372019 -13.12905672  -1.673079    -0.59158448]\n"
     ]
    }
   ],
   "source": [
    "print (np.linalg.eigvals(A))\n",
    "print (np.linalg.eigvals(H)) # same eigen value with A"
   ]
  },
  {
   "cell_type": "code",
   "execution_count": null,
   "metadata": {},
   "outputs": [],
   "source": []
  }
 ],
 "metadata": {
  "kernelspec": {
   "display_name": "Python 3",
   "language": "python",
   "name": "python3"
  },
  "language_info": {
   "codemirror_mode": {
    "name": "ipython",
    "version": 3
   },
   "file_extension": ".py",
   "mimetype": "text/x-python",
   "name": "python",
   "nbconvert_exporter": "python",
   "pygments_lexer": "ipython3",
   "version": "3.6.4"
  }
 },
 "nbformat": 4,
 "nbformat_minor": 2
}
