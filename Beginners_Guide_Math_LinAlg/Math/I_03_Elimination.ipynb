{
 "cells": [
  {
   "cell_type": "markdown",
   "metadata": {},
   "source": [
    "# Elimination\n",
    "\n",
    "+ This notebook is part of lecture 2 *Elimination with matrices* in the OCW MIT course 18.06 [1]\n",
    "+ Created by me, Dr Juan H Klopper\n",
    "    + Head of Acute Care Surgery\n",
    "    + Groote Schuur Hospital\n",
    "    + University Cape Town\n",
    "    + <a href=\"mailto:juan.klopper@uct.ac.za\">Email me with your thoughts, comments, suggestions and corrections</a> \n",
    "<a rel=\"license\" href=\"http://creativecommons.org/licenses/by-nc/4.0/\"><img alt=\"Creative Commons Licence\" style=\"border-width:0\" src=\"https://i.creativecommons.org/l/by-nc/4.0/88x31.png\" /></a><br /><span xmlns:dct=\"http://purl.org/dc/terms/\" href=\"http://purl.org/dc/dcmitype/InteractiveResource\" property=\"dct:title\" rel=\"dct:type\">Linear Algebra OCW MIT18.06</span> <span xmlns:cc=\"http://creativecommons.org/ns#\" property=\"cc:attributionName\">IPython notebook [2] study notes by Dr Juan H Klopper</span> is licensed under a <a rel=\"license\" href=\"http://creativecommons.org/licenses/by-nc/4.0/\">Creative Commons Attribution-NonCommercial 4.0 International License</a>.\n",
    "\n",
    "+ [1] <a href=\"http://ocw.mit.edu/courses/mathematics/18-06sc-linear-algebra-fall-2011/index.htm\">OCW MIT 18.06</a>\n",
    "+ [2] Fernando Pérez, Brian E. Granger, IPython: A System for Interactive Scientific Computing, Computing in Science and Engineering, vol. 9, no. 3, pp. 21-29, May/June 2007, doi:10.1109/MCSE.2007.53. URL: http://ipython.org"
   ]
  },
  {
   "cell_type": "code",
   "execution_count": 1,
   "metadata": {},
   "outputs": [
    {
     "data": {
      "text/html": [
       "<link href='http://fonts.googleapis.com/css?family=Alegreya+Sans:100,300,400,500,700,800,900,100italic,300italic,400italic,500italic,700italic,800italic,900italic' rel='stylesheet' type='text/css'>\n",
       "<link href='http://fonts.googleapis.com/css?family=Arvo:400,700,400italic' rel='stylesheet' type='text/css'>\n",
       "<link href='http://fonts.googleapis.com/css?family=PT+Mono' rel='stylesheet' type='text/css'>\n",
       "<link href='http://fonts.googleapis.com/css?family=Shadows+Into+Light' rel='stylesheet' type='text/css'>\n",
       "<link href='http://fonts.googleapis.com/css?family=Philosopher:400,700,400italic,700italic' rel='stylesheet' type='text/css'>\n",
       "\n",
       "<style>\n",
       "\n",
       "@font-face {\n",
       "    font-family: \"Computer Modern\";\n",
       "    src: url('http://mirrors.ctan.org/fonts/cm-unicode/fonts/otf/cmunss.otf');\n",
       "}\n",
       "\n",
       "#notebook_panel { /* main background */\n",
       "    background: #ddd;\n",
       "    color: #000000;\n",
       "}\n",
       "\n",
       "\n",
       "\n",
       "/* Formatting for header cells */\n",
       ".text_cell_render h1 {\n",
       "    font-family: 'Philosopher', sans-serif;\n",
       "    font-weight: 400;\n",
       "    font-size: 2.2em;\n",
       "    line-height: 100%;\n",
       "    color: rgb(0, 80, 120);\n",
       "    margin-bottom: 0.1em;\n",
       "    margin-top: 0.1em;\n",
       "    display: block;\n",
       "}\t\n",
       ".text_cell_render h2 {\n",
       "    font-family: 'Philosopher', serif;\n",
       "    font-weight: 400;\n",
       "    font-size: 1.9em;\n",
       "    line-height: 100%;\n",
       "    color: rgb(200,100,0);\n",
       "    margin-bottom: 0.1em;\n",
       "    margin-top: 0.1em;\n",
       "    display: block;\n",
       "}\t\n",
       "\n",
       ".text_cell_render h3 {\n",
       "    font-family: 'Philosopher', serif;\n",
       "    margin-top:12px;\n",
       "    margin-bottom: 3px;\n",
       "    font-style: italic;\n",
       "    color: rgb(94,127,192);\n",
       "}\n",
       "\n",
       ".text_cell_render h4 {\n",
       "    font-family: 'Philosopher', serif;\n",
       "}\n",
       "\n",
       ".text_cell_render h5 {\n",
       "    font-family: 'Alegreya Sans', sans-serif;\n",
       "    font-weight: 300;\n",
       "    font-size: 16pt;\n",
       "    color: grey;\n",
       "    font-style: italic;\n",
       "    margin-bottom: .1em;\n",
       "    margin-top: 0.1em;\n",
       "    display: block;\n",
       "}\n",
       "\n",
       ".text_cell_render h6 {\n",
       "    font-family: 'PT Mono', sans-serif;\n",
       "    font-weight: 300;\n",
       "    font-size: 10pt;\n",
       "    color: grey;\n",
       "    margin-bottom: 1px;\n",
       "    margin-top: 1px;\n",
       "}\n",
       "\n",
       ".CodeMirror{\n",
       "        font-family: \"PT Mono\";\n",
       "        font-size: 100%;\n",
       "}\n",
       "\n",
       "</style>\n",
       "\n"
      ],
      "text/plain": [
       "<IPython.core.display.HTML object>"
      ]
     },
     "execution_count": 1,
     "metadata": {},
     "output_type": "execute_result"
    }
   ],
   "source": [
    "from IPython.core.display import HTML, Image\n",
    "css_file = 'style.css'\n",
    "HTML(open(css_file, 'r').read())"
   ]
  },
  {
   "cell_type": "code",
   "execution_count": 2,
   "metadata": {},
   "outputs": [],
   "source": [
    "from sympy import init_printing, Matrix, symbols, eye, Rational\n",
    "from warnings import filterwarnings"
   ]
  },
  {
   "cell_type": "code",
   "execution_count": 3,
   "metadata": {},
   "outputs": [],
   "source": [
    "init_printing(use_latex = 'mathjax')\n",
    "filterwarnings('ignore')"
   ]
  },
  {
   "cell_type": "markdown",
   "metadata": {},
   "source": [
    "# Elimination"
   ]
  },
  {
   "cell_type": "markdown",
   "metadata": {},
   "source": [
    "## A system of linear equations"
   ]
  },
  {
   "cell_type": "markdown",
   "metadata": {},
   "source": [
    "+ Linear refers to the fact that each variable appears on its own (i.e. to the power 1) and is not transcendtal\n",
    "+ A solution satisfies all of the equations at once\n",
    "+ Consider the following linear set\n",
    "$$ 1x+2y+1z=2 \\\\ 3x + 8y + 1z = 12 \\\\ 0x + 4y + 1z = 2 $$\n",
    "+ A solution for *x*, *y*, and *z* could be as follows\n",
    "$$ 1\\left(2\\right)+2\\left(1\\right)+1\\left(-2\\right)=2 \\\\ 3\\left(2\\right)+8\\left(1\\right)+1\\left(-2\\right)=12 \\\\ 0\\left(2\\right)+4\\left(1\\right)+1\\left(-2\\right)=2 $$\n",
    "+ Since this is a set ( of three) equations that have a solution (solutions) for the variable in common, all left- and all right hand sides can be manipulated in certain ways\n",
    "    + We could simply exchange the order of the equations (here equations 2 and 3 have been exchanged; row exchange)\n",
    "    $$ 1x+2y+1z=2 \\\\ 0x + 4y + 1z = 2 \\\\ 3x + 8y + 1z = 12 $$\n",
    "    + We could multiply both the left- and right-hand side of one of the equations with a scalar (here I multiply the first equation by 2)\n",
    "    $$  2x+4y+2z=4 \\\\ 3x + 8y + 1z = 12 \\\\ 0x + 4y + 1z = 2 $$\n",
    "    + Lastly, we can subtract a constant multiple of one equation from another\n",
    "        + This serves an excellent purpose, as I can eliminate of one (or more) of the variables (give it a coefficient of 0)\n",
    "        + Remember that we are trying to solve for all three equations and have three unknowns\n",
    "        + We can most definitely struggle by doing this problem algebraically by substitution, but linear algebra makes it much easier\n",
    "        + Here I have multiplies the first equation by 3 (both sides, so that we maintain integrity of the equation) and subtracted the left hand side of this new equation from the left-hand side of equation two and the new right-hand side of equation 1 from the right-hand side of equation two\n",
    "        + This is quite legitimate, as the left- and right-hand sides are equal (it is an equation after all) and so, when subtracting from equation 2, we are still doing the same thing to the lfet-hand side as the right-hand side\n",
    "        $$ 1x+2y+1z=2 \\\\ 0x + 2y - 2z = 6 \\\\ 0x + 4y + 1z = 2 $$\n",
    "+ This has introduced a noice zero for me in the second equation\n",
    "+ Let's go further and multiply equation 2 by 2 and subtract that from equation 3\n",
    "$$ 1x+2y+1z=2 \\\\ 0x + 2y - 2z = 6 \\\\ 0x + 0y + 5z = -10 $$\n",
    "+ Now let last equation is easy to solve for *z*\n",
    "$$ z=-2 $$\n",
    "+ Knowing this I can go back up to equation 2 and solve for *y*\n",
    "$$ 2y+2(-2)=6 \\\\ y=1 $$\n",
    "+ Finally up to equation 1\n",
    "$$ x+2(1)+1(-2)=2 \\\\ x=2 $$"
   ]
  },
  {
   "cell_type": "markdown",
   "metadata": {},
   "source": [
    "+ We need to have gone straight for substitution, indeed, we could have tried to get zeros above all our leading (non-zero) coefficients\n",
    "+ Let's just clean up equation three by multiplying out by &frac15;\n",
    "$$ 1x+2y+1z=2 \\\\ 0x + 2y - 2z = 6 \\\\ 0x + 0y + 1z = -2 $$\n",
    "+ Now we have to get rid of the -2*z* in equation 2 which we can do by multiplying equation 3 by -2 and subtracting from equations 2\n",
    "$$ 1x+2y+1z=2 \\\\ 0x + 2y - 0z = 2 \\\\ 0x + 0y + 1z = -2 $$\n",
    "+ Multiplying equation 2 by &frac12; gives us the following\n",
    "$$ 1x+2y+1z=2 \\\\ 0x + 1y + 0z = 1 \\\\ 0x + 0y + 1z = -2 $$\n",
    "+ Now we can do the same to get rid of the 1*z* in equation 1 (multiply equation 3 by 1 and subtracting from equation 1)\n",
    "$$ 1x+2y+0z=4 \\\\ 0x + 1y + 0z = 1 \\\\ 0x + 0y + 1z = -2 $$\n",
    "+ Now tow get rid of the 2*y* in equation 1, which is above our leading 1*y* in equation 2\n",
    "+ Simple enough, we multiply equation 2 by 2 and subtract that from equation 1\n",
    "$$ 1x+0y+0z=2 \\\\ 0x + 1y + 0z = 1 \\\\ 0x + 0y + 1z = -2 $$\n",
    "+ The solution is now clear for *x*, *y*, and *z*"
   ]
  },
  {
   "cell_type": "markdown",
   "metadata": {},
   "source": [
    "+ We need not rewrite all of the variables all the time\n",
    "+ We can simply write the coefficients\n",
    "$$ \\begin{bmatrix} 1&2&1&2\\\\3&8&1&12\\\\0&4&1&2 \\end{bmatrix} $$\n",
    "+ This is called the augmented matrix (right-hand side is added)\n",
    "    + A matrix has rows and columns (attcahed in position to our algebraic equation above; we simply omit the variables)\n",
    "+ The left-upper entry is called the pivot\n",
    "+ Our aim is to get everything below it to be a zero (as we did with the algebra)\n",
    "+ We do exactely the same as we did above, which is multiply row 1 by 3 and subtract these new values from row 2\n",
    "$$ \\begin{bmatrix} 1&2&1&2\\\\0&2&-2&6\\\\0&4&1&2 \\end{bmatrix} $$\n",
    "+ Now 2 times row 2 subtracted from row 3\n",
    "$$ \\begin{bmatrix} 1&2&1&2\\\\0&2&-2&6\\\\0&0&5&-10 \\end{bmatrix} $$\n",
    "+ Multiply the last row with &frac15;\n",
    "$$ \\begin{bmatrix} 1&2&1&2\\\\0&2&-2&6\\\\0&0&1&-2 \\end{bmatrix} $$\n",
    "+ This show 1*z* to equal -2\n",
    "+ With this small matrix, it's easy to do back substitution as we did algebraically above\n",
    "+ The first non-zero number in each row is the pivot (just like the upper-left entry)\n",
    "+ The steps we have taken up to this point is called Gauss elimination and the form we end up with is row-echelon form\n",
    "+ We could carry on and do the same sort of thing to get rid of all the non-zero entries above each pivot\n",
    "+ This is called Gauss-Jordan elimination and the result is reduced row-echelon form (see the computer code below)\n",
    "+ All of these steps are called elementary row operations\n",
    "+ The only one we didn't do is row exchange\n",
    "    + We reserve this so as not to have leading (in the pivot position) zeros"
   ]
  },
  {
   "cell_type": "code",
   "execution_count": 4,
   "metadata": {},
   "outputs": [
    {
     "data": {
      "text/latex": [
       "$$\\left[\\begin{matrix}1 & 2 & 1 & 2\\\\3 & 8 & 1 & 12\\\\0 & 4 & 1 & 2\\end{matrix}\\right]$$"
      ],
      "text/plain": [
       "⎡1  2  1  2 ⎤\n",
       "⎢           ⎥\n",
       "⎢3  8  1  12⎥\n",
       "⎢           ⎥\n",
       "⎣0  4  1  2 ⎦"
      ]
     },
     "execution_count": 4,
     "metadata": {},
     "output_type": "execute_result"
    }
   ],
   "source": [
    "A_augmented = Matrix([[1, 2, 1, 2], [3, 8, 1, 12], [0, 4, 1, 2]])\n",
    "A_augmented"
   ]
  },
  {
   "cell_type": "markdown",
   "metadata": {},
   "source": [
    "+ We can ask python™ to simply get the augmented matrix in reduced row-echelon form and read off the solutions"
   ]
  },
  {
   "cell_type": "code",
   "execution_count": 5,
   "metadata": {},
   "outputs": [
    {
     "data": {
      "text/latex": [
       "$$\\left ( \\left[\\begin{matrix}1 & 0 & 0 & 2\\\\0 & 1 & 0 & 1\\\\0 & 0 & 1 & -2\\end{matrix}\\right], \\quad \\left ( 0, \\quad 1, \\quad 2\\right )\\right )$$"
      ],
      "text/plain": [
       "⎛⎡1  0  0  2 ⎤           ⎞\n",
       "⎜⎢           ⎥           ⎟\n",
       "⎜⎢0  1  0  1 ⎥, (0, 1, 2)⎟\n",
       "⎜⎢           ⎥           ⎟\n",
       "⎝⎣0  0  1  -2⎦           ⎠"
      ]
     },
     "execution_count": 5,
     "metadata": {},
     "output_type": "execute_result"
    }
   ],
   "source": [
    "A_augmented.rref() # The rref() method returns the reduced row-echelon form"
   ]
  },
  {
   "cell_type": "markdown",
   "metadata": {},
   "source": [
    "+ So row one reads as follows\n",
    "$$ 1x + 0y + 0z = 2 \\\\ x=2 $$"
   ]
  },
  {
   "cell_type": "markdown",
   "metadata": {},
   "source": [
    "## Elimination matrices"
   ]
  },
  {
   "cell_type": "markdown",
   "metadata": {},
   "source": [
    "+ Matrices can only be multiplied by each other if in order we have the first column size equal the second row size\n",
    "+ Rows are usually called *m* and columns *n*\n",
    "+ So, our augmented matrix above will be *m* &times; *n* = 3 &times; 4\n",
    "+ Let's look at how matrices are multiplied by looking at two small matrices\n",
    "$$ \\begin{bmatrix} {a}_{11}&{a}_{12}\\\\{a}_{21}&{a}_{22} \\end{bmatrix}\\begin{bmatrix} {b}_{11}&{b}_{12}\\\\{b}_{21}&{b}_{22} \\end{bmatrix} $$\n",
    "+ The subscripts refer to row and column position, i.e. 21 means row 2 column 1\n",
    "+ We see that we have a 2 &times; 2 matrix times a 2 &times; 2 matrix\n",
    "    + The *inner* two values are the same (2 and 2), so this multiplication is allowed\n",
    "    + The resultant matrix will have the size equal to the *outer* two values (first row and last columns); here also 2  and 2\n",
    "+ So let's look at position 11 (row 1 and column 1)\n",
    "    + To get this we take the entries in row 1 of the first matrix and multiply them by the entries in the first column of the second matrix\n",
    "    + We do this element by element and add the multiplication of each set of separate elements tow each other\n",
    "    + The python code below shows you exactly how this is done"
   ]
  },
  {
   "cell_type": "code",
   "execution_count": 6,
   "metadata": {},
   "outputs": [],
   "source": [
    "a11, a12, a21, a22, b11, b12, b21, b22 = symbols('a11 a12 a21 a22 b11 b12 b21 b22')"
   ]
  },
  {
   "cell_type": "code",
   "execution_count": 7,
   "metadata": {},
   "outputs": [
    {
     "data": {
      "text/latex": [
       "$$\\left ( \\left[\\begin{matrix}a_{11} & a_{12}\\\\a_{21} & a_{22}\\end{matrix}\\right], \\quad \\left[\\begin{matrix}b_{11} & b_{12}\\\\b_{21} & b_{22}\\end{matrix}\\right]\\right )$$"
      ],
      "text/plain": [
       "⎛⎡a₁₁  a₁₂⎤  ⎡b₁₁  b₁₂⎤⎞\n",
       "⎜⎢        ⎥, ⎢        ⎥⎟\n",
       "⎝⎣a₂₁  a₂₂⎦  ⎣b₂₁  b₂₂⎦⎠"
      ]
     },
     "execution_count": 7,
     "metadata": {},
     "output_type": "execute_result"
    }
   ],
   "source": [
    "A = Matrix([[a11, a12], [a21, a22]])\n",
    "B = Matrix([[b11, b12], [b21, b22]])\n",
    "A, B"
   ]
  },
  {
   "cell_type": "code",
   "execution_count": 8,
   "metadata": {},
   "outputs": [
    {
     "data": {
      "text/latex": [
       "$$\\left[\\begin{matrix}a_{11} b_{11} + a_{12} b_{21} & a_{11} b_{12} + a_{12} b_{22}\\\\a_{21} b_{11} + a_{22} b_{21} & a_{21} b_{12} + a_{22} b_{22}\\end{matrix}\\right]$$"
      ],
      "text/plain": [
       "⎡a₁₁⋅b₁₁ + a₁₂⋅b₂₁  a₁₁⋅b₁₂ + a₁₂⋅b₂₂⎤\n",
       "⎢                                    ⎥\n",
       "⎣a₂₁⋅b₁₁ + a₂₂⋅b₂₁  a₂₁⋅b₁₂ + a₂₂⋅b₂₂⎦"
      ]
     },
     "execution_count": 8,
     "metadata": {},
     "output_type": "execute_result"
    }
   ],
   "source": [
    "A * B"
   ]
  },
  {
   "cell_type": "markdown",
   "metadata": {},
   "source": [
    "+ Let's constrain ourselves to the matrix of coefficients (this discards the right-hand side from the augmented matrix above)"
   ]
  },
  {
   "cell_type": "code",
   "execution_count": 9,
   "metadata": {},
   "outputs": [
    {
     "data": {
      "text/latex": [
       "$$\\left[\\begin{matrix}1 & 2 & 1\\\\3 & 8 & 1\\\\0 & 4 & 1\\end{matrix}\\right]$$"
      ],
      "text/plain": [
       "⎡1  2  1⎤\n",
       "⎢       ⎥\n",
       "⎢3  8  1⎥\n",
       "⎢       ⎥\n",
       "⎣0  4  1⎦"
      ]
     },
     "execution_count": 9,
     "metadata": {},
     "output_type": "execute_result"
    }
   ],
   "source": [
    "A = Matrix([[1, 2, 1], [3, 8, 1], [0, 4, 1]]) # I use the same computer variable above, which\n",
    "# will change its value in the computer memory\n",
    "A # A 3 by 3 matrix, which we call square"
   ]
  },
  {
   "cell_type": "markdown",
   "metadata": {},
   "source": [
    "+ The identity matrix is akin to the number 1, i.e. multiplying by it leaves everything unchanged\n",
    "+ It has 1<sup>'s</sup> along what is called the main diagonal and 0<sup>'s</sup> everywhere else"
   ]
  },
  {
   "cell_type": "code",
   "execution_count": 10,
   "metadata": {},
   "outputs": [
    {
     "data": {
      "text/latex": [
       "$$\\left[\\begin{matrix}1 & 0 & 0\\\\0 & 1 & 0\\\\0 & 0 & 1\\end{matrix}\\right]$$"
      ],
      "text/plain": [
       "⎡1  0  0⎤\n",
       "⎢       ⎥\n",
       "⎢0  1  0⎥\n",
       "⎢       ⎥\n",
       "⎣0  0  1⎦"
      ]
     },
     "execution_count": 10,
     "metadata": {},
     "output_type": "execute_result"
    }
   ],
   "source": [
    "I = eye(3) # Identity matrices are always square and the argument\n",
    "# here is 3, so it is a 3 by 3 matrix\n",
    "I # Note what the main diagonal is"
   ]
  },
  {
   "cell_type": "markdown",
   "metadata": {},
   "source": [
    "+ Let's multiply this by A"
   ]
  },
  {
   "cell_type": "code",
   "execution_count": 11,
   "metadata": {},
   "outputs": [
    {
     "data": {
      "text/latex": [
       "$$\\left[\\begin{matrix}1 & 2 & 1\\\\3 & 8 & 1\\\\0 & 4 & 1\\end{matrix}\\right]$$"
      ],
      "text/plain": [
       "⎡1  2  1⎤\n",
       "⎢       ⎥\n",
       "⎢3  8  1⎥\n",
       "⎢       ⎥\n",
       "⎣0  4  1⎦"
      ]
     },
     "execution_count": 11,
     "metadata": {},
     "output_type": "execute_result"
    }
   ],
   "source": [
    "I * A # Nothing will change"
   ]
  },
  {
   "cell_type": "markdown",
   "metadata": {},
   "source": [
    "+ To get rid of the leading 3 in row 2 (because we want a zero under the pivot 1 in row 1), we multiplied row 1 by 3 and subtracted that from row 2\n",
    "+ Interestingly enough we can do something to this identity matrix that when multiplied by A will results in the first step we have above\n",
    "+ Since we required to subtract 3 times the first row from the 2 (it's all about that 3 in row 2, column 1), we can do the following"
   ]
  },
  {
   "cell_type": "code",
   "execution_count": 12,
   "metadata": {},
   "outputs": [
    {
     "data": {
      "text/latex": [
       "$$\\left[\\begin{matrix}1 & 0 & 0\\\\-3 & 1 & 0\\\\0 & 0 & 1\\end{matrix}\\right]$$"
      ],
      "text/plain": [
       "⎡1   0  0⎤\n",
       "⎢        ⎥\n",
       "⎢-3  1  0⎥\n",
       "⎢        ⎥\n",
       "⎣0   0  1⎦"
      ]
     },
     "execution_count": 12,
     "metadata": {},
     "output_type": "execute_result"
    }
   ],
   "source": [
    "E21 = Matrix([[1, 0, 0], [-3, 1, 0], [0, 0, 1]])\n",
    "E21 # 21 because we are working on row 2, column 1"
   ]
  },
  {
   "cell_type": "markdown",
   "metadata": {},
   "source": [
    "+ That gives us the required 3 times row 1 and the negative shows that we subtract (add the negative)\n",
    "+ It's a thing of beauty"
   ]
  },
  {
   "cell_type": "code",
   "execution_count": 13,
   "metadata": {},
   "outputs": [
    {
     "data": {
      "text/latex": [
       "$$\\left[\\begin{matrix}1 & 2 & 1\\\\0 & 2 & -2\\\\0 & 4 & 1\\end{matrix}\\right]$$"
      ],
      "text/plain": [
       "⎡1  2  1 ⎤\n",
       "⎢        ⎥\n",
       "⎢0  2  -2⎥\n",
       "⎢        ⎥\n",
       "⎣0  4  1 ⎦"
      ]
     },
     "execution_count": 13,
     "metadata": {},
     "output_type": "execute_result"
    }
   ],
   "source": [
    "E21 * A"
   ]
  },
  {
   "cell_type": "markdown",
   "metadata": {},
   "source": [
    "+ Just what we wanted\n",
    "+ E1 is called the first elimination matrix"
   ]
  },
  {
   "cell_type": "markdown",
   "metadata": {},
   "source": [
    "+ Let's do something to the identity matrix to get rif of the 4 in row 3 column 2\n",
    "+ It would require 2 times row 2 subtracted from row 3\n",
    "+ Look carefully at the positions"
   ]
  },
  {
   "cell_type": "code",
   "execution_count": 14,
   "metadata": {},
   "outputs": [
    {
     "data": {
      "text/latex": [
       "$$\\left[\\begin{matrix}1 & 0 & 0\\\\0 & 1 & 0\\\\0 & -2 & 1\\end{matrix}\\right]$$"
      ],
      "text/plain": [
       "⎡1  0   0⎤\n",
       "⎢        ⎥\n",
       "⎢0  1   0⎥\n",
       "⎢        ⎥\n",
       "⎣0  -2  1⎦"
      ]
     },
     "execution_count": 14,
     "metadata": {},
     "output_type": "execute_result"
    }
   ],
   "source": [
    "E32 = Matrix([[1, 0, 0], [0, 1, 0], [0, -2, 1]])\n",
    "E32"
   ]
  },
  {
   "cell_type": "code",
   "execution_count": 15,
   "metadata": {},
   "outputs": [
    {
     "data": {
      "text/latex": [
       "$$\\left[\\begin{matrix}1 & 2 & 1\\\\0 & 2 & -2\\\\0 & 0 & 5\\end{matrix}\\right]$$"
      ],
      "text/plain": [
       "⎡1  2  1 ⎤\n",
       "⎢        ⎥\n",
       "⎢0  2  -2⎥\n",
       "⎢        ⎥\n",
       "⎣0  0  5 ⎦"
      ]
     },
     "execution_count": 15,
     "metadata": {},
     "output_type": "execute_result"
    }
   ],
   "source": [
    "E32 * (E21 * A)"
   ]
  },
  {
   "cell_type": "markdown",
   "metadata": {},
   "source": [
    "+ Spot on!\n",
    "+ We now have nice pivots (leading non-zeros), with nothing under them\n",
    "+ As a tip, try not to get fractions involved\n",
    "+ As far as the other two row operations are concerned, we can either exchange rows in the identity matrix or multiply the required row by a scalar constant"
   ]
  },
  {
   "cell_type": "markdown",
   "metadata": {},
   "source": [
    "+ Look at what happens we multiply E2 and E1"
   ]
  },
  {
   "cell_type": "code",
   "execution_count": 16,
   "metadata": {},
   "outputs": [
    {
     "data": {
      "text/latex": [
       "$$\\left[\\begin{matrix}1 & 0 & 0\\\\-3 & 1 & 0\\\\6 & -2 & 1\\end{matrix}\\right]$$"
      ],
      "text/plain": [
       "⎡1   0   0⎤\n",
       "⎢         ⎥\n",
       "⎢-3  1   0⎥\n",
       "⎢         ⎥\n",
       "⎣6   -2  1⎦"
      ]
     },
     "execution_count": 16,
     "metadata": {},
     "output_type": "execute_result"
    }
   ],
   "source": [
    "L_inv = E32 * E21\n",
    "L_inv"
   ]
  },
  {
   "cell_type": "markdown",
   "metadata": {},
   "source": [
    "+ Later we'll call this matrix the inverse of L\n",
    "+ It is in triangular form, in this case lower triangular (note all the zeros above the main diagonal)"
   ]
  },
  {
   "cell_type": "code",
   "execution_count": 17,
   "metadata": {},
   "outputs": [
    {
     "data": {
      "text/latex": [
       "$$\\left[\\begin{matrix}1 & 2 & 1\\\\0 & 2 & -2\\\\0 & 0 & 5\\end{matrix}\\right]$$"
      ],
      "text/plain": [
       "⎡1  2  1 ⎤\n",
       "⎢        ⎥\n",
       "⎢0  2  -2⎥\n",
       "⎢        ⎥\n",
       "⎣0  0  5 ⎦"
      ]
     },
     "execution_count": 17,
     "metadata": {},
     "output_type": "execute_result"
    }
   ],
   "source": [
    "L_inv * A # Later we'll call this result the matrix U"
   ]
  },
  {
   "cell_type": "markdown",
   "metadata": {},
   "source": [
    "+ We now have the following\n",
    "$$ {L}^{-1}{A}={U} $$"
   ]
  },
  {
   "cell_type": "markdown",
   "metadata": {},
   "source": [
    "+ If we can get the inverse of the inverse of L we'll have the following\n",
    "$$ {L}{L}^{-1}{A}={L}{U} $$\n",
    "+ The inverse of a square matrix multiplied by itself gives the identity matrix\n",
    "$$ {I}{A}={L}{U} \\\\ {A}={L}{U} $$"
   ]
  },
  {
   "cell_type": "markdown",
   "metadata": {},
   "source": [
    "+ We can construct L from E32 and E21 above\n",
    "$$ {E}_{21}^{-1}{E}_{32}^{-1}{E}_{32}{E}_{21}={E}_{21}^{-1}{E}_{32}^{-1}{U} \\\\ \\therefore {E}_{21}^{-1}{E}_{32}^{-1}={L} $$"
   ]
  },
  {
   "cell_type": "code",
   "execution_count": 18,
   "metadata": {},
   "outputs": [
    {
     "data": {
      "text/latex": [
       "$$\\left[\\begin{matrix}1 & 0 & 0\\\\3 & 1 & 0\\\\0 & 0 & 1\\end{matrix}\\right]$$"
      ],
      "text/plain": [
       "⎡1  0  0⎤\n",
       "⎢       ⎥\n",
       "⎢3  1  0⎥\n",
       "⎢       ⎥\n",
       "⎣0  0  1⎦"
      ]
     },
     "execution_count": 18,
     "metadata": {},
     "output_type": "execute_result"
    }
   ],
   "source": [
    "E21.inv() # The inverse is easy to understand in words\n",
    "# We just want to add 3 instead of subtracting 3"
   ]
  },
  {
   "cell_type": "code",
   "execution_count": 19,
   "metadata": {},
   "outputs": [
    {
     "data": {
      "text/latex": [
       "$$\\left[\\begin{matrix}1 & 0 & 0\\\\0 & 1 & 0\\\\0 & 2 & 1\\end{matrix}\\right]$$"
      ],
      "text/plain": [
       "⎡1  0  0⎤\n",
       "⎢       ⎥\n",
       "⎢0  1  0⎥\n",
       "⎢       ⎥\n",
       "⎣0  2  1⎦"
      ]
     },
     "execution_count": 19,
     "metadata": {},
     "output_type": "execute_result"
    }
   ],
   "source": [
    "E32.inv()"
   ]
  },
  {
   "cell_type": "code",
   "execution_count": 20,
   "metadata": {},
   "outputs": [
    {
     "data": {
      "text/latex": [
       "$$\\left[\\begin{matrix}1 & 0 & 0\\\\3 & 1 & 0\\\\0 & 2 & 1\\end{matrix}\\right]$$"
      ],
      "text/plain": [
       "⎡1  0  0⎤\n",
       "⎢       ⎥\n",
       "⎢3  1  0⎥\n",
       "⎢       ⎥\n",
       "⎣0  2  1⎦"
      ]
     },
     "execution_count": 20,
     "metadata": {},
     "output_type": "execute_result"
    }
   ],
   "source": [
    "E21.inv() * E32.inv()"
   ]
  },
  {
   "cell_type": "markdown",
   "metadata": {},
   "source": [
    "+ This is exactly the inverse of our inverse of L above"
   ]
  },
  {
   "cell_type": "code",
   "execution_count": 21,
   "metadata": {},
   "outputs": [
    {
     "data": {
      "text/latex": [
       "$$\\left[\\begin{matrix}1 & 0 & 0\\\\3 & 1 & 0\\\\0 & 2 & 1\\end{matrix}\\right]$$"
      ],
      "text/plain": [
       "⎡1  0  0⎤\n",
       "⎢       ⎥\n",
       "⎢3  1  0⎥\n",
       "⎢       ⎥\n",
       "⎣0  2  1⎦"
      ]
     },
     "execution_count": 21,
     "metadata": {},
     "output_type": "execute_result"
    }
   ],
   "source": [
    "L_inv.inv()"
   ]
  },
  {
   "cell_type": "markdown",
   "metadata": {},
   "source": [
    "+ This is called LU-decomposition of A\n",
    "+ More about this in two chapter from now (I_05_LU_decomposition)"
   ]
  },
  {
   "cell_type": "markdown",
   "metadata": {},
   "source": [
    "+ As an aside we can also do elementary column operation, but then we have to multiply on the right of A and not on the left as above"
   ]
  },
  {
   "cell_type": "markdown",
   "metadata": {
    "collapsed": true
   },
   "source": [
    "## Example problems"
   ]
  },
  {
   "cell_type": "markdown",
   "metadata": {},
   "source": [
    "### Example problem 1"
   ]
  },
  {
   "cell_type": "markdown",
   "metadata": {},
   "source": [
    "+ Solve the following linear set (set of linear equations)\n",
    "$$ x-y-z+u=0 \\\\ 2x+2z=8 \\\\ -y-2z=-8 \\\\ 3x-3y-2z+4u=7 $$"
   ]
  },
  {
   "cell_type": "markdown",
   "metadata": {},
   "source": [
    "#### Solution"
   ]
  },
  {
   "cell_type": "code",
   "execution_count": 22,
   "metadata": {},
   "outputs": [
    {
     "data": {
      "text/latex": [
       "$$\\left[\\begin{matrix}1 & -1 & -1 & 1 & 0\\\\2 & 0 & 2 & 0 & 8\\\\0 & -1 & -2 & 0 & -8\\\\3 & -3 & -2 & 4 & 7\\end{matrix}\\right]$$"
      ],
      "text/plain": [
       "⎡1  -1  -1  1  0 ⎤\n",
       "⎢                ⎥\n",
       "⎢2  0   2   0  8 ⎥\n",
       "⎢                ⎥\n",
       "⎢0  -1  -2  0  -8⎥\n",
       "⎢                ⎥\n",
       "⎣3  -3  -2  4  7 ⎦"
      ]
     },
     "execution_count": 22,
     "metadata": {},
     "output_type": "execute_result"
    }
   ],
   "source": [
    "A_augm = Matrix([[1, -1, -1, 1, 0], [2, 0, 2, 0, 8], [0, -1, -2, 0, -8], [3, -3, -2, 4, 7]])\n",
    "A_augm"
   ]
  },
  {
   "cell_type": "code",
   "execution_count": 23,
   "metadata": {},
   "outputs": [
    {
     "data": {
      "text/latex": [
       "$$\\left ( \\left[\\begin{matrix}1 & 0 & 0 & 0 & 1\\\\0 & 1 & 0 & 0 & 2\\\\0 & 0 & 1 & 0 & 3\\\\0 & 0 & 0 & 1 & 4\\end{matrix}\\right], \\quad \\left ( 0, \\quad 1, \\quad 2, \\quad 3\\right )\\right )$$"
      ],
      "text/plain": [
       "⎛⎡1  0  0  0  1⎤              ⎞\n",
       "⎜⎢             ⎥              ⎟\n",
       "⎜⎢0  1  0  0  2⎥              ⎟\n",
       "⎜⎢             ⎥, (0, 1, 2, 3)⎟\n",
       "⎜⎢0  0  1  0  3⎥              ⎟\n",
       "⎜⎢             ⎥              ⎟\n",
       "⎝⎣0  0  0  1  4⎦              ⎠"
      ]
     },
     "execution_count": 23,
     "metadata": {},
     "output_type": "execute_result"
    }
   ],
   "source": [
    "A_augm.rref()"
   ]
  },
  {
   "cell_type": "markdown",
   "metadata": {
    "collapsed": true
   },
   "source": [
    "+ Whoa! That was easy!\n",
    "+ Let's take it a notch down and do some elementary matrices\n",
    "+ First off, we want the matrix of coefficients"
   ]
  },
  {
   "cell_type": "code",
   "execution_count": 24,
   "metadata": {},
   "outputs": [
    {
     "data": {
      "text/latex": [
       "$$\\left[\\begin{matrix}1 & -1 & -1 & 1\\\\2 & 0 & 2 & 0\\\\0 & -1 & -2 & 0\\\\3 & -3 & -2 & 4\\end{matrix}\\right]$$"
      ],
      "text/plain": [
       "⎡1  -1  -1  1⎤\n",
       "⎢            ⎥\n",
       "⎢2  0   2   0⎥\n",
       "⎢            ⎥\n",
       "⎢0  -1  -2  0⎥\n",
       "⎢            ⎥\n",
       "⎣3  -3  -2  4⎦"
      ]
     },
     "execution_count": 24,
     "metadata": {},
     "output_type": "execute_result"
    }
   ],
   "source": [
    "A = Matrix([[1, -1, -1, 1], [2, 0, 2, 0], [0, -1, -2, 0], [3, -3, -2, 4]])\n",
    "A"
   ]
  },
  {
   "cell_type": "markdown",
   "metadata": {},
   "source": [
    "+ Now we need to get rid of the 2 in position row 2, column 1\n",
    "+ We start by numbering the elementary matrix by this position and modifying the identity matrix"
   ]
  },
  {
   "cell_type": "code",
   "execution_count": 25,
   "metadata": {},
   "outputs": [
    {
     "data": {
      "text/latex": [
       "$$\\left[\\begin{matrix}1 & -1 & -1 & 1\\\\0 & 2 & 4 & -2\\\\0 & -1 & -2 & 0\\\\3 & -3 & -2 & 4\\end{matrix}\\right]$$"
      ],
      "text/plain": [
       "⎡1  -1  -1  1 ⎤\n",
       "⎢             ⎥\n",
       "⎢0  2   4   -2⎥\n",
       "⎢             ⎥\n",
       "⎢0  -1  -2  0 ⎥\n",
       "⎢             ⎥\n",
       "⎣3  -3  -2  4 ⎦"
      ]
     },
     "execution_count": 25,
     "metadata": {},
     "output_type": "execute_result"
    }
   ],
   "source": [
    "E21 = Matrix([[1, 0, 0, 0], [-2, 1, 0, 0], [0, 0, 1, 0], [0, 0, 0, 1]])\n",
    "E21 * A"
   ]
  },
  {
   "cell_type": "markdown",
   "metadata": {},
   "source": [
    "+ Now for position row 3, column 2\n",
    "+ We have to use row 2 to do this\n",
    "+ If we used row 1, we would introduce a non-zero into position row 3, column 1"
   ]
  },
  {
   "cell_type": "code",
   "execution_count": 26,
   "metadata": {},
   "outputs": [
    {
     "data": {
      "text/latex": [
       "$$\\left[\\begin{matrix}1 & -1 & -1 & 1\\\\0 & 2 & 4 & -2\\\\0 & 0 & 0 & -1\\\\3 & -3 & -2 & 4\\end{matrix}\\right]$$"
      ],
      "text/plain": [
       "⎡1  -1  -1  1 ⎤\n",
       "⎢             ⎥\n",
       "⎢0  2   4   -2⎥\n",
       "⎢             ⎥\n",
       "⎢0  0   0   -1⎥\n",
       "⎢             ⎥\n",
       "⎣3  -3  -2  4 ⎦"
      ]
     },
     "execution_count": 26,
     "metadata": {},
     "output_type": "execute_result"
    }
   ],
   "source": [
    "E32 = Matrix([[1, 0, 0, 0], [0, 1, 0, 0], [0, Rational(1, 2), 1, 0], [0, 0, 0, 1]])\n",
    "E32 * (E21 * A)"
   ]
  },
  {
   "cell_type": "markdown",
   "metadata": {},
   "source": [
    "+ Now for the 3 in position row 4, column 1"
   ]
  },
  {
   "cell_type": "code",
   "execution_count": 27,
   "metadata": {},
   "outputs": [
    {
     "data": {
      "text/latex": [
       "$$\\left[\\begin{matrix}1 & -1 & -1 & 1\\\\0 & 2 & 4 & -2\\\\0 & 0 & 0 & -1\\\\0 & 0 & 1 & 1\\end{matrix}\\right]$$"
      ],
      "text/plain": [
       "⎡1  -1  -1  1 ⎤\n",
       "⎢             ⎥\n",
       "⎢0  2   4   -2⎥\n",
       "⎢             ⎥\n",
       "⎢0  0   0   -1⎥\n",
       "⎢             ⎥\n",
       "⎣0  0   1   1 ⎦"
      ]
     },
     "execution_count": 27,
     "metadata": {},
     "output_type": "execute_result"
    }
   ],
   "source": [
    "E41 = Matrix([[1, 0, 0, 0], [0, 1, 0, 0], [0, 0, 1, 0], [-3, 0, 0, 1]])\n",
    "E41 * (E32 * E21 * A)"
   ]
  },
  {
   "cell_type": "markdown",
   "metadata": {},
   "source": [
    "+ Let's exchange rows 3 and 4"
   ]
  },
  {
   "cell_type": "code",
   "execution_count": 28,
   "metadata": {},
   "outputs": [
    {
     "data": {
      "text/latex": [
       "$$\\left[\\begin{matrix}1 & -1 & -1 & 1\\\\0 & 2 & 4 & -2\\\\0 & 0 & 1 & 1\\\\0 & 0 & 0 & -1\\end{matrix}\\right]$$"
      ],
      "text/plain": [
       "⎡1  -1  -1  1 ⎤\n",
       "⎢             ⎥\n",
       "⎢0  2   4   -2⎥\n",
       "⎢             ⎥\n",
       "⎢0  0   1   1 ⎥\n",
       "⎢             ⎥\n",
       "⎣0  0   0   -1⎦"
      ]
     },
     "execution_count": 28,
     "metadata": {},
     "output_type": "execute_result"
    }
   ],
   "source": [
    "Ee34 = Matrix([[1, 0, 0, 0], [0, 1, 0, 0], [0, 0, 0, 1], [0, 0, 1, 0]])\n",
    "Ee34 * E41 * E32 * E21 * A"
   ]
  },
  {
   "cell_type": "markdown",
   "metadata": {},
   "source": [
    "+ Let's see where that leaves **b**, after all, what we do to the left, we must do to the right\n",
    "$$ {Ee}_{34}\\times{E}_{41}\\times{E}_{32}\\times{E}_{21}{A}{x}={Ee}_{34}\\times{E}_{41}\\times{E}_{32}\\times{E}_{21}{b} $$"
   ]
  },
  {
   "cell_type": "code",
   "execution_count": 29,
   "metadata": {},
   "outputs": [
    {
     "data": {
      "text/latex": [
       "$$\\left[\\begin{matrix}0\\\\8\\\\-8\\\\7\\end{matrix}\\right]$$"
      ],
      "text/plain": [
       "⎡0 ⎤\n",
       "⎢  ⎥\n",
       "⎢8 ⎥\n",
       "⎢  ⎥\n",
       "⎢-8⎥\n",
       "⎢  ⎥\n",
       "⎣7 ⎦"
      ]
     },
     "execution_count": 29,
     "metadata": {},
     "output_type": "execute_result"
    }
   ],
   "source": [
    "b_vect = Matrix([[0], [8], [-8], [7]])\n",
    "b_vect"
   ]
  },
  {
   "cell_type": "code",
   "execution_count": 30,
   "metadata": {},
   "outputs": [
    {
     "data": {
      "text/latex": [
       "$$\\left[\\begin{matrix}0\\\\8\\\\7\\\\-4\\end{matrix}\\right]$$"
      ],
      "text/plain": [
       "⎡0 ⎤\n",
       "⎢  ⎥\n",
       "⎢8 ⎥\n",
       "⎢  ⎥\n",
       "⎢7 ⎥\n",
       "⎢  ⎥\n",
       "⎣-4⎦"
      ]
     },
     "execution_count": 30,
     "metadata": {},
     "output_type": "execute_result"
    }
   ],
   "source": [
    "Ee34 * E41 * E32 * E21 * b_vect"
   ]
  },
  {
   "cell_type": "markdown",
   "metadata": {},
   "source": [
    "+ Let's print them next to each other on the screen"
   ]
  },
  {
   "cell_type": "code",
   "execution_count": 31,
   "metadata": {},
   "outputs": [
    {
     "data": {
      "text/latex": [
       "$$\\left ( \\left[\\begin{matrix}1 & -1 & -1 & 1\\\\0 & 2 & 4 & -2\\\\0 & 0 & 1 & 1\\\\0 & 0 & 0 & -1\\end{matrix}\\right], \\quad \\left[\\begin{matrix}0\\\\8\\\\7\\\\-4\\end{matrix}\\right]\\right )$$"
      ],
      "text/plain": [
       "⎛⎡1  -1  -1  1 ⎤  ⎡0 ⎤⎞\n",
       "⎜⎢             ⎥  ⎢  ⎥⎟\n",
       "⎜⎢0  2   4   -2⎥  ⎢8 ⎥⎟\n",
       "⎜⎢             ⎥, ⎢  ⎥⎟\n",
       "⎜⎢0  0   1   1 ⎥  ⎢7 ⎥⎟\n",
       "⎜⎢             ⎥  ⎢  ⎥⎟\n",
       "⎝⎣0  0   0   -1⎦  ⎣-4⎦⎠"
      ]
     },
     "execution_count": 31,
     "metadata": {},
     "output_type": "execute_result"
    }
   ],
   "source": [
    "Ee34 * E41 * E32 * E21 * A, Ee34 * E41 * E32 * E21 * b_vect"
   ]
  },
  {
   "cell_type": "markdown",
   "metadata": {},
   "source": [
    "+ So we can simply do back substitution\n",
    "+ We note that -1*u* = -4 and thus *u* = 4\n",
    "+ From here, we work our way back up\n",
    "$$ -1(u)=-4 \\quad \\therefore \\quad u=4 \\\\ 1(z)+1(4) = 7 \\quad \\therefore \\quad z=3 \\\\  2(y) + 4(3) - 2(4) = 8 \\quad \\therefore \\quad y=2 \\\\ 1(x)-1(2)-1(3)+1(4)=0 \\quad \\therefore x=1 $$"
   ]
  },
  {
   "cell_type": "code",
   "execution_count": null,
   "metadata": {
    "collapsed": true
   },
   "outputs": [],
   "source": []
  }
 ],
 "metadata": {
  "kernelspec": {
   "display_name": "Python 3",
   "language": "python",
   "name": "python3"
  },
  "language_info": {
   "codemirror_mode": {
    "name": "ipython",
    "version": 3
   },
   "file_extension": ".py",
   "mimetype": "text/x-python",
   "name": "python",
   "nbconvert_exporter": "python",
   "pygments_lexer": "ipython3",
   "version": "3.6.4"
  }
 },
 "nbformat": 4,
 "nbformat_minor": 1
}
